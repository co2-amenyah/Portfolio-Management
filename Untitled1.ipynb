{
 "cells": [
  {
   "cell_type": "code",
   "execution_count": 1,
   "id": "db03aa4a-cf83-476e-8e44-cdb96a48ae98",
   "metadata": {},
   "outputs": [
    {
     "name": "stdout",
     "output_type": "stream",
     "text": [
      "/Users/CHARLES/.pyenv/versions/portfolio-optimisation-env/bin/python\n"
     ]
    }
   ],
   "source": [
    "import sys\n",
    "print(sys.executable)\n"
   ]
  },
  {
   "cell_type": "code",
   "execution_count": 3,
   "id": "1e26b30f-3f61-4b35-983b-a0618db64f60",
   "metadata": {},
   "outputs": [
    {
     "name": "stdout",
     "output_type": "stream",
     "text": [
      "Requirement already satisfied: stable-baselines3[extra] in /Users/CHARLES/.pyenv/versions/3.8.12/envs/portfolio-optimisation-env/lib/python3.8/site-packages (2.3.2)\n",
      "Requirement already satisfied: gymnasium<0.30,>=0.28.1 in /Users/CHARLES/.pyenv/versions/3.8.12/envs/portfolio-optimisation-env/lib/python3.8/site-packages (from stable-baselines3[extra]) (0.29.1)\n",
      "Requirement already satisfied: numpy>=1.20 in /Users/CHARLES/.pyenv/versions/3.8.12/envs/portfolio-optimisation-env/lib/python3.8/site-packages (from stable-baselines3[extra]) (1.24.3)\n",
      "Requirement already satisfied: torch>=1.13 in /Users/CHARLES/.pyenv/versions/3.8.12/envs/portfolio-optimisation-env/lib/python3.8/site-packages (from stable-baselines3[extra]) (2.3.1)\n",
      "Requirement already satisfied: cloudpickle in /Users/CHARLES/.pyenv/versions/3.8.12/envs/portfolio-optimisation-env/lib/python3.8/site-packages (from stable-baselines3[extra]) (3.0.0)\n",
      "Requirement already satisfied: pandas in /Users/CHARLES/.pyenv/versions/3.8.12/envs/portfolio-optimisation-env/lib/python3.8/site-packages (from stable-baselines3[extra]) (2.0.3)\n",
      "Requirement already satisfied: matplotlib in /Users/CHARLES/.pyenv/versions/3.8.12/envs/portfolio-optimisation-env/lib/python3.8/site-packages (from stable-baselines3[extra]) (3.7.5)\n",
      "Collecting opencv-python (from stable-baselines3[extra])\n",
      "  Using cached opencv_python-4.10.0.84-cp37-abi3-macosx_11_0_arm64.whl.metadata (20 kB)\n",
      "Collecting pygame (from stable-baselines3[extra])\n",
      "  Using cached pygame-2.6.0-cp38-cp38-macosx_11_0_arm64.whl.metadata (12 kB)\n",
      "Requirement already satisfied: tensorboard>=2.9.1 in /Users/CHARLES/.pyenv/versions/3.8.12/envs/portfolio-optimisation-env/lib/python3.8/site-packages (from stable-baselines3[extra]) (2.13.0)\n",
      "Requirement already satisfied: psutil in /Users/CHARLES/.pyenv/versions/3.8.12/envs/portfolio-optimisation-env/lib/python3.8/site-packages (from stable-baselines3[extra]) (6.0.0)\n",
      "Collecting tqdm (from stable-baselines3[extra])\n",
      "  Using cached tqdm-4.66.4-py3-none-any.whl.metadata (57 kB)\n",
      "Requirement already satisfied: rich in /Users/CHARLES/.pyenv/versions/3.8.12/envs/portfolio-optimisation-env/lib/python3.8/site-packages (from stable-baselines3[extra]) (13.7.1)\n",
      "Collecting shimmy~=1.3.0 (from shimmy[atari]~=1.3.0; extra == \"extra\"->stable-baselines3[extra])\n",
      "  Using cached Shimmy-1.3.0-py3-none-any.whl.metadata (3.7 kB)\n",
      "Requirement already satisfied: pillow in /Users/CHARLES/.pyenv/versions/3.8.12/envs/portfolio-optimisation-env/lib/python3.8/site-packages (from stable-baselines3[extra]) (10.4.0)\n",
      "Collecting autorom~=0.6.1 (from autorom[accept-rom-license]~=0.6.1; extra == \"extra\"->stable-baselines3[extra])\n",
      "  Using cached AutoROM-0.6.1-py3-none-any.whl.metadata (2.4 kB)\n",
      "Requirement already satisfied: click in /Users/CHARLES/.pyenv/versions/3.8.12/envs/portfolio-optimisation-env/lib/python3.8/site-packages (from autorom~=0.6.1->autorom[accept-rom-license]~=0.6.1; extra == \"extra\"->stable-baselines3[extra]) (8.1.7)\n",
      "Requirement already satisfied: requests in /Users/CHARLES/.pyenv/versions/3.8.12/envs/portfolio-optimisation-env/lib/python3.8/site-packages (from autorom~=0.6.1->autorom[accept-rom-license]~=0.6.1; extra == \"extra\"->stable-baselines3[extra]) (2.32.3)\n",
      "Requirement already satisfied: importlib-resources in /Users/CHARLES/.pyenv/versions/3.8.12/envs/portfolio-optimisation-env/lib/python3.8/site-packages (from autorom~=0.6.1->autorom[accept-rom-license]~=0.6.1; extra == \"extra\"->stable-baselines3[extra]) (6.4.0)\n",
      "Collecting AutoROM.accept-rom-license (from autorom[accept-rom-license]~=0.6.1; extra == \"extra\"->stable-baselines3[extra])\n",
      "  Using cached AutoROM.accept_rom_license-0.6.1-py3-none-any.whl\n",
      "Requirement already satisfied: typing-extensions>=4.3.0 in /Users/CHARLES/.pyenv/versions/3.8.12/envs/portfolio-optimisation-env/lib/python3.8/site-packages (from gymnasium<0.30,>=0.28.1->stable-baselines3[extra]) (4.12.2)\n",
      "Requirement already satisfied: farama-notifications>=0.0.1 in /Users/CHARLES/.pyenv/versions/3.8.12/envs/portfolio-optimisation-env/lib/python3.8/site-packages (from gymnasium<0.30,>=0.28.1->stable-baselines3[extra]) (0.0.4)\n",
      "Requirement already satisfied: importlib-metadata>=4.8.0 in /Users/CHARLES/.pyenv/versions/3.8.12/envs/portfolio-optimisation-env/lib/python3.8/site-packages (from gymnasium<0.30,>=0.28.1->stable-baselines3[extra]) (8.0.0)\n",
      "Collecting ale-py~=0.8.1 (from shimmy[atari]~=1.3.0; extra == \"extra\"->stable-baselines3[extra])\n",
      "  Using cached ale_py-0.8.1-cp38-cp38-macosx_11_0_arm64.whl.metadata (8.1 kB)\n",
      "Requirement already satisfied: absl-py>=0.4 in /Users/CHARLES/.pyenv/versions/3.8.12/envs/portfolio-optimisation-env/lib/python3.8/site-packages (from tensorboard>=2.9.1->stable-baselines3[extra]) (2.1.0)\n",
      "Requirement already satisfied: grpcio>=1.48.2 in /Users/CHARLES/.pyenv/versions/3.8.12/envs/portfolio-optimisation-env/lib/python3.8/site-packages (from tensorboard>=2.9.1->stable-baselines3[extra]) (1.64.1)\n",
      "Requirement already satisfied: google-auth<3,>=1.6.3 in /Users/CHARLES/.pyenv/versions/3.8.12/envs/portfolio-optimisation-env/lib/python3.8/site-packages (from tensorboard>=2.9.1->stable-baselines3[extra]) (2.31.0)\n",
      "Requirement already satisfied: google-auth-oauthlib<1.1,>=0.5 in /Users/CHARLES/.pyenv/versions/3.8.12/envs/portfolio-optimisation-env/lib/python3.8/site-packages (from tensorboard>=2.9.1->stable-baselines3[extra]) (1.0.0)\n",
      "Requirement already satisfied: markdown>=2.6.8 in /Users/CHARLES/.pyenv/versions/3.8.12/envs/portfolio-optimisation-env/lib/python3.8/site-packages (from tensorboard>=2.9.1->stable-baselines3[extra]) (3.6)\n",
      "Requirement already satisfied: protobuf>=3.19.6 in /Users/CHARLES/.pyenv/versions/3.8.12/envs/portfolio-optimisation-env/lib/python3.8/site-packages (from tensorboard>=2.9.1->stable-baselines3[extra]) (4.25.3)\n",
      "Requirement already satisfied: setuptools>=41.0.0 in /Users/CHARLES/.pyenv/versions/3.8.12/envs/portfolio-optimisation-env/lib/python3.8/site-packages (from tensorboard>=2.9.1->stable-baselines3[extra]) (56.0.0)\n",
      "Requirement already satisfied: tensorboard-data-server<0.8.0,>=0.7.0 in /Users/CHARLES/.pyenv/versions/3.8.12/envs/portfolio-optimisation-env/lib/python3.8/site-packages (from tensorboard>=2.9.1->stable-baselines3[extra]) (0.7.2)\n",
      "Requirement already satisfied: werkzeug>=1.0.1 in /Users/CHARLES/.pyenv/versions/3.8.12/envs/portfolio-optimisation-env/lib/python3.8/site-packages (from tensorboard>=2.9.1->stable-baselines3[extra]) (3.0.3)\n",
      "Requirement already satisfied: wheel>=0.26 in /Users/CHARLES/.pyenv/versions/3.8.12/envs/portfolio-optimisation-env/lib/python3.8/site-packages (from tensorboard>=2.9.1->stable-baselines3[extra]) (0.43.0)\n",
      "Requirement already satisfied: filelock in /Users/CHARLES/.pyenv/versions/3.8.12/envs/portfolio-optimisation-env/lib/python3.8/site-packages (from torch>=1.13->stable-baselines3[extra]) (3.15.4)\n",
      "Requirement already satisfied: sympy in /Users/CHARLES/.pyenv/versions/3.8.12/envs/portfolio-optimisation-env/lib/python3.8/site-packages (from torch>=1.13->stable-baselines3[extra]) (1.12.1)\n",
      "Requirement already satisfied: networkx in /Users/CHARLES/.pyenv/versions/3.8.12/envs/portfolio-optimisation-env/lib/python3.8/site-packages (from torch>=1.13->stable-baselines3[extra]) (3.1)\n",
      "Requirement already satisfied: jinja2 in /Users/CHARLES/.pyenv/versions/3.8.12/envs/portfolio-optimisation-env/lib/python3.8/site-packages (from torch>=1.13->stable-baselines3[extra]) (3.1.4)\n",
      "Requirement already satisfied: fsspec in /Users/CHARLES/.pyenv/versions/3.8.12/envs/portfolio-optimisation-env/lib/python3.8/site-packages (from torch>=1.13->stable-baselines3[extra]) (2024.6.1)\n",
      "Requirement already satisfied: contourpy>=1.0.1 in /Users/CHARLES/.pyenv/versions/3.8.12/envs/portfolio-optimisation-env/lib/python3.8/site-packages (from matplotlib->stable-baselines3[extra]) (1.1.1)\n",
      "Requirement already satisfied: cycler>=0.10 in /Users/CHARLES/.pyenv/versions/3.8.12/envs/portfolio-optimisation-env/lib/python3.8/site-packages (from matplotlib->stable-baselines3[extra]) (0.12.1)\n",
      "Requirement already satisfied: fonttools>=4.22.0 in /Users/CHARLES/.pyenv/versions/3.8.12/envs/portfolio-optimisation-env/lib/python3.8/site-packages (from matplotlib->stable-baselines3[extra]) (4.53.1)\n",
      "Requirement already satisfied: kiwisolver>=1.0.1 in /Users/CHARLES/.pyenv/versions/3.8.12/envs/portfolio-optimisation-env/lib/python3.8/site-packages (from matplotlib->stable-baselines3[extra]) (1.4.5)\n",
      "Requirement already satisfied: packaging>=20.0 in /Users/CHARLES/.pyenv/versions/3.8.12/envs/portfolio-optimisation-env/lib/python3.8/site-packages (from matplotlib->stable-baselines3[extra]) (24.1)\n",
      "Requirement already satisfied: pyparsing>=2.3.1 in /Users/CHARLES/.pyenv/versions/3.8.12/envs/portfolio-optimisation-env/lib/python3.8/site-packages (from matplotlib->stable-baselines3[extra]) (3.1.2)\n",
      "Requirement already satisfied: python-dateutil>=2.7 in /Users/CHARLES/.pyenv/versions/3.8.12/envs/portfolio-optimisation-env/lib/python3.8/site-packages (from matplotlib->stable-baselines3[extra]) (2.9.0.post0)\n",
      "Requirement already satisfied: pytz>=2020.1 in /Users/CHARLES/.pyenv/versions/3.8.12/envs/portfolio-optimisation-env/lib/python3.8/site-packages (from pandas->stable-baselines3[extra]) (2024.1)\n",
      "Requirement already satisfied: tzdata>=2022.1 in /Users/CHARLES/.pyenv/versions/3.8.12/envs/portfolio-optimisation-env/lib/python3.8/site-packages (from pandas->stable-baselines3[extra]) (2024.1)\n",
      "Requirement already satisfied: markdown-it-py>=2.2.0 in /Users/CHARLES/.pyenv/versions/3.8.12/envs/portfolio-optimisation-env/lib/python3.8/site-packages (from rich->stable-baselines3[extra]) (3.0.0)\n",
      "Requirement already satisfied: pygments<3.0.0,>=2.13.0 in /Users/CHARLES/.pyenv/versions/3.8.12/envs/portfolio-optimisation-env/lib/python3.8/site-packages (from rich->stable-baselines3[extra]) (2.18.0)\n",
      "Requirement already satisfied: cachetools<6.0,>=2.0.0 in /Users/CHARLES/.pyenv/versions/3.8.12/envs/portfolio-optimisation-env/lib/python3.8/site-packages (from google-auth<3,>=1.6.3->tensorboard>=2.9.1->stable-baselines3[extra]) (5.3.3)\n",
      "Requirement already satisfied: pyasn1-modules>=0.2.1 in /Users/CHARLES/.pyenv/versions/3.8.12/envs/portfolio-optimisation-env/lib/python3.8/site-packages (from google-auth<3,>=1.6.3->tensorboard>=2.9.1->stable-baselines3[extra]) (0.4.0)\n",
      "Requirement already satisfied: rsa<5,>=3.1.4 in /Users/CHARLES/.pyenv/versions/3.8.12/envs/portfolio-optimisation-env/lib/python3.8/site-packages (from google-auth<3,>=1.6.3->tensorboard>=2.9.1->stable-baselines3[extra]) (4.9)\n",
      "Requirement already satisfied: requests-oauthlib>=0.7.0 in /Users/CHARLES/.pyenv/versions/3.8.12/envs/portfolio-optimisation-env/lib/python3.8/site-packages (from google-auth-oauthlib<1.1,>=0.5->tensorboard>=2.9.1->stable-baselines3[extra]) (2.0.0)\n",
      "Requirement already satisfied: zipp>=0.5 in /Users/CHARLES/.pyenv/versions/3.8.12/envs/portfolio-optimisation-env/lib/python3.8/site-packages (from importlib-metadata>=4.8.0->gymnasium<0.30,>=0.28.1->stable-baselines3[extra]) (3.19.2)\n",
      "Requirement already satisfied: mdurl~=0.1 in /Users/CHARLES/.pyenv/versions/3.8.12/envs/portfolio-optimisation-env/lib/python3.8/site-packages (from markdown-it-py>=2.2.0->rich->stable-baselines3[extra]) (0.1.2)\n",
      "Requirement already satisfied: six>=1.5 in /Users/CHARLES/.pyenv/versions/3.8.12/envs/portfolio-optimisation-env/lib/python3.8/site-packages (from python-dateutil>=2.7->matplotlib->stable-baselines3[extra]) (1.16.0)\n",
      "Requirement already satisfied: charset-normalizer<4,>=2 in /Users/CHARLES/.pyenv/versions/3.8.12/envs/portfolio-optimisation-env/lib/python3.8/site-packages (from requests->autorom~=0.6.1->autorom[accept-rom-license]~=0.6.1; extra == \"extra\"->stable-baselines3[extra]) (3.3.2)\n",
      "Requirement already satisfied: idna<4,>=2.5 in /Users/CHARLES/.pyenv/versions/3.8.12/envs/portfolio-optimisation-env/lib/python3.8/site-packages (from requests->autorom~=0.6.1->autorom[accept-rom-license]~=0.6.1; extra == \"extra\"->stable-baselines3[extra]) (3.7)\n",
      "Requirement already satisfied: urllib3<3,>=1.21.1 in /Users/CHARLES/.pyenv/versions/3.8.12/envs/portfolio-optimisation-env/lib/python3.8/site-packages (from requests->autorom~=0.6.1->autorom[accept-rom-license]~=0.6.1; extra == \"extra\"->stable-baselines3[extra]) (2.2.2)\n",
      "Requirement already satisfied: certifi>=2017.4.17 in /Users/CHARLES/.pyenv/versions/3.8.12/envs/portfolio-optimisation-env/lib/python3.8/site-packages (from requests->autorom~=0.6.1->autorom[accept-rom-license]~=0.6.1; extra == \"extra\"->stable-baselines3[extra]) (2024.6.2)\n",
      "Requirement already satisfied: MarkupSafe>=2.1.1 in /Users/CHARLES/.pyenv/versions/3.8.12/envs/portfolio-optimisation-env/lib/python3.8/site-packages (from werkzeug>=1.0.1->tensorboard>=2.9.1->stable-baselines3[extra]) (2.1.5)\n",
      "Requirement already satisfied: mpmath<1.4.0,>=1.1.0 in /Users/CHARLES/.pyenv/versions/3.8.12/envs/portfolio-optimisation-env/lib/python3.8/site-packages (from sympy->torch>=1.13->stable-baselines3[extra]) (1.3.0)\n",
      "Requirement already satisfied: pyasn1<0.7.0,>=0.4.6 in /Users/CHARLES/.pyenv/versions/3.8.12/envs/portfolio-optimisation-env/lib/python3.8/site-packages (from pyasn1-modules>=0.2.1->google-auth<3,>=1.6.3->tensorboard>=2.9.1->stable-baselines3[extra]) (0.6.0)\n",
      "Requirement already satisfied: oauthlib>=3.0.0 in /Users/CHARLES/.pyenv/versions/3.8.12/envs/portfolio-optimisation-env/lib/python3.8/site-packages (from requests-oauthlib>=0.7.0->google-auth-oauthlib<1.1,>=0.5->tensorboard>=2.9.1->stable-baselines3[extra]) (3.2.2)\n",
      "Using cached AutoROM-0.6.1-py3-none-any.whl (9.4 kB)\n",
      "Using cached Shimmy-1.3.0-py3-none-any.whl (37 kB)\n",
      "Using cached opencv_python-4.10.0.84-cp37-abi3-macosx_11_0_arm64.whl (54.8 MB)\n",
      "Using cached pygame-2.6.0-cp38-cp38-macosx_11_0_arm64.whl (12.4 MB)\n",
      "Using cached tqdm-4.66.4-py3-none-any.whl (78 kB)\n",
      "Using cached ale_py-0.8.1-cp38-cp38-macosx_11_0_arm64.whl (1.0 MB)\n",
      "Installing collected packages: tqdm, pygame, opencv-python, AutoROM.accept-rom-license, autorom, ale-py, shimmy\n",
      "Successfully installed AutoROM.accept-rom-license-0.6.1 ale-py-0.8.1 autorom-0.6.1 opencv-python-4.10.0.84 pygame-2.6.0 shimmy-1.3.0 tqdm-4.66.4\n",
      "Note: you may need to restart the kernel to use updated packages.\n"
     ]
    }
   ],
   "source": [
    "pip install 'stable-baselines3[extra]'\n"
   ]
  },
  {
   "cell_type": "code",
   "execution_count": null,
   "id": "c86e47d4-af28-41e6-a604-61bd8185db0c",
   "metadata": {},
   "outputs": [],
   "source": [
    "import gymnasium as gym\n",
    "from gymnasium import spaces\n",
    "import numpy as np\n",
    "import pandas as pd\n",
    "from stable_baselines3 import PPO\n",
    "from stable_baselines3.common.vec_env import DummyVecEnv, VecNormalize\n",
    "import logging\n",
    "\n",
    "# Setup logging\n",
    "logging.basicConfig(level=logging.INFO)\n",
    "logging.info(\"Libraries imported successfully.\")\n"
   ]
  },
  {
   "cell_type": "code",
   "execution_count": null,
   "id": "ddbfdc51-ceb2-46d0-9f6d-6f7720df4c5f",
   "metadata": {},
   "outputs": [],
   "source": [
    "# Assuming combined_df is your DataFrame\n",
    "try:\n",
    "    price_data = combined_df.pivot_table(index='Dates', columns='Ticker', values='Last Price')\n",
    "    price_data.ffill(inplace=True)\n",
    "    price_data.bfill(inplace=True)\n",
    "    logging.info(\"Remaining NaN values: %d\", price_data.isna().sum().sum())\n",
    "except Exception as e:\n",
    "    logging.error(\"Error in data preprocessing: %s\", e)\n"
   ]
  },
  {
   "cell_type": "code",
   "execution_count": null,
   "id": "9b76a033-07af-486c-8c14-93dbd02f06ff",
   "metadata": {},
   "outputs": [],
   "source": [
    "# Display the first few rows of the price_data to verify correctness\n",
    "price_data.head()\n"
   ]
  },
  {
   "cell_type": "code",
   "execution_count": null,
   "id": "5d2bfeb7-8f74-41f5-9c57-8e6d2066f09c",
   "metadata": {},
   "outputs": [],
   "source": [
    "import numpy as np\n",
    "import gymnasium as gym\n",
    "from gymnasium import spaces\n",
    "\n",
    "class SimplePortfolioEnv(gym.Env):\n",
    "    def __init__(self, price_data):\n",
    "        super(SimplePortfolioEnv, self).__init__()\n",
    "        \n",
    "        self.price_data = price_data\n",
    "        self.n_assets = self.price_data.shape[1]\n",
    "        \n",
    "        # Action space: weights for each asset\n",
    "        self.action_space = spaces.Box(low=0, high=1, shape=(self.n_assets,), dtype=np.float32)\n",
    "        \n",
    "        # Observation space: prices for each asset\n",
    "        self.observation_space = spaces.Box(low=0, high=np.inf, shape=(self.n_assets,), dtype=np.float32)\n",
    "        \n",
    "        self.current_step = 0\n",
    "        self.done = False\n",
    "        self.current_prices = self.price_data.iloc[self.current_step].values\n",
    "    \n",
    "    def reset(self):\n",
    "        self.current_step = 0\n",
    "        self.done = False\n",
    "        self.current_prices = self.price_data.iloc[self.current_step].values\n",
    "        return self.current_prices\n",
    "    \n",
    "    def step(self, action):\n",
    "        self.current_step += 1\n",
    "        if self.current_step >= len(self.price_data):\n",
    "            self.done = True\n",
    "        \n",
    "        reward = np.dot(self.current_prices, action)\n",
    "        self.current_prices = self.price_data.iloc[self.current_step].values if not self.done else np.zeros(self.n_assets)\n",
    "        \n",
    "        return self.current_prices, reward, self.done, {}\n",
    "\n",
    "# Initialize the environment\n",
    "try:\n",
    "    env = SimplePortfolioEnv(price_data)\n",
    "    logging.info(\"SimplePortfolioEnv initialized successfully.\")\n",
    "except Exception as e:\n",
    "    logging.error(\"Environment initialization failed: %s\", e)\n"
   ]
  },
  {
   "cell_type": "code",
   "execution_count": null,
   "id": "05b074bc-a2ec-4e30-8ca5-e56c3a44fa3f",
   "metadata": {},
   "outputs": [],
   "source": [
    "try:\n",
    "    env = DummyVecEnv([lambda: env])\n",
    "    logging.info(\"Environment wrapped in DummyVecEnv successfully.\")\n",
    "except Exception as e:\n",
    "    logging.error(\"Failed to wrap environment in DummyVecEnv: %s\", e)\n"
   ]
  },
  {
   "cell_type": "code",
   "execution_count": null,
   "id": "a6b241f3-27c6-4a7f-ac0c-48ad7b049d2e",
   "metadata": {},
   "outputs": [],
   "source": [
    "from stable_baselines3 import PPO\n",
    "\n",
    "try:\n",
    "    # Initialize the PPO model\n",
    "    model_ppo = PPO('MlpPolicy', env, verbose=1)\n",
    "    logging.info(\"PPO Model initialized successfully.\")\n",
    "    \n",
    "    # Train the PPO model\n",
    "    model_ppo.learn(total_timesteps=10000)\n",
    "    logging.info(\"PPO Model training completed.\")\n",
    "    \n",
    "    # Save the PPO model\n",
    "    model_ppo.save(\"ppo_portfolio_management\")\n",
    "except Exception as e:\n",
    "    logging.error(\"PPO Model training failed: %s\", e)\n"
   ]
  },
  {
   "cell_type": "code",
   "execution_count": null,
   "id": "e8ff5906-54a9-4c0f-8624-3dd47733c303",
   "metadata": {},
   "outputs": [],
   "source": [
    "try:\n",
    "    # Load the trained PPO model\n",
    "    model_ppo = PPO.load(\"ppo_portfolio_management\")\n",
    "    logging.info(\"PPO Model loaded successfully for testing.\")\n",
    "    \n",
    "    # Test the PPO model\n",
    "    obs = env.reset()\n",
    "    for _ in range(100):\n",
    "        action, _states = model_ppo.predict(obs, deterministic=True)\n",
    "        obs, reward, done, info = env.step(action)\n",
    "        if done:\n",
    "            obs = env.reset()\n",
    "    logging.info(\"PPO Model testing completed.\")\n",
    "except Exception as e:\n",
    "    logging.error(\"PPO Model testing failed: %s\", e)\n"
   ]
  }
 ],
 "metadata": {
  "kernelspec": {
   "display_name": "Python (portfolio-optimisation-env)",
   "language": "python",
   "name": "portfolio-optimisation-env"
  },
  "language_info": {
   "codemirror_mode": {
    "name": "ipython",
    "version": 3
   },
   "file_extension": ".py",
   "mimetype": "text/x-python",
   "name": "python",
   "nbconvert_exporter": "python",
   "pygments_lexer": "ipython3",
   "version": "3.8.12"
  }
 },
 "nbformat": 4,
 "nbformat_minor": 5
}
