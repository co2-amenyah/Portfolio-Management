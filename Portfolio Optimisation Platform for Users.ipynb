{
 "cells": [
  {
   "cell_type": "markdown",
   "id": "dd0efedc-aa38-412d-8470-26cd9ad686f8",
   "metadata": {},
   "source": [
    "# <center>**STRUCTURING AND IMPORTING THE NECESSARY LIBRARIES FOR UI AND BACKEND**</center>"
   ]
  },
  {
   "cell_type": "code",
   "execution_count": 1,
   "id": "23df295a-c77e-4536-b2f2-ee9815912eba",
   "metadata": {},
   "outputs": [
    {
     "ename": "ModuleNotFoundError",
     "evalue": "No module named 'cvxopt'",
     "output_type": "error",
     "traceback": [
      "\u001b[0;31m---------------------------------------------------------------------------\u001b[0m",
      "\u001b[0;31mModuleNotFoundError\u001b[0m                       Traceback (most recent call last)",
      "Cell \u001b[0;32mIn[1], line 11\u001b[0m\n\u001b[1;32m      9\u001b[0m \u001b[38;5;28;01mimport\u001b[39;00m \u001b[38;5;21;01mtensorflow\u001b[39;00m \u001b[38;5;28;01mas\u001b[39;00m \u001b[38;5;21;01mtf\u001b[39;00m                  \u001b[38;5;66;03m# Building and training neural networks\u001b[39;00m\n\u001b[1;32m     10\u001b[0m \u001b[38;5;28;01mfrom\u001b[39;00m \u001b[38;5;21;01msklearn\u001b[39;00m\u001b[38;5;21;01m.\u001b[39;00m\u001b[38;5;21;01mmodel_selection\u001b[39;00m \u001b[38;5;28;01mimport\u001b[39;00m train_test_split  \u001b[38;5;66;03m# Splitting data\u001b[39;00m\n\u001b[0;32m---> 11\u001b[0m \u001b[38;5;28;01mimport\u001b[39;00m \u001b[38;5;21;01mcvxopt\u001b[39;00m                           \u001b[38;5;66;03m# For quadratic programming\u001b[39;00m\n\u001b[1;32m     12\u001b[0m \u001b[38;5;28;01mimport\u001b[39;00m \u001b[38;5;21;01mscipy\u001b[39;00m                            \u001b[38;5;66;03m# For optimization tasks\u001b[39;00m\n\u001b[1;32m     13\u001b[0m \u001b[38;5;28;01mimport\u001b[39;00m \u001b[38;5;21;01mipywidgets\u001b[39;00m \u001b[38;5;28;01mas\u001b[39;00m \u001b[38;5;21;01mwidgets\u001b[39;00m             \u001b[38;5;66;03m# For creating interactive UI elements in Jupyter\u001b[39;00m\n",
      "\u001b[0;31mModuleNotFoundError\u001b[0m: No module named 'cvxopt'"
     ]
    }
   ],
   "source": [
    "# Import necessary libraries\n",
    "import pandas as pd                      # Data manipulation and analysis\n",
    "import numpy as np                       # Numerical operations\n",
    "import yfinance as yf                    # Downloading historical market data\n",
    "import matplotlib.pyplot as plt          # Static and interactive visualizations\n",
    "import seaborn as sns                    # Statistical data visualization\n",
    "import plotly.express as px              # Interactive plots and dashboards\n",
    "import statsmodels.api as sm             # Statistical modeling and hypothesis testing\n",
    "import tensorflow as tf                  # Building and training neural networks\n",
    "from sklearn.model_selection import train_test_split  # Splitting data\n",
    "import cvxopt                           # For quadratic programming\n",
    "import scipy                            # For optimization tasks\n",
    "import ipywidgets as widgets             # For creating interactive UI elements in Jupyter\n"
   ]
  },
  {
   "cell_type": "markdown",
   "id": "ad328d0f-9262-4c16-b9b4-ea7c2112c7b8",
   "metadata": {},
   "source": [
    "#### <u>**USER PROFILE MANAGEMENT**</u>"
   ]
  },
  {
   "cell_type": "code",
   "execution_count": null,
   "id": "04520438-5c49-4023-935e-f2019ec59c41",
   "metadata": {},
   "outputs": [],
   "source": [
    "# app.py\n",
    "\n",
    "import streamlit as st\n",
    "\n",
    "class UserProfile:\n",
    "    def __init__(self, name, age, investment_objectives, risk_tolerance, benchmark, investment_horizon, current_allocation, preferred_classes, expected_returns, budget):\n",
    "        self.name = name\n",
    "        self.age = age\n",
    "        self.investment_objectives = investment_objectives\n",
    "        self.risk_tolerance = risk_tolerance\n",
    "        self.benchmark = benchmark\n",
    "        self.investment_horizon = investment_horizon\n",
    "        self.current_allocation = current_allocation\n",
    "        self.preferred_classes = preferred_classes\n",
    "        self.expected_returns = expected_returns\n",
    "        self.budget = budget\n",
    "\n",
    "    def display_profile(self):\n",
    "        st.write(f\"Name: {self.name}\")\n",
    "        st.write(f\"Age: {self.age}\")\n",
    "        st.write(f\"Investment Objectives: {self.investment_objectives}\")\n",
    "        st.write(f\"Risk Tolerance: {self.risk_tolerance}\")\n",
    "        st.write(f\"Benchmark: {self.benchmark}\")\n",
    "        st.write(f\"Investment Horizon: {self.investment_horizon}\")\n",
    "        st.write(f\"Current Allocation: {self.current_allocation}\")\n",
    "        st.write(f\"Preferred Asset Classes: {self.preferred_classes}\")\n",
    "        st.write(f\"Expected Returns: {self.expected_returns}\")\n",
    "        st.write(f\"Budget: {self.budget}\")\n",
    "\n",
    "# Streamlit UI for user profile input\n",
    "def user_profile_ui():\n",
    "    st.title(\"User Profile Management\")\n",
    "\n",
    "    name = st.text_input(\"Name\")\n",
    "    age = st.number_input(\"Age\", min_value=0)\n",
    "    investment_objectives = st.text_input(\"Investment Objectives\")\n",
    "    risk_tolerance = st.selectbox(\"Risk Tolerance\", [\"Low\", \"Moderate\", \"High\"])\n",
    "    benchmark = st.text_input(\"Benchmark\")\n",
    "    investment_horizon = st.number_input(\"Investment Horizon (years)\", min_value=0)\n",
    "    current_allocation = st.text_area(\"Current Allocation (e.g., {'Equities': 60, 'Bonds': 30, 'Cash': 10})\")\n",
    "    preferred_classes = st.text_area(\"Preferred Asset Classes (e.g., ['Equities', 'Bonds'])\")\n",
    "    expected_returns = st.number_input(\"Expected Returns\", min_value=0.0, max_value=1.0)\n",
    "    budget = st.number_input(\"Budget\", min_value=0.0)\n",
    "\n",
    "    if st.button(\"Submit\"):\n",
    "        # Convert string inputs to proper data types\n",
    "        current_allocation = eval(current_allocation)\n",
    "        preferred_classes = eval(preferred_classes)\n",
    "\n",
    "        user = UserProfile(\n",
    "            name=name,\n",
    "            age=age,\n",
    "            investment_objectives=investment_objectives,\n",
    "            risk_tolerance=risk_tolerance,\n",
    "            benchmark=benchmark,\n",
    "            investment_horizon=investment_horizon,\n",
    "            current_allocation=current_allocation,\n",
    "            preferred_classes=preferred_classes,\n",
    "            expected_returns=expected_returns,\n",
    "            budget=budget\n",
    "        )\n",
    "        user.display_profile()\n",
    "        return user\n",
    "    return None\n",
    "\n",
    "# Main function to run the app\n",
    "if __name__ == \"__main__\":\n",
    "    user = user_profile_ui()\n"
   ]
  },
  {
   "cell_type": "markdown",
   "id": "caf78836-283c-4eb3-904b-78baf13df3bc",
   "metadata": {},
   "source": [
    "#### <u>**INTEGRATING MODEL SELECTION AND INPUT**</u>"
   ]
  },
  {
   "cell_type": "code",
   "execution_count": null,
   "id": "9dc7738b-f05a-4bfc-a16e-b9d17d9da51b",
   "metadata": {},
   "outputs": [],
   "source": [
    "# Import necessary libraries and models\n",
    "import joblib\n",
    "import numpy as np\n",
    "import pandas as pd\n",
    "\n",
    "def load_models():\n",
    "    # Load your models here\n",
    "    bi_lstm_model = joblib.load(\"bi_lstm_model.h5\")\n",
    "    random_forest_model = joblib.load(\"random_forest_model.joblib\")\n",
    "    # Add other model loading steps\n",
    "    return bi_lstm_model, random_forest_model\n",
    "\n",
    "def run_bi_lstm_model(inputs):\n",
    "    # Implement the logic to run bi-LSTM model\n",
    "    return \"bi-LSTM model results\"\n",
    "\n",
    "def run_random_forest_model(inputs):\n",
    "    # Implement the logic to run Random Forest model\n",
    "    return \"Random Forest model results\"\n",
    "\n",
    "def run_mvo_model(inputs):\n",
    "    # Implement the logic to run MVO model\n",
    "    return \"MVO model results\"\n",
    "\n",
    "def run_reinforcement_learning_model(inputs):\n",
    "    # Implement the logic to run Reinforcement Learning model\n",
    "    return \"Reinforcement Learning model results\"\n",
    "\n",
    "def model_selection_ui():\n",
    "    st.title(\"Model Selection and Portfolio Optimization\")\n",
    "\n",
    "    models = [\"bi-LSTM\", \"Random Forest\", \"Mean-Variance Optimization\", \"Reinforcement Learning\"]\n",
    "    selected_model = st.selectbox(\"Select a Model for Portfolio Optimization\", models)\n",
    "\n",
    "    # Get necessary inputs for the models\n",
    "    inputs = st.text_area(\"Provide necessary inputs for the selected model\")\n",
    "\n",
    "    if st.button(\"Run Model\"):\n",
    "        if selected_model == \"bi-LSTM\":\n",
    "            results = run_bi_lstm_model(inputs)\n",
    "        elif selected_model == \"Random Forest\":\n",
    "            results = run_random_forest_model(inputs)\n",
    "        elif selected_model == \"Mean-Variance Optimization\":\n",
    "            results = run_mvo_model(inputs)\n",
    "        elif selected_model == \"Reinforcement Learning\":\n",
    "            results = run_reinforcement_learning_model(inputs)\n",
    "\n",
    "        st.write(\"Model Results:\")\n",
    "        st.write(results)\n"
   ]
  },
  {
   "cell_type": "code",
   "execution_count": null,
   "id": "a8e09c20-4aa7-47fc-a1be-b1d24008335e",
   "metadata": {},
   "outputs": [],
   "source": [
    "if __name__ == \"__main__\":\n",
    "    user = user_profile_ui()\n",
    "    if user:\n",
    "        model_selection_ui()\n"
   ]
  },
  {
   "cell_type": "code",
   "execution_count": null,
   "id": "9a58acac-5f1e-4754-82ed-ba23686986c1",
   "metadata": {},
   "outputs": [],
   "source": []
  }
 ],
 "metadata": {
  "kernelspec": {
   "display_name": "Python (portfolio-optimisation-env)",
   "language": "python",
   "name": "portfolio-optimisation-env"
  },
  "language_info": {
   "codemirror_mode": {
    "name": "ipython",
    "version": 3
   },
   "file_extension": ".py",
   "mimetype": "text/x-python",
   "name": "python",
   "nbconvert_exporter": "python",
   "pygments_lexer": "ipython3",
   "version": "3.8.12"
  }
 },
 "nbformat": 4,
 "nbformat_minor": 5
}
