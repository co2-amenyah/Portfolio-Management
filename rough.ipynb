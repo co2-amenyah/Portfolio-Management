{
 "cells": [
  {
   "cell_type": "code",
   "execution_count": 1,
   "id": "c6d8fa81-0de8-49eb-8441-37f892611e2c",
   "metadata": {},
   "outputs": [
    {
     "name": "stdout",
     "output_type": "stream",
     "text": [
      "Requirement already satisfied: bs4 in /Users/CHARLES/Desktop/GITHUB PERSONAL PROJECTS/Portfolio Optimisation/PORTFOLIO-OPTIMISATION-USING-MACHINE-LEARNING-1/new-env/lib/python3.8/site-packages (0.0.2)\n",
      "Requirement already satisfied: beautifulsoup4 in /Users/CHARLES/Desktop/GITHUB PERSONAL PROJECTS/Portfolio Optimisation/PORTFOLIO-OPTIMISATION-USING-MACHINE-LEARNING-1/new-env/lib/python3.8/site-packages (from bs4) (4.12.3)\n",
      "Requirement already satisfied: soupsieve>1.2 in /Users/CHARLES/Desktop/GITHUB PERSONAL PROJECTS/Portfolio Optimisation/PORTFOLIO-OPTIMISATION-USING-MACHINE-LEARNING-1/new-env/lib/python3.8/site-packages (from beautifulsoup4->bs4) (2.5)\n",
      "Note: you may need to restart the kernel to use updated packages.\n"
     ]
    }
   ],
   "source": [
    "pip install bs4\n"
   ]
  },
  {
   "cell_type": "code",
   "execution_count": null,
   "id": "ddbf0826-ed49-4b63-879b-1b7bba5d9179",
   "metadata": {},
   "outputs": [],
   "source": [
    "pip install gym"
   ]
  },
  {
   "cell_type": "code",
   "execution_count": null,
   "id": "a027f626-d6f7-4250-b483-57e91845fa3a",
   "metadata": {},
   "outputs": [],
   "source": [
    "!pip install yfinance\n",
    "!pip install mplfinance"
   ]
  },
  {
   "cell_type": "code",
   "execution_count": null,
   "id": "255c30dd-ae92-4685-81b9-4a9c3b7ade5f",
   "metadata": {},
   "outputs": [],
   "source": [
    "pip install keras-tuner"
   ]
  },
  {
   "cell_type": "code",
   "execution_count": null,
   "id": "0b54629a-84d5-4411-a748-3389d2bd1085",
   "metadata": {},
   "outputs": [],
   "source": [
    "from sklearn.preprocessing import OneHotEncoder\n",
    "\n",
    "# Initialize the OneHotEncoder with the new parameter name\n",
    "encoder = OneHotEncoder(sparse_output=False)\n",
    "\n",
    "# Fit and transform the 'Ticker' column\n",
    "ticker_encoded = encoder.fit_transform(cleaned_data[['Ticker']])\n",
    "\n",
    "# Create a DataFrame with encoded columns\n",
    "ticker_encoded_df = pd.DataFrame(ticker_encoded, columns=encoder.get_feature_names_out())\n",
    "\n",
    "# Concatenate this DataFrame with the original cleaned_data\n",
    "cleaned_data = pd.concat([cleaned_data.drop('Ticker', axis=1), ticker_encoded_df], axis=1)\n"
   ]
  },
  {
   "cell_type": "code",
   "execution_count": null,
   "id": "fa279665-5228-4994-9faa-9fb1270566e3",
   "metadata": {},
   "outputs": [],
   "source": [
    "pip install flask\n"
   ]
  },
  {
   "cell_type": "code",
   "execution_count": null,
   "id": "80970cbd-aef0-4e07-91ac-1e826c838231",
   "metadata": {},
   "outputs": [],
   "source": [
    "pip install sqlalchemy"
   ]
  },
  {
   "cell_type": "code",
   "execution_count": null,
   "id": "8c9de947-150e-4b07-8070-7d2ba1fdcb70",
   "metadata": {},
   "outputs": [],
   "source": [
    "pip install cvxpy"
   ]
  },
  {
   "cell_type": "code",
   "execution_count": null,
   "id": "963e4386-a9d2-4821-8166-631aad68a451",
   "metadata": {},
   "outputs": [],
   "source": [
    "pip install blpapi\n"
   ]
  },
  {
   "cell_type": "code",
   "execution_count": null,
   "id": "9604639a-35f0-411e-8c66-c449a056f0e3",
   "metadata": {},
   "outputs": [],
   "source": [
    "pip install quantstats"
   ]
  },
  {
   "cell_type": "code",
   "execution_count": null,
   "id": "99f083bc-715e-45d5-bafc-48b28b97bac7",
   "metadata": {},
   "outputs": [],
   "source": [
    "pip install ipympl"
   ]
  },
  {
   "cell_type": "code",
   "execution_count": null,
   "id": "db99e031-f8dc-4fb3-bd48-30b530c72106",
   "metadata": {},
   "outputs": [],
   "source": [
    "pip install ffill"
   ]
  },
  {
   "cell_type": "code",
   "execution_count": null,
   "id": "12d6efe3-6bf1-4c20-9dc6-cc8cf74d4c11",
   "metadata": {},
   "outputs": [],
   "source": [
    "pip install openpyxl"
   ]
  },
  {
   "cell_type": "code",
   "execution_count": null,
   "id": "ac9978ab-7120-4441-8477-084004965890",
   "metadata": {},
   "outputs": [],
   "source": [
    "pip install xlrd"
   ]
  },
  {
   "cell_type": "code",
   "execution_count": null,
   "id": "52f343ab-d919-4cf2-b8d7-3036afe7bd2a",
   "metadata": {},
   "outputs": [],
   "source": [
    "pip install os"
   ]
  },
  {
   "cell_type": "code",
   "execution_count": null,
   "id": "99ea4a0d-353f-4ef8-b369-bd98b32eecf2",
   "metadata": {},
   "outputs": [],
   "source": [
    "pip install prophet"
   ]
  },
  {
   "cell_type": "code",
   "execution_count": null,
   "id": "21049e6a-96cd-4ad7-b296-99c63fb2a374",
   "metadata": {},
   "outputs": [],
   "source": [
    "pip install --upgrade tensorflow"
   ]
  },
  {
   "cell_type": "code",
   "execution_count": null,
   "id": "674e9244-5cff-4ecb-8039-d89aa400f06e",
   "metadata": {},
   "outputs": [],
   "source": [
    "pip uninstall sqlalchemy 2.0.31"
   ]
  },
  {
   "cell_type": "code",
   "execution_count": null,
   "id": "2f830631-5bd9-4532-8b62-7e1455d55d7c",
   "metadata": {},
   "outputs": [],
   "source": [
    "pip uninstall SQLAlchemy - y"
   ]
  },
  {
   "cell_type": "code",
   "execution_count": null,
   "id": "c4b37cd9-9758-4085-96ee-15f4fc9abc2e",
   "metadata": {},
   "outputs": [],
   "source": [
    "pip install --upgrade typing-extensions"
   ]
  },
  {
   "cell_type": "code",
   "execution_count": null,
   "id": "81e8f067-d5bd-42e9-8cd4-a8ea8ef90c13",
   "metadata": {},
   "outputs": [],
   "source": [
    "pip check\n"
   ]
  },
  {
   "cell_type": "code",
   "execution_count": null,
   "id": "d8d96deb-1fda-4d97-af2e-0e02f829b782",
   "metadata": {},
   "outputs": [],
   "source": [
    "pip install typing-extensions==4.5.0  # or any version <4.6.0 and >=3.6.6\n"
   ]
  },
  {
   "cell_type": "code",
   "execution_count": null,
   "id": "c4c9f33d-7787-4156-9582-43d8fe5d2279",
   "metadata": {},
   "outputs": [],
   "source": [
    "pip install KerasRegressor"
   ]
  },
  {
   "cell_type": "code",
   "execution_count": null,
   "id": "24212790-585c-4ca6-b552-c4413fabd12e",
   "metadata": {},
   "outputs": [],
   "source": [
    "import plotly.graph_objects as go\n",
    "from plotly.subplots import make_subplots\n",
    "\n",
    "# Define the selected tickers from different regions and sectors\n",
    "selected_tickers = ['AAPL US EQUITY', 'HSI INDEX', 'NKY INDEX ', 'GOOGL', 'VOD LN EQUITY']\n",
    "\n",
    "# Create a subplot for each selected ticker\n",
    "fig = make_subplots(rows=len(selected_tickers), cols=1, shared_xaxes=True,\n",
    "                    vertical_spacing=0.02, subplot_titles=[f'{ticker} Rolling Averages' for ticker in selected_tickers])\n",
    "\n",
    "# Loop through each ticker to add traces\n",
    "for i, ticker in enumerate(selected_tickers, start=1):\n",
    "    # Fetch the data for the ticker\n",
    "    ticker_data = cleaned_data[cleaned_data['Ticker'] == ticker].copy()\n",
    "    \n",
    "    if ticker_data.empty:\n",
    "        print(f\"No data available for {ticker}. Skipping...\")\n",
    "        continue\n",
    "\n",
    "    # Calculate 50-day and 200-day moving averages\n",
    "    ticker_data['50-Day MA'] = ticker_data['Last Price'].rolling(window=50).mean()\n",
    "    ticker_data['200-Day MA'] = ticker_data['Last Price'].rolling(window=200).mean()\n",
    "\n",
    "    # Add traces for Last Price, 50-day MA, and 200-day MA\n",
    "    fig.add_trace(go.Scatter(x=ticker_data['Dates'], y=ticker_data['Last Price'], mode='lines', name=f'{ticker} Last Price', line=dict(color='grey', width=1)), row=i, col=1)\n",
    "    fig.add_trace(go.Scatter(x=ticker_data['Dates'], y=ticker_data['50-Day MA'], mode='lines', name=f'{ticker} 50-Day MA', line=dict(color='blue', width=2)), row=i, col=1)\n",
    "    fig.add_trace(go.Scatter(x=ticker_data['Dates'], y=ticker_data['200-Day MA'], mode='lines', name=f'{ticker} 200-Day MA', line=dict(color='red', width=2)), row=i, col=1)\n",
    "\n",
    "    # Set grid lines and update layout for each subplot\n",
    "    fig.update_yaxes(showgrid=True, gridcolor='lightgray', row=i, col=1)\n",
    "\n",
    "# Update overall layout\n",
    "fig.update_layout(\n",
    "    height=1800,  # Adjusted height for clarity\n",
    "    width=1200,\n",
    "    title_text=\"Trend Analysis with 50-Day and 200-Day Moving Averages for Selected Tickers\",\n",
    "    showlegend=True,\n",
    "    plot_bgcolor='white',\n",
    "    paper_bgcolor='white'\n",
    ")\n",
    "\n",
    "# Show the plot\n",
    "fig.show()\n"
   ]
  },
  {
   "cell_type": "code",
   "execution_count": null,
   "id": "1d3486a1-7347-4991-a393-89ee44b10e50",
   "metadata": {},
   "outputs": [],
   "source": [
    "import pandas as pd\n",
    "\n",
    "# Function to calculate RSI\n",
    "def calculate_rsi(data, window=14):\n",
    "    delta = data.diff()\n",
    "    gain = (delta.where(delta > 0, 0)).rolling(window=window).mean()\n",
    "    loss = (-delta.where(delta < 0, 0)).rolling(window=window).mean()\n",
    "    rs = gain / loss\n",
    "    rsi = 100 - (100 / (1 + rs))\n",
    "    return rsi\n",
    "\n",
    "# Ensure the DataFrame is sorted by Dates for each Ticker\n",
    "cleaned_data = cleaned_data.sort_values(by=['Ticker', 'Dates'])\n",
    "\n",
    "# Apply RSI calculation\n",
    "cleaned_data['RSI'] = cleaned_data.groupby('Ticker')['Last Price'].apply(calculate_rsi).reset_index(level=0, drop=True)\n",
    "\n",
    "# Display the first few rows of the updated DataFrame\n",
    "print(cleaned_data[['Dates', 'Last Price', 'Volume', 'Ticker', 'RSI']].head(20))\n"
   ]
  },
  {
   "cell_type": "code",
   "execution_count": null,
   "id": "1cafb680-03b1-4602-8480-80551f84e9ec",
   "metadata": {},
   "outputs": [],
   "source": [
    "import pandas as pd\n",
    "\n",
    "# Define the MACD calculation function\n",
    "def calculate_macd(data, short_window=12, long_window=26, signal_window=9):\n",
    "    short_ema = data['Last Price'].ewm(span=short_window, adjust=False).mean()\n",
    "    long_ema = data['Last Price'].ewm(span=long_window, adjust=False).mean()\n",
    "    macd = short_ema - long_ema\n",
    "    signal = macd.ewm(span=signal_window, adjust=False).mean()\n",
    "    macd_hist = macd - signal\n",
    "    return macd, signal, macd_hist\n",
    "\n",
    "# Initialize lists to store the MACD values\n",
    "macd_list = []\n",
    "signal_list = []\n",
    "hist_list = []\n",
    "\n",
    "# Calculate MACD for each ticker\n",
    "for ticker in cleaned_data['Ticker'].unique():\n",
    "    ticker_data = cleaned_data[cleaned_data['Ticker'] == ticker]\n",
    "    macd, signal, hist = calculate_macd(ticker_data)\n",
    "    macd_list.extend(macd)\n",
    "    signal_list.extend(signal)\n",
    "    hist_list.extend(hist)\n",
    "\n",
    "# Add the MACD values to the cleaned_data DataFrame\n",
    "cleaned_data['MACD'] = macd_list\n",
    "cleaned_data['MACD_Signal'] = signal_list\n",
    "cleaned_data['MACD_Hist'] = hist_list\n",
    "\n",
    "# Display the first few rows of the updated DataFrame\n",
    "print(cleaned_data[['Dates', 'Last Price', 'Volume', 'Ticker', 'MACD', 'MACD_Signal', 'MACD_Hist']].head(20))\n"
   ]
  },
  {
   "cell_type": "code",
   "execution_count": null,
   "id": "d5bbb414-a80d-40ac-acf5-87b63c990cb7",
   "metadata": {},
   "outputs": [],
   "source": [
    "import plotly.graph_objects as go\n",
    "from plotly.subplots import make_subplots\n",
    "\n",
    "# Define the selected tickers for plotting\n",
    "selected_tickers = ['AAPL US EQUITY', 'HSI INDEX', 'NKY INDEX ', 'GOOGL', 'VOD LN EQUITY']\n",
    "\n",
    "# Define colors for the tickers\n",
    "colors = ['blue', 'green', 'purple', 'orange', 'cyan']\n",
    "\n",
    "# Create a subplot for each ticker with two rows: one for RSI and one for MACD\n",
    "fig = make_subplots(rows=len(selected_tickers) * 2, cols=1, shared_xaxes=True, \n",
    "                    vertical_spacing=0.05, subplot_titles=[f'{ticker} RSI' for ticker in selected_tickers] + \n",
    "                                                      [f'{ticker} MACD' for ticker in selected_tickers])\n",
    "\n",
    "for i, ticker in enumerate(selected_tickers):\n",
    "    ticker_data = cleaned_data[cleaned_data['Ticker'] == ticker]\n",
    "    \n",
    "    # Plot RSI\n",
    "    fig.add_trace(go.Scatter(x=ticker_data['Dates'], y=ticker_data['RSI'], mode='lines', name=f'{ticker} RSI',\n",
    "                             line=dict(color=colors[i])), row=i*2+1, col=1)\n",
    "    fig.add_trace(go.Scatter(x=ticker_data['Dates'], y=[70]*len(ticker_data), mode='lines', name='Overbought (70)',\n",
    "                             line=dict(color='red', dash='dash')), row=i*2+1, col=1)\n",
    "    fig.add_trace(go.Scatter(x=ticker_data['Dates'], y=[30]*len(ticker_data), mode='lines', name='Oversold (30)',\n",
    "                             line=dict(color='black', dash='dash')), row=i*2+1, col=1)\n",
    "\n",
    "    # Plot MACD\n",
    "    fig.add_trace(go.Scatter(x=ticker_data['Dates'], y=ticker_data['MACD'], mode='lines', name=f'{ticker} MACD',\n",
    "                             line=dict(color=colors[i])), row=i*2+2, col=1)\n",
    "    fig.add_trace(go.Scatter(x=ticker_data['Dates'], y=ticker_data['MACD_Signal'], mode='lines', name=f'{ticker} MACD Signal',\n",
    "                             line=dict(color='red')), row=i*2+2, col=1)\n",
    "    fig.add_trace(go.Bar(x=ticker_data['Dates'], y=ticker_data['MACD_Hist'], name=f'{ticker} MACD Histogram',\n",
    "                         marker=dict(color='green')), row=i*2+2, col=1)\n",
    "\n",
    "# Update layout\n",
    "for axis in fig.layout:\n",
    "    if 'xaxis' in axis:\n",
    "        fig.update_layout({axis: dict(showgrid=True, gridcolor='black')})\n",
    "    if 'yaxis' in axis:\n",
    "        fig.update_layout({axis: dict(showgrid=True, gridcolor='black')})\n",
    "\n",
    "fig.update_layout(\n",
    "    title='RSI and MACD for Selected Tickers',\n",
    "    height=1800, width=1300,\n",
    "    plot_bgcolor='white',\n",
    "    paper_bgcolor='white',\n",
    "    showlegend=True,\n",
    "    legend=dict(x=1, y=1)\n",
    ")\n",
    "\n",
    "# Show the plot\n",
    "fig.show()\n"
   ]
  },
  {
   "cell_type": "code",
   "execution_count": null,
   "id": "eeaee1f6-baf5-4eb4-980a-d12dbd35b1e2",
   "metadata": {},
   "outputs": [],
   "source": [
    "# Example for LSTM model preparation\n",
    "time_steps = 60  # Define the sequence length\n",
    "\n",
    "def create_sequences(data, time_steps):\n",
    "    X, y = [], []\n",
    "    for i in range(len(data) - time_steps):\n",
    "        X.append(data.iloc[i:(i + time_steps)].values)\n",
    "        y.append(data.iloc[i + time_steps])\n",
    "    return np.array(X), np.array(y)\n",
    "\n",
    "X_train_seq, y_train_seq = create_sequences(X_train, time_steps)\n",
    "X_test_seq, y_test_seq = create_sequences(X_test, time_steps)\n"
   ]
  },
  {
   "cell_type": "code",
   "execution_count": null,
   "id": "922d9580-7136-47ee-a092-1b9ab83be90c",
   "metadata": {},
   "outputs": [],
   "source": [
    "from sklearn.preprocessing import StandardScaler\n",
    "\n",
    "# Assuming 'cleaned_data' is your DataFrame and contains features like 'Last Price' and 'Volume'\n",
    "features = ['Last Price', 'Volume']\n",
    "scaler = StandardScaler()\n",
    "\n",
    "# Fit the scaler on the training data and transform both training and test data\n",
    "cleaned_data[features] = scaler.fit_transform(cleaned_data[features])\n",
    "\n",
    "# Display the scaled features\n",
    "print(cleaned_data.head())\n"
   ]
  },
  {
   "cell_type": "code",
   "execution_count": null,
   "id": "cbd3d486-7b13-4c79-8a87-2ddc548fd086",
   "metadata": {},
   "outputs": [],
   "source": [
    "# Define a split point for the last part of the data to be used as the test set\n",
    "split_ratio = 0.8\n",
    "split_index = int(len(cleaned_data) * split_ratio)\n",
    "\n",
    "# Split the data\n",
    "train_data = cleaned_data.iloc[:split_index]\n",
    "test_data = cleaned_data.iloc[split_index:]\n",
    "\n",
    "# Print the shapes to verify the split\n",
    "print(f\"Train data shape: {train_data.shape}\")\n",
    "print(f\"Test data shape: {test_data.shape}\")\n"
   ]
  },
  {
   "cell_type": "code",
   "execution_count": null,
   "id": "29b98e95-1977-452e-af17-ae9504f23440",
   "metadata": {},
   "outputs": [],
   "source": [
    "pip install keras-tuner"
   ]
  },
  {
   "cell_type": "code",
   "execution_count": null,
   "id": "b572661a-8eb1-4b9f-b388-018eb8181b72",
   "metadata": {},
   "outputs": [],
   "source": [
    "env = PortfolioEnv(price_data)\n",
    "vec_env = DummyVecEnv([lambda: env])\n",
    "\n",
    "# Check the environment\n",
    "check_env(env)\n",
    "\n",
    "# Train the SAC agent\n",
    "model = SAC('MlpPolicy', vec_env, verbose=1)\n",
    "model.learn(total_timesteps=10000)\n",
    "\n",
    "# Save the model\n",
    "model.save(\"sac_portfolio_management\")\n",
    "\n",
    "# Test the trained model\n",
    "obs = vec_env.reset()\n",
    "balances = []\n",
    "\n",
    "for i in range(len(price_data)):\n",
    "    action, _states = model.predict(obs, deterministic=True)\n",
    "    obs, rewards, dones, infos = vec_env.step(action)\n",
    "    current_balances = vec_env.get_attr('current_balance')\n",
    "    balances.append(current_balances[0])\n",
    "    if any(dones):\n",
    "        break"
   ]
  },
  {
   "cell_type": "code",
   "execution_count": null,
   "id": "59d8d0ba-efad-4d88-8306-efef019b0992",
   "metadata": {},
   "outputs": [],
   "source": [
    "pip install stable-baselines3\n"
   ]
  },
  {
   "cell_type": "code",
   "execution_count": null,
   "id": "c11e2448-5c8e-4cfe-adee-838061728a94",
   "metadata": {},
   "outputs": [],
   "source": [
    "pip install -c intel mkl"
   ]
  },
  {
   "cell_type": "code",
   "execution_count": null,
   "id": "427a765d-8e27-42ad-9eb1-4c7f1d48dd4a",
   "metadata": {},
   "outputs": [],
   "source": [
    "conda install numpy"
   ]
  },
  {
   "cell_type": "code",
   "execution_count": null,
   "id": "5edfa55e-6e97-4543-bfa9-236ee67d9d33",
   "metadata": {},
   "outputs": [],
   "source": [
    "conda install -c intel mkl"
   ]
  },
  {
   "cell_type": "code",
   "execution_count": null,
   "id": "01a7aa20-cbcb-42ca-84f3-55dc384f667d",
   "metadata": {},
   "outputs": [],
   "source": [
    "conda install -c anaconda keras"
   ]
  },
  {
   "cell_type": "code",
   "execution_count": null,
   "id": "3900df00-6d72-40b3-bda7-4a246574c758",
   "metadata": {},
   "outputs": [],
   "source": [
    "pip install keras"
   ]
  },
  {
   "cell_type": "code",
   "execution_count": null,
   "id": "ed92ffab-672b-4513-91d8-65542b0bf0dc",
   "metadata": {},
   "outputs": [],
   "source": [
    "pip install tensorflow"
   ]
  },
  {
   "cell_type": "code",
   "execution_count": null,
   "id": "caadd5de-0514-432d-9efb-8187b6fddd31",
   "metadata": {},
   "outputs": [],
   "source": [
    "conda config --add channels conda-forge\n"
   ]
  },
  {
   "cell_type": "code",
   "execution_count": null,
   "id": "f7f00226-48a3-4874-bfee-37e4f07da6e1",
   "metadata": {},
   "outputs": [],
   "source": [
    "conda install mkl\n"
   ]
  },
  {
   "cell_type": "code",
   "execution_count": null,
   "id": "d150f923-88a4-4e43-9f1b-ed9a2bd7559a",
   "metadata": {},
   "outputs": [],
   "source": [
    "conda config --set channel_priority strict"
   ]
  },
  {
   "cell_type": "code",
   "execution_count": null,
   "id": "de6f3441-85fe-4609-bf8c-624025105bb0",
   "metadata": {},
   "outputs": [],
   "source": [
    "conda install numpy pandas matplotlib gym stable-baselines3\n"
   ]
  },
  {
   "cell_type": "code",
   "execution_count": null,
   "id": "7eddbd03-35a7-4a1c-a4fc-2fcf8a920b6e",
   "metadata": {},
   "outputs": [],
   "source": [
    "conda update conda"
   ]
  },
  {
   "cell_type": "code",
   "execution_count": null,
   "id": "07c1cbae-4ec1-422c-9272-6598b5e3fe0e",
   "metadata": {},
   "outputs": [],
   "source": [
    "pip install update conda"
   ]
  },
  {
   "cell_type": "code",
   "execution_count": null,
   "id": "7b13a44f-afe5-4bb3-a903-616634708761",
   "metadata": {},
   "outputs": [],
   "source": [
    "pip install tensorflow"
   ]
  },
  {
   "cell_type": "code",
   "execution_count": null,
   "id": "514cf1fb-6908-4c31-bc49-8bca9d9b7472",
   "metadata": {},
   "outputs": [],
   "source": [
    "conda deactivate\n"
   ]
  },
  {
   "cell_type": "code",
   "execution_count": null,
   "id": "50c731d0-15c9-4d98-a198-b9b48d9da8ec",
   "metadata": {},
   "outputs": [],
   "source": [
    "pip uninstall tensorflow keras tensorflow-macos\n"
   ]
  },
  {
   "cell_type": "code",
   "execution_count": null,
   "id": "c325c60c-179e-46b4-8030-001e9893cdc6",
   "metadata": {},
   "outputs": [],
   "source": [
    "y"
   ]
  },
  {
   "cell_type": "code",
   "execution_count": null,
   "id": "b7881997-a638-4801-98ac-0a68dedc5b93",
   "metadata": {},
   "outputs": [],
   "source": [
    "test_tf_keras.py"
   ]
  },
  {
   "cell_type": "code",
   "execution_count": null,
   "id": "f6412ed1-d305-4a88-b747-a56b9d905038",
   "metadata": {},
   "outputs": [],
   "source": [
    "# Minimal script to check TensorFlow and Keras imports\n",
    "try:\n",
    "    from tensorflow import keras\n",
    "    from tensorflow.keras.models import Sequential\n",
    "    from tensorflow.keras.layers import LSTM, Dense, Dropout\n",
    "    from tensorflow.keras.optimizers import Adam\n",
    "    print(\"TensorFlow and Keras imports successful\")\n",
    "except Exception as e:\n",
    "    print(f\"Error during imports: {e}\")\n"
   ]
  },
  {
   "cell_type": "code",
   "execution_count": null,
   "id": "47322fa1-a95a-4ab1-8e5d-0b2790ebb3c0",
   "metadata": {},
   "outputs": [],
   "source": [
    "python test_tf_keras.py\n"
   ]
  },
  {
   "cell_type": "code",
   "execution_count": null,
   "id": "d66f79d6-49a4-4879-8f82-2937dae2336b",
   "metadata": {},
   "outputs": [],
   "source": [
    "conda activate portfolio-optimisation-env\n"
   ]
  },
  {
   "cell_type": "code",
   "execution_count": null,
   "id": "6b403745-8e4f-4aaa-a1ce-4b9a80c121d7",
   "metadata": {},
   "outputs": [],
   "source": [
    "conda activate portfolio-optimisation-env\n"
   ]
  },
  {
   "cell_type": "code",
   "execution_count": null,
   "id": "8ab410a9-fb1c-4d27-a335-5689c1c5f468",
   "metadata": {},
   "outputs": [],
   "source": [
    "pip install ipmypl"
   ]
  },
  {
   "cell_type": "code",
   "execution_count": null,
   "id": "e640f329-b62b-4ea0-a878-e0d6e5ae984b",
   "metadata": {},
   "outputs": [],
   "source": [
    "pip activate portfolio-optimisation-env"
   ]
  },
  {
   "cell_type": "code",
   "execution_count": null,
   "id": "c7887098-0afe-4054-a513-552dabc90605",
   "metadata": {},
   "outputs": [],
   "source": [
    "import sys\n",
    "print(sys.executable)\n"
   ]
  },
  {
   "cell_type": "code",
   "execution_count": null,
   "id": "f6942117-05b3-4bac-be31-80e770a85139",
   "metadata": {},
   "outputs": [],
   "source": [
    "pip list\n"
   ]
  },
  {
   "cell_type": "code",
   "execution_count": 1,
   "id": "84e89924-a841-49d9-8419-d8b7494b8582",
   "metadata": {},
   "outputs": [
    {
     "name": "stdout",
     "output_type": "stream",
     "text": [
      "Collecting openpyxl\n",
      "  Downloading openpyxl-3.1.5-py2.py3-none-any.whl.metadata (2.5 kB)\n",
      "Collecting et-xmlfile (from openpyxl)\n",
      "  Using cached et_xmlfile-1.1.0-py3-none-any.whl.metadata (1.8 kB)\n",
      "Downloading openpyxl-3.1.5-py2.py3-none-any.whl (250 kB)\n",
      "\u001b[2K   \u001b[90m━━━━━━━━━━━━━━━━━━━━━━━━━━━━━━━━━━━━━━━━\u001b[0m \u001b[32m250.9/250.9 kB\u001b[0m \u001b[31m7.3 MB/s\u001b[0m eta \u001b[36m0:00:00\u001b[0m\n",
      "\u001b[?25hUsing cached et_xmlfile-1.1.0-py3-none-any.whl (4.7 kB)\n",
      "Installing collected packages: et-xmlfile, openpyxl\n",
      "Successfully installed et-xmlfile-1.1.0 openpyxl-3.1.5\n",
      "Note: you may need to restart the kernel to use updated packages.\n"
     ]
    }
   ],
   "source": [
    "pip install openpyxl"
   ]
  },
  {
   "cell_type": "code",
   "execution_count": 2,
   "id": "00807f7d-b666-46fa-a3be-23264279f4ec",
   "metadata": {},
   "outputs": [
    {
     "name": "stdout",
     "output_type": "stream",
     "text": [
      "Collecting gymnasium\n",
      "  Using cached gymnasium-0.29.1-py3-none-any.whl.metadata (10 kB)\n",
      "Requirement already satisfied: numpy>=1.21.0 in /Users/CHARLES/.pyenv/versions/3.8.12/envs/portfolio-optimisation-env/lib/python3.8/site-packages (from gymnasium) (1.24.3)\n",
      "Collecting cloudpickle>=1.2.0 (from gymnasium)\n",
      "  Using cached cloudpickle-3.0.0-py3-none-any.whl.metadata (7.0 kB)\n",
      "Requirement already satisfied: typing-extensions>=4.3.0 in /Users/CHARLES/.pyenv/versions/3.8.12/envs/portfolio-optimisation-env/lib/python3.8/site-packages (from gymnasium) (4.5.0)\n",
      "Collecting farama-notifications>=0.0.1 (from gymnasium)\n",
      "  Using cached Farama_Notifications-0.0.4-py3-none-any.whl.metadata (558 bytes)\n",
      "Requirement already satisfied: importlib-metadata>=4.8.0 in /Users/CHARLES/.pyenv/versions/3.8.12/envs/portfolio-optimisation-env/lib/python3.8/site-packages (from gymnasium) (8.0.0)\n",
      "Requirement already satisfied: zipp>=0.5 in /Users/CHARLES/.pyenv/versions/3.8.12/envs/portfolio-optimisation-env/lib/python3.8/site-packages (from importlib-metadata>=4.8.0->gymnasium) (3.19.2)\n",
      "Using cached gymnasium-0.29.1-py3-none-any.whl (953 kB)\n",
      "Using cached cloudpickle-3.0.0-py3-none-any.whl (20 kB)\n",
      "Using cached Farama_Notifications-0.0.4-py3-none-any.whl (2.5 kB)\n",
      "Installing collected packages: farama-notifications, cloudpickle, gymnasium\n",
      "Successfully installed cloudpickle-3.0.0 farama-notifications-0.0.4 gymnasium-0.29.1\n",
      "Note: you may need to restart the kernel to use updated packages.\n"
     ]
    }
   ],
   "source": [
    "pip install gymnasium"
   ]
  },
  {
   "cell_type": "code",
   "execution_count": 3,
   "id": "2dbdbe34-6a4d-40a9-bb67-d5f39d5b4c09",
   "metadata": {},
   "outputs": [
    {
     "name": "stdout",
     "output_type": "stream",
     "text": [
      "Collecting stable_baselines3\n",
      "  Using cached stable_baselines3-2.3.2-py3-none-any.whl.metadata (5.1 kB)\n",
      "Requirement already satisfied: gymnasium<0.30,>=0.28.1 in /Users/CHARLES/.pyenv/versions/3.8.12/envs/portfolio-optimisation-env/lib/python3.8/site-packages (from stable_baselines3) (0.29.1)\n",
      "Requirement already satisfied: numpy>=1.20 in /Users/CHARLES/.pyenv/versions/3.8.12/envs/portfolio-optimisation-env/lib/python3.8/site-packages (from stable_baselines3) (1.24.3)\n",
      "Collecting torch>=1.13 (from stable_baselines3)\n",
      "  Using cached torch-2.3.1-cp38-none-macosx_11_0_arm64.whl.metadata (26 kB)\n",
      "Requirement already satisfied: cloudpickle in /Users/CHARLES/.pyenv/versions/3.8.12/envs/portfolio-optimisation-env/lib/python3.8/site-packages (from stable_baselines3) (3.0.0)\n",
      "Requirement already satisfied: pandas in /Users/CHARLES/.pyenv/versions/3.8.12/envs/portfolio-optimisation-env/lib/python3.8/site-packages (from stable_baselines3) (2.0.3)\n",
      "Requirement already satisfied: matplotlib in /Users/CHARLES/.pyenv/versions/3.8.12/envs/portfolio-optimisation-env/lib/python3.8/site-packages (from stable_baselines3) (3.7.5)\n",
      "Requirement already satisfied: typing-extensions>=4.3.0 in /Users/CHARLES/.pyenv/versions/3.8.12/envs/portfolio-optimisation-env/lib/python3.8/site-packages (from gymnasium<0.30,>=0.28.1->stable_baselines3) (4.5.0)\n",
      "Requirement already satisfied: farama-notifications>=0.0.1 in /Users/CHARLES/.pyenv/versions/3.8.12/envs/portfolio-optimisation-env/lib/python3.8/site-packages (from gymnasium<0.30,>=0.28.1->stable_baselines3) (0.0.4)\n",
      "Requirement already satisfied: importlib-metadata>=4.8.0 in /Users/CHARLES/.pyenv/versions/3.8.12/envs/portfolio-optimisation-env/lib/python3.8/site-packages (from gymnasium<0.30,>=0.28.1->stable_baselines3) (8.0.0)\n",
      "Collecting filelock (from torch>=1.13->stable_baselines3)\n",
      "  Using cached filelock-3.15.4-py3-none-any.whl.metadata (2.9 kB)\n",
      "Collecting typing-extensions>=4.3.0 (from gymnasium<0.30,>=0.28.1->stable_baselines3)\n",
      "  Using cached typing_extensions-4.12.2-py3-none-any.whl.metadata (3.0 kB)\n",
      "Collecting sympy (from torch>=1.13->stable_baselines3)\n",
      "  Using cached sympy-1.12.1-py3-none-any.whl.metadata (12 kB)\n",
      "Collecting networkx (from torch>=1.13->stable_baselines3)\n",
      "  Using cached networkx-3.1-py3-none-any.whl.metadata (5.3 kB)\n",
      "Requirement already satisfied: jinja2 in /Users/CHARLES/.pyenv/versions/3.8.12/envs/portfolio-optimisation-env/lib/python3.8/site-packages (from torch>=1.13->stable_baselines3) (3.1.4)\n",
      "Collecting fsspec (from torch>=1.13->stable_baselines3)\n",
      "  Using cached fsspec-2024.6.1-py3-none-any.whl.metadata (11 kB)\n",
      "Requirement already satisfied: contourpy>=1.0.1 in /Users/CHARLES/.pyenv/versions/3.8.12/envs/portfolio-optimisation-env/lib/python3.8/site-packages (from matplotlib->stable_baselines3) (1.1.1)\n",
      "Requirement already satisfied: cycler>=0.10 in /Users/CHARLES/.pyenv/versions/3.8.12/envs/portfolio-optimisation-env/lib/python3.8/site-packages (from matplotlib->stable_baselines3) (0.12.1)\n",
      "Requirement already satisfied: fonttools>=4.22.0 in /Users/CHARLES/.pyenv/versions/3.8.12/envs/portfolio-optimisation-env/lib/python3.8/site-packages (from matplotlib->stable_baselines3) (4.53.1)\n",
      "Requirement already satisfied: kiwisolver>=1.0.1 in /Users/CHARLES/.pyenv/versions/3.8.12/envs/portfolio-optimisation-env/lib/python3.8/site-packages (from matplotlib->stable_baselines3) (1.4.5)\n",
      "Requirement already satisfied: packaging>=20.0 in /Users/CHARLES/.pyenv/versions/3.8.12/envs/portfolio-optimisation-env/lib/python3.8/site-packages (from matplotlib->stable_baselines3) (24.1)\n",
      "Requirement already satisfied: pillow>=6.2.0 in /Users/CHARLES/.pyenv/versions/3.8.12/envs/portfolio-optimisation-env/lib/python3.8/site-packages (from matplotlib->stable_baselines3) (10.4.0)\n",
      "Requirement already satisfied: pyparsing>=2.3.1 in /Users/CHARLES/.pyenv/versions/3.8.12/envs/portfolio-optimisation-env/lib/python3.8/site-packages (from matplotlib->stable_baselines3) (3.1.2)\n",
      "Requirement already satisfied: python-dateutil>=2.7 in /Users/CHARLES/.pyenv/versions/3.8.12/envs/portfolio-optimisation-env/lib/python3.8/site-packages (from matplotlib->stable_baselines3) (2.9.0.post0)\n",
      "Requirement already satisfied: importlib-resources>=3.2.0 in /Users/CHARLES/.pyenv/versions/3.8.12/envs/portfolio-optimisation-env/lib/python3.8/site-packages (from matplotlib->stable_baselines3) (6.4.0)\n",
      "Requirement already satisfied: pytz>=2020.1 in /Users/CHARLES/.pyenv/versions/3.8.12/envs/portfolio-optimisation-env/lib/python3.8/site-packages (from pandas->stable_baselines3) (2024.1)\n",
      "Requirement already satisfied: tzdata>=2022.1 in /Users/CHARLES/.pyenv/versions/3.8.12/envs/portfolio-optimisation-env/lib/python3.8/site-packages (from pandas->stable_baselines3) (2024.1)\n",
      "Requirement already satisfied: zipp>=0.5 in /Users/CHARLES/.pyenv/versions/3.8.12/envs/portfolio-optimisation-env/lib/python3.8/site-packages (from importlib-metadata>=4.8.0->gymnasium<0.30,>=0.28.1->stable_baselines3) (3.19.2)\n",
      "Requirement already satisfied: six>=1.5 in /Users/CHARLES/.pyenv/versions/3.8.12/envs/portfolio-optimisation-env/lib/python3.8/site-packages (from python-dateutil>=2.7->matplotlib->stable_baselines3) (1.16.0)\n",
      "Requirement already satisfied: MarkupSafe>=2.0 in /Users/CHARLES/.pyenv/versions/3.8.12/envs/portfolio-optimisation-env/lib/python3.8/site-packages (from jinja2->torch>=1.13->stable_baselines3) (2.1.5)\n",
      "Collecting mpmath<1.4.0,>=1.1.0 (from sympy->torch>=1.13->stable_baselines3)\n",
      "  Using cached mpmath-1.3.0-py3-none-any.whl.metadata (8.6 kB)\n",
      "Using cached stable_baselines3-2.3.2-py3-none-any.whl (182 kB)\n",
      "Using cached torch-2.3.1-cp38-none-macosx_11_0_arm64.whl (61.0 MB)\n",
      "Using cached typing_extensions-4.12.2-py3-none-any.whl (37 kB)\n",
      "Using cached filelock-3.15.4-py3-none-any.whl (16 kB)\n",
      "Using cached fsspec-2024.6.1-py3-none-any.whl (177 kB)\n",
      "Using cached networkx-3.1-py3-none-any.whl (2.1 MB)\n",
      "Using cached sympy-1.12.1-py3-none-any.whl (5.7 MB)\n",
      "Using cached mpmath-1.3.0-py3-none-any.whl (536 kB)\n",
      "Installing collected packages: mpmath, typing-extensions, sympy, networkx, fsspec, filelock, torch, stable_baselines3\n",
      "  Attempting uninstall: typing-extensions\n",
      "    Found existing installation: typing_extensions 4.5.0\n",
      "    Uninstalling typing_extensions-4.5.0:\n",
      "      Successfully uninstalled typing_extensions-4.5.0\n",
      "\u001b[31mERROR: pip's dependency resolver does not currently take into account all the packages that are installed. This behaviour is the source of the following dependency conflicts.\n",
      "tensorflow-macos 2.13.0 requires typing-extensions<4.6.0,>=3.6.6, but you have typing-extensions 4.12.2 which is incompatible.\u001b[0m\u001b[31m\n",
      "\u001b[0mSuccessfully installed filelock-3.15.4 fsspec-2024.6.1 mpmath-1.3.0 networkx-3.1 stable_baselines3-2.3.2 sympy-1.12.1 torch-2.3.1 typing-extensions-4.12.2\n",
      "Note: you may need to restart the kernel to use updated packages.\n"
     ]
    }
   ],
   "source": [
    "pip install stable_baselines3"
   ]
  },
  {
   "cell_type": "code",
   "execution_count": 4,
   "id": "2f1bba57-a1a9-4b23-b9cd-b9ed85b54d66",
   "metadata": {},
   "outputs": [
    {
     "name": "stdout",
     "output_type": "stream",
     "text": [
      "Collecting logging\n",
      "  Downloading logging-0.4.9.6.tar.gz (96 kB)\n",
      "\u001b[2K     \u001b[90m━━━━━━━━━━━━━━━━━━━━━━━━━━━━━━━━━━━━━━━━\u001b[0m \u001b[32m96.0/96.0 kB\u001b[0m \u001b[31m3.8 MB/s\u001b[0m eta \u001b[36m0:00:00\u001b[0m\n",
      "\u001b[?25h  Preparing metadata (setup.py) ... \u001b[?25ldone\n",
      "\u001b[?25hBuilding wheels for collected packages: logging\n",
      "  Building wheel for logging (setup.py) ... \u001b[?25lerror\n",
      "  \u001b[1;31merror\u001b[0m: \u001b[1msubprocess-exited-with-error\u001b[0m\n",
      "  \n",
      "  \u001b[31m×\u001b[0m \u001b[32mpython setup.py bdist_wheel\u001b[0m did not run successfully.\n",
      "  \u001b[31m│\u001b[0m exit code: \u001b[1;36m1\u001b[0m\n",
      "  \u001b[31m╰─>\u001b[0m \u001b[31m[39 lines of output]\u001b[0m\n",
      "  \u001b[31m   \u001b[0m Traceback (most recent call last):\n",
      "  \u001b[31m   \u001b[0m   File \"<string>\", line 2, in <module>\n",
      "  \u001b[31m   \u001b[0m   File \"<pip-setuptools-caller>\", line 34, in <module>\n",
      "  \u001b[31m   \u001b[0m   File \"/private/var/folders/vj/3n5q5bxn0vg4zl7ytlnmzjc40000gn/T/pip-install-7pmqlj00/logging_e15498298f284a00b6efe17fd6affb16/setup.py\", line 3, in <module>\n",
      "  \u001b[31m   \u001b[0m     setup(name = \"logging\",\n",
      "  \u001b[31m   \u001b[0m   File \"/Users/CHARLES/.pyenv/versions/3.8.12/lib/python3.8/distutils/core.py\", line 134, in setup\n",
      "  \u001b[31m   \u001b[0m     ok = dist.parse_command_line()\n",
      "  \u001b[31m   \u001b[0m   File \"/Users/CHARLES/.pyenv/versions/3.8.12/lib/python3.8/distutils/dist.py\", line 483, in parse_command_line\n",
      "  \u001b[31m   \u001b[0m     args = self._parse_command_opts(parser, args)\n",
      "  \u001b[31m   \u001b[0m   File \"/Users/CHARLES/.pyenv/versions/portfolio-optimisation-env/lib/python3.8/site-packages/setuptools/dist.py\", line 951, in _parse_command_opts\n",
      "  \u001b[31m   \u001b[0m     nargs = _Distribution._parse_command_opts(self, parser, args)\n",
      "  \u001b[31m   \u001b[0m   File \"/Users/CHARLES/.pyenv/versions/3.8.12/lib/python3.8/distutils/dist.py\", line 539, in _parse_command_opts\n",
      "  \u001b[31m   \u001b[0m     cmd_class = self.get_command_class(command)\n",
      "  \u001b[31m   \u001b[0m   File \"/Users/CHARLES/.pyenv/versions/portfolio-optimisation-env/lib/python3.8/site-packages/setuptools/dist.py\", line 790, in get_command_class\n",
      "  \u001b[31m   \u001b[0m     self.cmdclass[command] = cmdclass = ep.load()\n",
      "  \u001b[31m   \u001b[0m   File \"/Users/CHARLES/.pyenv/versions/portfolio-optimisation-env/lib/python3.8/site-packages/pkg_resources/__init__.py\", line 2450, in load\n",
      "  \u001b[31m   \u001b[0m     return self.resolve()\n",
      "  \u001b[31m   \u001b[0m   File \"/Users/CHARLES/.pyenv/versions/portfolio-optimisation-env/lib/python3.8/site-packages/pkg_resources/__init__.py\", line 2456, in resolve\n",
      "  \u001b[31m   \u001b[0m     module = __import__(self.module_name, fromlist=['__name__'], level=0)\n",
      "  \u001b[31m   \u001b[0m   File \"/Users/CHARLES/.pyenv/versions/portfolio-optimisation-env/lib/python3.8/site-packages/wheel/bdist_wheel.py\", line 28, in <module>\n",
      "  \u001b[31m   \u001b[0m     from .metadata import pkginfo_to_metadata\n",
      "  \u001b[31m   \u001b[0m   File \"/Users/CHARLES/.pyenv/versions/portfolio-optimisation-env/lib/python3.8/site-packages/wheel/metadata.py\", line 16, in <module>\n",
      "  \u001b[31m   \u001b[0m     from .vendored.packaging.requirements import Requirement\n",
      "  \u001b[31m   \u001b[0m   File \"/Users/CHARLES/.pyenv/versions/portfolio-optimisation-env/lib/python3.8/site-packages/wheel/vendored/packaging/requirements.py\", line 7, in <module>\n",
      "  \u001b[31m   \u001b[0m     from ._parser import parse_requirement as _parse_requirement\n",
      "  \u001b[31m   \u001b[0m   File \"/Users/CHARLES/.pyenv/versions/portfolio-optimisation-env/lib/python3.8/site-packages/wheel/vendored/packaging/_parser.py\", line 10, in <module>\n",
      "  \u001b[31m   \u001b[0m     from ._tokenizer import DEFAULT_RULES, Tokenizer\n",
      "  \u001b[31m   \u001b[0m   File \"/Users/CHARLES/.pyenv/versions/portfolio-optimisation-env/lib/python3.8/site-packages/wheel/vendored/packaging/_tokenizer.py\", line 6, in <module>\n",
      "  \u001b[31m   \u001b[0m     from .specifiers import Specifier\n",
      "  \u001b[31m   \u001b[0m   File \"/Users/CHARLES/.pyenv/versions/portfolio-optimisation-env/lib/python3.8/site-packages/wheel/vendored/packaging/specifiers.py\", line 16, in <module>\n",
      "  \u001b[31m   \u001b[0m     from .utils import canonicalize_version\n",
      "  \u001b[31m   \u001b[0m   File \"/Users/CHARLES/.pyenv/versions/portfolio-optimisation-env/lib/python3.8/site-packages/wheel/vendored/packaging/utils.py\", line 8, in <module>\n",
      "  \u001b[31m   \u001b[0m     from .tags import Tag, parse_tag\n",
      "  \u001b[31m   \u001b[0m   File \"/Users/CHARLES/.pyenv/versions/portfolio-optimisation-env/lib/python3.8/site-packages/wheel/vendored/packaging/tags.py\", line 5, in <module>\n",
      "  \u001b[31m   \u001b[0m     import logging\n",
      "  \u001b[31m   \u001b[0m   File \"/private/var/folders/vj/3n5q5bxn0vg4zl7ytlnmzjc40000gn/T/pip-install-7pmqlj00/logging_e15498298f284a00b6efe17fd6affb16/logging/__init__.py\", line 618\n",
      "  \u001b[31m   \u001b[0m     raise NotImplementedError, 'emit must be implemented '\\\n",
      "  \u001b[31m   \u001b[0m                              ^\n",
      "  \u001b[31m   \u001b[0m SyntaxError: invalid syntax\n",
      "  \u001b[31m   \u001b[0m \u001b[31m[end of output]\u001b[0m\n",
      "  \n",
      "  \u001b[1;35mnote\u001b[0m: This error originates from a subprocess, and is likely not a problem with pip.\n",
      "\u001b[31m  ERROR: Failed building wheel for logging\u001b[0m\u001b[31m\n",
      "\u001b[0m\u001b[?25h  Running setup.py clean for logging\n",
      "Failed to build logging\n",
      "\u001b[31mERROR: ERROR: Failed to build installable wheels for some pyproject.toml based projects (logging)\u001b[0m\u001b[31m\n",
      "\u001b[0mNote: you may need to restart the kernel to use updated packages.\n"
     ]
    }
   ],
   "source": [
    "pip install logging"
   ]
  },
  {
   "cell_type": "code",
   "execution_count": 5,
   "id": "37da8ef1-fd30-4556-8764-439a91c4d6e0",
   "metadata": {},
   "outputs": [
    {
     "name": "stdout",
     "output_type": "stream",
     "text": [
      "Collecting xgboost\n",
      "  Downloading xgboost-2.1.0-py3-none-macosx_12_0_arm64.whl.metadata (2.1 kB)\n",
      "Requirement already satisfied: numpy in /Users/CHARLES/.pyenv/versions/3.8.12/envs/portfolio-optimisation-env/lib/python3.8/site-packages (from xgboost) (1.24.3)\n",
      "Requirement already satisfied: scipy in /Users/CHARLES/.pyenv/versions/3.8.12/envs/portfolio-optimisation-env/lib/python3.8/site-packages (from xgboost) (1.10.1)\n",
      "Downloading xgboost-2.1.0-py3-none-macosx_12_0_arm64.whl (1.9 MB)\n",
      "\u001b[2K   \u001b[90m━━━━━━━━━━━━━━━━━━━━━━━━━━━━━━━━━━━━━━━━\u001b[0m \u001b[32m1.9/1.9 MB\u001b[0m \u001b[31m24.6 MB/s\u001b[0m eta \u001b[36m0:00:00\u001b[0m00:01\u001b[0m00:01\u001b[0m\n",
      "\u001b[?25hInstalling collected packages: xgboost\n",
      "Successfully installed xgboost-2.1.0\n",
      "Note: you may need to restart the kernel to use updated packages.\n"
     ]
    }
   ],
   "source": [
    "pip install xgboost"
   ]
  },
  {
   "cell_type": "code",
   "execution_count": 6,
   "id": "13d89305-8edf-4e55-a110-5a50eb282139",
   "metadata": {},
   "outputs": [
    {
     "name": "stdout",
     "output_type": "stream",
     "text": [
      "Collecting linear\n",
      "  Downloading linear-0.0.dev0.tar.gz (1.4 kB)\n",
      "  Preparing metadata (setup.py) ... \u001b[?25ldone\n",
      "\u001b[31mERROR: Could not find a version that satisfies the requirement regression (from versions: none)\u001b[0m\u001b[31m\n",
      "\u001b[0m\u001b[31mERROR: No matching distribution found for regression\u001b[0m\u001b[31m\n",
      "\u001b[0m\u001b[?25hNote: you may need to restart the kernel to use updated packages.\n"
     ]
    }
   ],
   "source": [
    "pip install linear regression"
   ]
  },
  {
   "cell_type": "code",
   "execution_count": 7,
   "id": "a9fa2fd5-9194-4a34-a027-14e6e0f3aa29",
   "metadata": {},
   "outputs": [
    {
     "name": "stdout",
     "output_type": "stream",
     "text": [
      "Collecting svm\n",
      "  Downloading svm-0.1.0.tar.gz (3.4 kB)\n",
      "  Preparing metadata (setup.py) ... \u001b[?25ldone\n",
      "\u001b[?25hRequirement already satisfied: requests in /Users/CHARLES/.pyenv/versions/3.8.12/envs/portfolio-optimisation-env/lib/python3.8/site-packages (from svm) (2.32.3)\n",
      "Collecting colorama (from svm)\n",
      "  Downloading colorama-0.4.6-py2.py3-none-any.whl.metadata (17 kB)\n",
      "Collecting xmltodict (from svm)\n",
      "  Downloading xmltodict-0.13.0-py2.py3-none-any.whl.metadata (7.7 kB)\n",
      "Requirement already satisfied: charset-normalizer<4,>=2 in /Users/CHARLES/.pyenv/versions/3.8.12/envs/portfolio-optimisation-env/lib/python3.8/site-packages (from requests->svm) (3.3.2)\n",
      "Requirement already satisfied: idna<4,>=2.5 in /Users/CHARLES/.pyenv/versions/3.8.12/envs/portfolio-optimisation-env/lib/python3.8/site-packages (from requests->svm) (3.7)\n",
      "Requirement already satisfied: urllib3<3,>=1.21.1 in /Users/CHARLES/.pyenv/versions/3.8.12/envs/portfolio-optimisation-env/lib/python3.8/site-packages (from requests->svm) (2.2.2)\n",
      "Requirement already satisfied: certifi>=2017.4.17 in /Users/CHARLES/.pyenv/versions/3.8.12/envs/portfolio-optimisation-env/lib/python3.8/site-packages (from requests->svm) (2024.6.2)\n",
      "Downloading colorama-0.4.6-py2.py3-none-any.whl (25 kB)\n",
      "Downloading xmltodict-0.13.0-py2.py3-none-any.whl (10.0 kB)\n",
      "Building wheels for collected packages: svm\n",
      "  Building wheel for svm (setup.py) ... \u001b[?25ldone\n",
      "\u001b[?25h  Created wheel for svm: filename=svm-0.1.0-py3-none-any.whl size=3483 sha256=371490a7e45071e13a20247d079a9e8fd18e137e7b0ab80e60a1501199c966bc\n",
      "  Stored in directory: /Users/CHARLES/Library/Caches/pip/wheels/21/49/94/366fb6396e6577b43ce54bfd19c79383594c32b6956b72960c\n",
      "Successfully built svm\n",
      "Installing collected packages: xmltodict, colorama, svm\n",
      "Successfully installed colorama-0.4.6 svm-0.1.0 xmltodict-0.13.0\n",
      "Note: you may need to restart the kernel to use updated packages.\n"
     ]
    }
   ],
   "source": [
    "pip install svm"
   ]
  },
  {
   "cell_type": "code",
   "execution_count": 8,
   "id": "5bcacc3f-9e04-45eb-bed6-9bd366f6f2f1",
   "metadata": {},
   "outputs": [
    {
     "name": "stdout",
     "output_type": "stream",
     "text": [
      "Collecting keras_tuner\n",
      "  Using cached keras_tuner-1.4.7-py3-none-any.whl.metadata (5.4 kB)\n",
      "Requirement already satisfied: keras in /Users/CHARLES/.pyenv/versions/3.8.12/envs/portfolio-optimisation-env/lib/python3.8/site-packages (from keras_tuner) (2.13.1)\n",
      "Requirement already satisfied: packaging in /Users/CHARLES/.pyenv/versions/3.8.12/envs/portfolio-optimisation-env/lib/python3.8/site-packages (from keras_tuner) (24.1)\n",
      "Requirement already satisfied: requests in /Users/CHARLES/.pyenv/versions/3.8.12/envs/portfolio-optimisation-env/lib/python3.8/site-packages (from keras_tuner) (2.32.3)\n",
      "Collecting kt-legacy (from keras_tuner)\n",
      "  Using cached kt_legacy-1.0.5-py3-none-any.whl.metadata (221 bytes)\n",
      "Requirement already satisfied: charset-normalizer<4,>=2 in /Users/CHARLES/.pyenv/versions/3.8.12/envs/portfolio-optimisation-env/lib/python3.8/site-packages (from requests->keras_tuner) (3.3.2)\n",
      "Requirement already satisfied: idna<4,>=2.5 in /Users/CHARLES/.pyenv/versions/3.8.12/envs/portfolio-optimisation-env/lib/python3.8/site-packages (from requests->keras_tuner) (3.7)\n",
      "Requirement already satisfied: urllib3<3,>=1.21.1 in /Users/CHARLES/.pyenv/versions/3.8.12/envs/portfolio-optimisation-env/lib/python3.8/site-packages (from requests->keras_tuner) (2.2.2)\n",
      "Requirement already satisfied: certifi>=2017.4.17 in /Users/CHARLES/.pyenv/versions/3.8.12/envs/portfolio-optimisation-env/lib/python3.8/site-packages (from requests->keras_tuner) (2024.6.2)\n",
      "Using cached keras_tuner-1.4.7-py3-none-any.whl (129 kB)\n",
      "Using cached kt_legacy-1.0.5-py3-none-any.whl (9.6 kB)\n",
      "Installing collected packages: kt-legacy, keras_tuner\n",
      "Successfully installed keras_tuner-1.4.7 kt-legacy-1.0.5\n",
      "Note: you may need to restart the kernel to use updated packages.\n"
     ]
    }
   ],
   "source": [
    "pip install keras_tuner"
   ]
  },
  {
   "cell_type": "code",
   "execution_count": 9,
   "id": "e89ace3b-ae97-4caf-907e-db6f02822485",
   "metadata": {},
   "outputs": [
    {
     "name": "stdout",
     "output_type": "stream",
     "text": [
      "\u001b[31mERROR: Could not find a version that satisfies the requirement scipy.stats (from versions: none)\u001b[0m\u001b[31m\n",
      "\u001b[0m\u001b[31mERROR: No matching distribution found for scipy.stats\u001b[0m\u001b[31m\n",
      "\u001b[0mNote: you may need to restart the kernel to use updated packages.\n"
     ]
    }
   ],
   "source": [
    "pip install scipy.stats"
   ]
  },
  {
   "cell_type": "code",
   "execution_count": 1,
   "id": "50f64472-cbcc-44b2-a234-f71f7b439d11",
   "metadata": {},
   "outputs": [
    {
     "name": "stdout",
     "output_type": "stream",
     "text": [
      "Requirement already satisfied: ipywidgets in /Users/CHARLES/.pyenv/versions/3.8.12/envs/portfolio-optimisation-env/lib/python3.8/site-packages (8.1.3)\n",
      "Requirement already satisfied: comm>=0.1.3 in /Users/CHARLES/.pyenv/versions/3.8.12/envs/portfolio-optimisation-env/lib/python3.8/site-packages (from ipywidgets) (0.2.2)\n",
      "Requirement already satisfied: ipython>=6.1.0 in /Users/CHARLES/.pyenv/versions/3.8.12/envs/portfolio-optimisation-env/lib/python3.8/site-packages (from ipywidgets) (8.12.3)\n",
      "Requirement already satisfied: traitlets>=4.3.1 in /Users/CHARLES/.pyenv/versions/3.8.12/envs/portfolio-optimisation-env/lib/python3.8/site-packages (from ipywidgets) (5.14.3)\n",
      "Requirement already satisfied: widgetsnbextension~=4.0.11 in /Users/CHARLES/.pyenv/versions/3.8.12/envs/portfolio-optimisation-env/lib/python3.8/site-packages (from ipywidgets) (4.0.11)\n",
      "Requirement already satisfied: jupyterlab-widgets~=3.0.11 in /Users/CHARLES/.pyenv/versions/3.8.12/envs/portfolio-optimisation-env/lib/python3.8/site-packages (from ipywidgets) (3.0.11)\n",
      "Requirement already satisfied: backcall in /Users/CHARLES/.pyenv/versions/3.8.12/envs/portfolio-optimisation-env/lib/python3.8/site-packages (from ipython>=6.1.0->ipywidgets) (0.2.0)\n",
      "Requirement already satisfied: decorator in /Users/CHARLES/.pyenv/versions/3.8.12/envs/portfolio-optimisation-env/lib/python3.8/site-packages (from ipython>=6.1.0->ipywidgets) (5.1.1)\n",
      "Requirement already satisfied: jedi>=0.16 in /Users/CHARLES/.pyenv/versions/3.8.12/envs/portfolio-optimisation-env/lib/python3.8/site-packages (from ipython>=6.1.0->ipywidgets) (0.19.1)\n",
      "Requirement already satisfied: matplotlib-inline in /Users/CHARLES/.pyenv/versions/3.8.12/envs/portfolio-optimisation-env/lib/python3.8/site-packages (from ipython>=6.1.0->ipywidgets) (0.1.7)\n",
      "Requirement already satisfied: pickleshare in /Users/CHARLES/.pyenv/versions/3.8.12/envs/portfolio-optimisation-env/lib/python3.8/site-packages (from ipython>=6.1.0->ipywidgets) (0.7.5)\n",
      "Requirement already satisfied: prompt-toolkit!=3.0.37,<3.1.0,>=3.0.30 in /Users/CHARLES/.pyenv/versions/3.8.12/envs/portfolio-optimisation-env/lib/python3.8/site-packages (from ipython>=6.1.0->ipywidgets) (3.0.47)\n",
      "Requirement already satisfied: pygments>=2.4.0 in /Users/CHARLES/.pyenv/versions/3.8.12/envs/portfolio-optimisation-env/lib/python3.8/site-packages (from ipython>=6.1.0->ipywidgets) (2.18.0)\n",
      "Requirement already satisfied: stack-data in /Users/CHARLES/.pyenv/versions/3.8.12/envs/portfolio-optimisation-env/lib/python3.8/site-packages (from ipython>=6.1.0->ipywidgets) (0.6.3)\n",
      "Requirement already satisfied: typing-extensions in /Users/CHARLES/.pyenv/versions/3.8.12/envs/portfolio-optimisation-env/lib/python3.8/site-packages (from ipython>=6.1.0->ipywidgets) (4.12.2)\n",
      "Requirement already satisfied: pexpect>4.3 in /Users/CHARLES/.pyenv/versions/3.8.12/envs/portfolio-optimisation-env/lib/python3.8/site-packages (from ipython>=6.1.0->ipywidgets) (4.9.0)\n",
      "Requirement already satisfied: appnope in /Users/CHARLES/.pyenv/versions/3.8.12/envs/portfolio-optimisation-env/lib/python3.8/site-packages (from ipython>=6.1.0->ipywidgets) (0.1.4)\n",
      "Requirement already satisfied: parso<0.9.0,>=0.8.3 in /Users/CHARLES/.pyenv/versions/3.8.12/envs/portfolio-optimisation-env/lib/python3.8/site-packages (from jedi>=0.16->ipython>=6.1.0->ipywidgets) (0.8.4)\n",
      "Requirement already satisfied: ptyprocess>=0.5 in /Users/CHARLES/.pyenv/versions/3.8.12/envs/portfolio-optimisation-env/lib/python3.8/site-packages (from pexpect>4.3->ipython>=6.1.0->ipywidgets) (0.7.0)\n",
      "Requirement already satisfied: wcwidth in /Users/CHARLES/.pyenv/versions/3.8.12/envs/portfolio-optimisation-env/lib/python3.8/site-packages (from prompt-toolkit!=3.0.37,<3.1.0,>=3.0.30->ipython>=6.1.0->ipywidgets) (0.2.13)\n",
      "Requirement already satisfied: executing>=1.2.0 in /Users/CHARLES/.pyenv/versions/3.8.12/envs/portfolio-optimisation-env/lib/python3.8/site-packages (from stack-data->ipython>=6.1.0->ipywidgets) (2.0.1)\n",
      "Requirement already satisfied: asttokens>=2.1.0 in /Users/CHARLES/.pyenv/versions/3.8.12/envs/portfolio-optimisation-env/lib/python3.8/site-packages (from stack-data->ipython>=6.1.0->ipywidgets) (2.4.1)\n",
      "Requirement already satisfied: pure-eval in /Users/CHARLES/.pyenv/versions/3.8.12/envs/portfolio-optimisation-env/lib/python3.8/site-packages (from stack-data->ipython>=6.1.0->ipywidgets) (0.2.2)\n",
      "Requirement already satisfied: six>=1.12.0 in /Users/CHARLES/.pyenv/versions/3.8.12/envs/portfolio-optimisation-env/lib/python3.8/site-packages (from asttokens>=2.1.0->stack-data->ipython>=6.1.0->ipywidgets) (1.16.0)\n",
      "Note: you may need to restart the kernel to use updated packages.\n"
     ]
    }
   ],
   "source": [
    "pip install ipywidgets"
   ]
  },
  {
   "cell_type": "code",
   "execution_count": 12,
   "id": "ace26763-c0e7-46fe-aa5e-64f147cc6f82",
   "metadata": {},
   "outputs": [
    {
     "name": "stdout",
     "output_type": "stream",
     "text": [
      "Collecting cvxopt\n",
      "  Using cached cvxopt-1.3.2.tar.gz (4.1 MB)\n",
      "  Installing build dependencies ... \u001b[?25ldone\n",
      "\u001b[?25h  Getting requirements to build wheel ... \u001b[?25ldone\n",
      "\u001b[?25h  Preparing metadata (pyproject.toml) ... \u001b[?25ldone\n",
      "\u001b[?25hBuilding wheels for collected packages: cvxopt\n",
      "  Building wheel for cvxopt (pyproject.toml) ... \u001b[?25lerror\n",
      "  \u001b[1;31merror\u001b[0m: \u001b[1msubprocess-exited-with-error\u001b[0m\n",
      "  \n",
      "  \u001b[31m×\u001b[0m \u001b[32mBuilding wheel for cvxopt \u001b[0m\u001b[1;32m(\u001b[0m\u001b[32mpyproject.toml\u001b[0m\u001b[1;32m)\u001b[0m did not run successfully.\n",
      "  \u001b[31m│\u001b[0m exit code: \u001b[1;36m1\u001b[0m\n",
      "  \u001b[31m╰─>\u001b[0m \u001b[31m[44 lines of output]\u001b[0m\n",
      "  \u001b[31m   \u001b[0m running bdist_wheel\n",
      "  \u001b[31m   \u001b[0m running build\n",
      "  \u001b[31m   \u001b[0m running build_py\n",
      "  \u001b[31m   \u001b[0m creating build\n",
      "  \u001b[31m   \u001b[0m creating build/lib.macosx-14.5-arm64-cpython-38\n",
      "  \u001b[31m   \u001b[0m creating build/lib.macosx-14.5-arm64-cpython-38/cvxopt\n",
      "  \u001b[31m   \u001b[0m copying src/python/misc.py -> build/lib.macosx-14.5-arm64-cpython-38/cvxopt\n",
      "  \u001b[31m   \u001b[0m copying src/python/_version.py -> build/lib.macosx-14.5-arm64-cpython-38/cvxopt\n",
      "  \u001b[31m   \u001b[0m copying src/python/msk.py -> build/lib.macosx-14.5-arm64-cpython-38/cvxopt\n",
      "  \u001b[31m   \u001b[0m copying src/python/__init__.py -> build/lib.macosx-14.5-arm64-cpython-38/cvxopt\n",
      "  \u001b[31m   \u001b[0m copying src/python/solvers.py -> build/lib.macosx-14.5-arm64-cpython-38/cvxopt\n",
      "  \u001b[31m   \u001b[0m copying src/python/cvxprog.py -> build/lib.macosx-14.5-arm64-cpython-38/cvxopt\n",
      "  \u001b[31m   \u001b[0m copying src/python/modeling.py -> build/lib.macosx-14.5-arm64-cpython-38/cvxopt\n",
      "  \u001b[31m   \u001b[0m copying src/python/info.py -> build/lib.macosx-14.5-arm64-cpython-38/cvxopt\n",
      "  \u001b[31m   \u001b[0m copying src/python/coneprog.py -> build/lib.macosx-14.5-arm64-cpython-38/cvxopt\n",
      "  \u001b[31m   \u001b[0m copying src/python/printing.py -> build/lib.macosx-14.5-arm64-cpython-38/cvxopt\n",
      "  \u001b[31m   \u001b[0m running build_ext\n",
      "  \u001b[31m   \u001b[0m building 'base' extension\n",
      "  \u001b[31m   \u001b[0m creating build/temp.macosx-14.5-arm64-cpython-38\n",
      "  \u001b[31m   \u001b[0m creating build/temp.macosx-14.5-arm64-cpython-38/src\n",
      "  \u001b[31m   \u001b[0m creating build/temp.macosx-14.5-arm64-cpython-38/src/C\n",
      "  \u001b[31m   \u001b[0m clang -Wno-unused-result -Wsign-compare -Wunreachable-code -DNDEBUG -g -fwrapv -O3 -Wall -DOPENSSL_NO_SSL3 -I/Users/CHARLES/.pyenv/versions/portfolio-optimisation-env/include -I/Users/CHARLES/.pyenv/versions/3.8.12/include/python3.8 -c src/C/base.c -o build/temp.macosx-14.5-arm64-cpython-38/src/C/base.o\n",
      "  \u001b[31m   \u001b[0m clang -Wno-unused-result -Wsign-compare -Wunreachable-code -DNDEBUG -g -fwrapv -O3 -Wall -DOPENSSL_NO_SSL3 -I/Users/CHARLES/.pyenv/versions/portfolio-optimisation-env/include -I/Users/CHARLES/.pyenv/versions/3.8.12/include/python3.8 -c src/C/dense.c -o build/temp.macosx-14.5-arm64-cpython-38/src/C/dense.o\n",
      "  \u001b[31m   \u001b[0m clang -Wno-unused-result -Wsign-compare -Wunreachable-code -DNDEBUG -g -fwrapv -O3 -Wall -DOPENSSL_NO_SSL3 -I/Users/CHARLES/.pyenv/versions/portfolio-optimisation-env/include -I/Users/CHARLES/.pyenv/versions/3.8.12/include/python3.8 -c src/C/sparse.c -o build/temp.macosx-14.5-arm64-cpython-38/src/C/sparse.o\n",
      "  \u001b[31m   \u001b[0m clang -bundle -undefined dynamic_lookup -L/opt/homebrew/opt/readline/lib -L/opt/homebrew/opt/readline/lib -L/Users/CHARLES/.pyenv/versions/3.8.12/lib -Wl,-rpath,/Users/CHARLES/.pyenv/versions/3.8.12/lib -L/opt/homebrew/lib -Wl,-rpath,/opt/homebrew/lib -L/Applications/Xcode.app/Contents/Developer/Platforms/MacOSX.platform/Developer/SDKs/MacOSX.sdk/usr/lib -L/opt/homebrew/opt/readline/lib -L/opt/homebrew/opt/readline/lib -L/Users/CHARLES/.pyenv/versions/3.8.12/lib -Wl,-rpath,/Users/CHARLES/.pyenv/versions/3.8.12/lib -L/opt/homebrew/lib -Wl,-rpath,/opt/homebrew/lib -L/Applications/Xcode.app/Contents/Developer/Platforms/MacOSX.platform/Developer/SDKs/MacOSX.sdk/usr/lib build/temp.macosx-14.5-arm64-cpython-38/src/C/base.o build/temp.macosx-14.5-arm64-cpython-38/src/C/dense.o build/temp.macosx-14.5-arm64-cpython-38/src/C/sparse.o -L/usr/lib -L/Users/CHARLES/.pyenv/versions/3.8.12/lib -lm -llapack -lblas -o build/lib.macosx-14.5-arm64-cpython-38/cvxopt/base.cpython-38-darwin.so\n",
      "  \u001b[31m   \u001b[0m ld: warning: duplicate -rpath '/Users/CHARLES/.pyenv/versions/3.8.12/lib' ignored\n",
      "  \u001b[31m   \u001b[0m ld: warning: duplicate -rpath '/opt/homebrew/lib' ignored\n",
      "  \u001b[31m   \u001b[0m building 'blas' extension\n",
      "  \u001b[31m   \u001b[0m clang -Wno-unused-result -Wsign-compare -Wunreachable-code -DNDEBUG -g -fwrapv -O3 -Wall -DOPENSSL_NO_SSL3 -I/Users/CHARLES/.pyenv/versions/portfolio-optimisation-env/include -I/Users/CHARLES/.pyenv/versions/3.8.12/include/python3.8 -c src/C/blas.c -o build/temp.macosx-14.5-arm64-cpython-38/src/C/blas.o\n",
      "  \u001b[31m   \u001b[0m clang -bundle -undefined dynamic_lookup -L/opt/homebrew/opt/readline/lib -L/opt/homebrew/opt/readline/lib -L/Users/CHARLES/.pyenv/versions/3.8.12/lib -Wl,-rpath,/Users/CHARLES/.pyenv/versions/3.8.12/lib -L/opt/homebrew/lib -Wl,-rpath,/opt/homebrew/lib -L/Applications/Xcode.app/Contents/Developer/Platforms/MacOSX.platform/Developer/SDKs/MacOSX.sdk/usr/lib -L/opt/homebrew/opt/readline/lib -L/opt/homebrew/opt/readline/lib -L/Users/CHARLES/.pyenv/versions/3.8.12/lib -Wl,-rpath,/Users/CHARLES/.pyenv/versions/3.8.12/lib -L/opt/homebrew/lib -Wl,-rpath,/opt/homebrew/lib -L/Applications/Xcode.app/Contents/Developer/Platforms/MacOSX.platform/Developer/SDKs/MacOSX.sdk/usr/lib build/temp.macosx-14.5-arm64-cpython-38/src/C/blas.o -L/usr/lib -L/Users/CHARLES/.pyenv/versions/3.8.12/lib -lblas -o build/lib.macosx-14.5-arm64-cpython-38/cvxopt/blas.cpython-38-darwin.so\n",
      "  \u001b[31m   \u001b[0m ld: warning: duplicate -rpath '/Users/CHARLES/.pyenv/versions/3.8.12/lib' ignored\n",
      "  \u001b[31m   \u001b[0m ld: warning: duplicate -rpath '/opt/homebrew/lib' ignored\n",
      "  \u001b[31m   \u001b[0m building 'lapack' extension\n",
      "  \u001b[31m   \u001b[0m clang -Wno-unused-result -Wsign-compare -Wunreachable-code -DNDEBUG -g -fwrapv -O3 -Wall -DOPENSSL_NO_SSL3 -I/Users/CHARLES/.pyenv/versions/portfolio-optimisation-env/include -I/Users/CHARLES/.pyenv/versions/3.8.12/include/python3.8 -c src/C/lapack.c -o build/temp.macosx-14.5-arm64-cpython-38/src/C/lapack.o\n",
      "  \u001b[31m   \u001b[0m clang -bundle -undefined dynamic_lookup -L/opt/homebrew/opt/readline/lib -L/opt/homebrew/opt/readline/lib -L/Users/CHARLES/.pyenv/versions/3.8.12/lib -Wl,-rpath,/Users/CHARLES/.pyenv/versions/3.8.12/lib -L/opt/homebrew/lib -Wl,-rpath,/opt/homebrew/lib -L/Applications/Xcode.app/Contents/Developer/Platforms/MacOSX.platform/Developer/SDKs/MacOSX.sdk/usr/lib -L/opt/homebrew/opt/readline/lib -L/opt/homebrew/opt/readline/lib -L/Users/CHARLES/.pyenv/versions/3.8.12/lib -Wl,-rpath,/Users/CHARLES/.pyenv/versions/3.8.12/lib -L/opt/homebrew/lib -Wl,-rpath,/opt/homebrew/lib -L/Applications/Xcode.app/Contents/Developer/Platforms/MacOSX.platform/Developer/SDKs/MacOSX.sdk/usr/lib build/temp.macosx-14.5-arm64-cpython-38/src/C/lapack.o -L/usr/lib -L/Users/CHARLES/.pyenv/versions/3.8.12/lib -llapack -lblas -o build/lib.macosx-14.5-arm64-cpython-38/cvxopt/lapack.cpython-38-darwin.so\n",
      "  \u001b[31m   \u001b[0m ld: warning: duplicate -rpath '/Users/CHARLES/.pyenv/versions/3.8.12/lib' ignored\n",
      "  \u001b[31m   \u001b[0m ld: warning: duplicate -rpath '/opt/homebrew/lib' ignored\n",
      "  \u001b[31m   \u001b[0m building 'umfpack' extension\n",
      "  \u001b[31m   \u001b[0m clang -Wno-unused-result -Wsign-compare -Wunreachable-code -DNDEBUG -g -fwrapv -O3 -Wall -DOPENSSL_NO_SSL3 -I/usr/local/include -I/Users/CHARLES/.pyenv/versions/portfolio-optimisation-env/include -I/Users/CHARLES/.pyenv/versions/3.8.12/include/python3.8 -c src/C/umfpack.c -o build/temp.macosx-14.5-arm64-cpython-38/src/C/umfpack.o\n",
      "  \u001b[31m   \u001b[0m src/C/umfpack.c:23:10: fatal error: 'umfpack.h' file not found\n",
      "  \u001b[31m   \u001b[0m #include \"umfpack.h\"\n",
      "  \u001b[31m   \u001b[0m          ^~~~~~~~~~~\n",
      "  \u001b[31m   \u001b[0m 1 error generated.\n",
      "  \u001b[31m   \u001b[0m error: command '/usr/bin/clang' failed with exit code 1\n",
      "  \u001b[31m   \u001b[0m \u001b[31m[end of output]\u001b[0m\n",
      "  \n",
      "  \u001b[1;35mnote\u001b[0m: This error originates from a subprocess, and is likely not a problem with pip.\n",
      "\u001b[31m  ERROR: Failed building wheel for cvxopt\u001b[0m\u001b[31m\n",
      "\u001b[0m\u001b[?25hFailed to build cvxopt\n",
      "\u001b[31mERROR: ERROR: Failed to build installable wheels for some pyproject.toml based projects (cvxopt)\u001b[0m\u001b[31m\n",
      "\u001b[0mNote: you may need to restart the kernel to use updated packages.\n"
     ]
    }
   ],
   "source": [
    "pip install cvxopt"
   ]
  },
  {
   "cell_type": "code",
   "execution_count": 8,
   "id": "07344d85-68f2-4cf0-b01a-21a2ebf5d5cd",
   "metadata": {},
   "outputs": [
    {
     "ename": "ValueError",
     "evalue": "The python kernel does not appear to be a conda environment.  Please use ``%pip install`` instead.",
     "output_type": "error",
     "traceback": [
      "\u001b[0;31m---------------------------------------------------------------------------\u001b[0m",
      "\u001b[0;31mValueError\u001b[0m                                Traceback (most recent call last)",
      "Cell \u001b[0;32mIn[8], line 1\u001b[0m\n\u001b[0;32m----> 1\u001b[0m \u001b[43mget_ipython\u001b[49m\u001b[43m(\u001b[49m\u001b[43m)\u001b[49m\u001b[38;5;241;43m.\u001b[39;49m\u001b[43mrun_line_magic\u001b[49m\u001b[43m(\u001b[49m\u001b[38;5;124;43m'\u001b[39;49m\u001b[38;5;124;43mconda\u001b[39;49m\u001b[38;5;124;43m'\u001b[39;49m\u001b[43m,\u001b[49m\u001b[43m \u001b[49m\u001b[38;5;124;43m'\u001b[39;49m\u001b[38;5;124;43minstall logging\u001b[39;49m\u001b[38;5;124;43m'\u001b[39;49m\u001b[43m)\u001b[49m\n",
      "File \u001b[0;32m~/Desktop/GITHUB PERSONAL PROJECTS/Portfolio Optimisation/PORTFOLIO-OPTIMISATION-USING-MACHINE-LEARNING-1/new-env/lib/python3.8/site-packages/IPython/core/interactiveshell.py:2417\u001b[0m, in \u001b[0;36mInteractiveShell.run_line_magic\u001b[0;34m(self, magic_name, line, _stack_depth)\u001b[0m\n\u001b[1;32m   2415\u001b[0m     kwargs[\u001b[38;5;124m'\u001b[39m\u001b[38;5;124mlocal_ns\u001b[39m\u001b[38;5;124m'\u001b[39m] \u001b[38;5;241m=\u001b[39m \u001b[38;5;28mself\u001b[39m\u001b[38;5;241m.\u001b[39mget_local_scope(stack_depth)\n\u001b[1;32m   2416\u001b[0m \u001b[38;5;28;01mwith\u001b[39;00m \u001b[38;5;28mself\u001b[39m\u001b[38;5;241m.\u001b[39mbuiltin_trap:\n\u001b[0;32m-> 2417\u001b[0m     result \u001b[38;5;241m=\u001b[39m \u001b[43mfn\u001b[49m\u001b[43m(\u001b[49m\u001b[38;5;241;43m*\u001b[39;49m\u001b[43margs\u001b[49m\u001b[43m,\u001b[49m\u001b[43m \u001b[49m\u001b[38;5;241;43m*\u001b[39;49m\u001b[38;5;241;43m*\u001b[39;49m\u001b[43mkwargs\u001b[49m\u001b[43m)\u001b[49m\n\u001b[1;32m   2419\u001b[0m \u001b[38;5;66;03m# The code below prevents the output from being displayed\u001b[39;00m\n\u001b[1;32m   2420\u001b[0m \u001b[38;5;66;03m# when using magics with decodator @output_can_be_silenced\u001b[39;00m\n\u001b[1;32m   2421\u001b[0m \u001b[38;5;66;03m# when the last Python token in the expression is a ';'.\u001b[39;00m\n\u001b[1;32m   2422\u001b[0m \u001b[38;5;28;01mif\u001b[39;00m \u001b[38;5;28mgetattr\u001b[39m(fn, magic\u001b[38;5;241m.\u001b[39mMAGIC_OUTPUT_CAN_BE_SILENCED, \u001b[38;5;28;01mFalse\u001b[39;00m):\n",
      "File \u001b[0;32m~/Desktop/GITHUB PERSONAL PROJECTS/Portfolio Optimisation/PORTFOLIO-OPTIMISATION-USING-MACHINE-LEARNING-1/new-env/lib/python3.8/site-packages/IPython/core/magics/packaging.py:87\u001b[0m, in \u001b[0;36mPackagingMagics.conda\u001b[0;34m(self, line)\u001b[0m\n\u001b[1;32m     81\u001b[0m \u001b[38;5;250m\u001b[39m\u001b[38;5;124;03m\"\"\"Run the conda package manager within the current kernel.\u001b[39;00m\n\u001b[1;32m     82\u001b[0m \n\u001b[1;32m     83\u001b[0m \u001b[38;5;124;03mUsage:\u001b[39;00m\n\u001b[1;32m     84\u001b[0m \u001b[38;5;124;03m  %conda install [pkgs]\u001b[39;00m\n\u001b[1;32m     85\u001b[0m \u001b[38;5;124;03m\"\"\"\u001b[39;00m\n\u001b[1;32m     86\u001b[0m \u001b[38;5;28;01mif\u001b[39;00m \u001b[38;5;129;01mnot\u001b[39;00m _is_conda_environment():\n\u001b[0;32m---> 87\u001b[0m     \u001b[38;5;28;01mraise\u001b[39;00m \u001b[38;5;167;01mValueError\u001b[39;00m(\u001b[38;5;124m\"\u001b[39m\u001b[38;5;124mThe python kernel does not appear to be a conda environment.  \u001b[39m\u001b[38;5;124m\"\u001b[39m\n\u001b[1;32m     88\u001b[0m                      \u001b[38;5;124m\"\u001b[39m\u001b[38;5;124mPlease use ``\u001b[39m\u001b[38;5;124m%\u001b[39m\u001b[38;5;124mpip install`` instead.\u001b[39m\u001b[38;5;124m\"\u001b[39m)\n\u001b[1;32m     90\u001b[0m conda \u001b[38;5;241m=\u001b[39m _get_conda_executable()\n\u001b[1;32m     91\u001b[0m args \u001b[38;5;241m=\u001b[39m shlex\u001b[38;5;241m.\u001b[39msplit(line)\n",
      "\u001b[0;31mValueError\u001b[0m: The python kernel does not appear to be a conda environment.  Please use ``%pip install`` instead."
     ]
    }
   ],
   "source": [
    "conda install logging"
   ]
  },
  {
   "cell_type": "code",
   "execution_count": 5,
   "id": "e8f872e9-af05-47ef-bc18-90fcfdc14685",
   "metadata": {},
   "outputs": [
    {
     "name": "stdout",
     "output_type": "stream",
     "text": [
      "Collecting dill\n",
      "  Using cached dill-0.3.8-py3-none-any.whl.metadata (10 kB)\n",
      "Using cached dill-0.3.8-py3-none-any.whl (116 kB)\n",
      "Installing collected packages: dill\n",
      "Successfully installed dill-0.3.8\n",
      "Note: you may need to restart the kernel to use updated packages.\n"
     ]
    }
   ],
   "source": [
    "pip install dill"
   ]
  },
  {
   "cell_type": "code",
   "execution_count": 6,
   "id": "01038cbc-7f28-4b44-aa6f-7a211c3e3ff0",
   "metadata": {},
   "outputs": [
    {
     "name": "stdout",
     "output_type": "stream",
     "text": [
      "Collecting stable_baselines3\n",
      "  Using cached stable_baselines3-2.3.2-py3-none-any.whl.metadata (5.1 kB)\n",
      "Requirement already satisfied: gymnasium<0.30,>=0.28.1 in /Users/CHARLES/Desktop/GITHUB PERSONAL PROJECTS/Portfolio Optimisation/PORTFOLIO-OPTIMISATION-USING-MACHINE-LEARNING-1/new-env/lib/python3.8/site-packages (from stable_baselines3) (0.29.1)\n",
      "Requirement already satisfied: numpy>=1.20 in /Users/CHARLES/Desktop/GITHUB PERSONAL PROJECTS/Portfolio Optimisation/PORTFOLIO-OPTIMISATION-USING-MACHINE-LEARNING-1/new-env/lib/python3.8/site-packages (from stable_baselines3) (1.24.3)\n",
      "Requirement already satisfied: torch>=1.13 in /Users/CHARLES/Desktop/GITHUB PERSONAL PROJECTS/Portfolio Optimisation/PORTFOLIO-OPTIMISATION-USING-MACHINE-LEARNING-1/new-env/lib/python3.8/site-packages (from stable_baselines3) (2.0.1)\n",
      "Requirement already satisfied: cloudpickle in /Users/CHARLES/Desktop/GITHUB PERSONAL PROJECTS/Portfolio Optimisation/PORTFOLIO-OPTIMISATION-USING-MACHINE-LEARNING-1/new-env/lib/python3.8/site-packages (from stable_baselines3) (3.0.0)\n",
      "Requirement already satisfied: pandas in /Users/CHARLES/Desktop/GITHUB PERSONAL PROJECTS/Portfolio Optimisation/PORTFOLIO-OPTIMISATION-USING-MACHINE-LEARNING-1/new-env/lib/python3.8/site-packages (from stable_baselines3) (2.0.3)\n",
      "Requirement already satisfied: matplotlib in /Users/CHARLES/Desktop/GITHUB PERSONAL PROJECTS/Portfolio Optimisation/PORTFOLIO-OPTIMISATION-USING-MACHINE-LEARNING-1/new-env/lib/python3.8/site-packages (from stable_baselines3) (3.7.5)\n",
      "Requirement already satisfied: typing-extensions>=4.3.0 in /Users/CHARLES/Desktop/GITHUB PERSONAL PROJECTS/Portfolio Optimisation/PORTFOLIO-OPTIMISATION-USING-MACHINE-LEARNING-1/new-env/lib/python3.8/site-packages (from gymnasium<0.30,>=0.28.1->stable_baselines3) (4.5.0)\n",
      "Requirement already satisfied: farama-notifications>=0.0.1 in /Users/CHARLES/Desktop/GITHUB PERSONAL PROJECTS/Portfolio Optimisation/PORTFOLIO-OPTIMISATION-USING-MACHINE-LEARNING-1/new-env/lib/python3.8/site-packages (from gymnasium<0.30,>=0.28.1->stable_baselines3) (0.0.4)\n",
      "Requirement already satisfied: importlib-metadata>=4.8.0 in /Users/CHARLES/Desktop/GITHUB PERSONAL PROJECTS/Portfolio Optimisation/PORTFOLIO-OPTIMISATION-USING-MACHINE-LEARNING-1/new-env/lib/python3.8/site-packages (from gymnasium<0.30,>=0.28.1->stable_baselines3) (8.0.0)\n",
      "Requirement already satisfied: filelock in /Users/CHARLES/Desktop/GITHUB PERSONAL PROJECTS/Portfolio Optimisation/PORTFOLIO-OPTIMISATION-USING-MACHINE-LEARNING-1/new-env/lib/python3.8/site-packages (from torch>=1.13->stable_baselines3) (3.15.4)\n",
      "Requirement already satisfied: sympy in /Users/CHARLES/Desktop/GITHUB PERSONAL PROJECTS/Portfolio Optimisation/PORTFOLIO-OPTIMISATION-USING-MACHINE-LEARNING-1/new-env/lib/python3.8/site-packages (from torch>=1.13->stable_baselines3) (1.12.1)\n",
      "Requirement already satisfied: networkx in /Users/CHARLES/Desktop/GITHUB PERSONAL PROJECTS/Portfolio Optimisation/PORTFOLIO-OPTIMISATION-USING-MACHINE-LEARNING-1/new-env/lib/python3.8/site-packages (from torch>=1.13->stable_baselines3) (3.1)\n",
      "Requirement already satisfied: jinja2 in /Users/CHARLES/Desktop/GITHUB PERSONAL PROJECTS/Portfolio Optimisation/PORTFOLIO-OPTIMISATION-USING-MACHINE-LEARNING-1/new-env/lib/python3.8/site-packages (from torch>=1.13->stable_baselines3) (3.1.4)\n",
      "Requirement already satisfied: contourpy>=1.0.1 in /Users/CHARLES/Desktop/GITHUB PERSONAL PROJECTS/Portfolio Optimisation/PORTFOLIO-OPTIMISATION-USING-MACHINE-LEARNING-1/new-env/lib/python3.8/site-packages (from matplotlib->stable_baselines3) (1.1.1)\n",
      "Requirement already satisfied: cycler>=0.10 in /Users/CHARLES/Desktop/GITHUB PERSONAL PROJECTS/Portfolio Optimisation/PORTFOLIO-OPTIMISATION-USING-MACHINE-LEARNING-1/new-env/lib/python3.8/site-packages (from matplotlib->stable_baselines3) (0.12.1)\n",
      "Requirement already satisfied: fonttools>=4.22.0 in /Users/CHARLES/Desktop/GITHUB PERSONAL PROJECTS/Portfolio Optimisation/PORTFOLIO-OPTIMISATION-USING-MACHINE-LEARNING-1/new-env/lib/python3.8/site-packages (from matplotlib->stable_baselines3) (4.53.1)\n",
      "Requirement already satisfied: kiwisolver>=1.0.1 in /Users/CHARLES/Desktop/GITHUB PERSONAL PROJECTS/Portfolio Optimisation/PORTFOLIO-OPTIMISATION-USING-MACHINE-LEARNING-1/new-env/lib/python3.8/site-packages (from matplotlib->stable_baselines3) (1.4.5)\n",
      "Requirement already satisfied: packaging>=20.0 in /Users/CHARLES/Desktop/GITHUB PERSONAL PROJECTS/Portfolio Optimisation/PORTFOLIO-OPTIMISATION-USING-MACHINE-LEARNING-1/new-env/lib/python3.8/site-packages (from matplotlib->stable_baselines3) (24.1)\n",
      "Requirement already satisfied: pillow>=6.2.0 in /Users/CHARLES/Desktop/GITHUB PERSONAL PROJECTS/Portfolio Optimisation/PORTFOLIO-OPTIMISATION-USING-MACHINE-LEARNING-1/new-env/lib/python3.8/site-packages (from matplotlib->stable_baselines3) (10.4.0)\n",
      "Requirement already satisfied: pyparsing>=2.3.1 in /Users/CHARLES/Desktop/GITHUB PERSONAL PROJECTS/Portfolio Optimisation/PORTFOLIO-OPTIMISATION-USING-MACHINE-LEARNING-1/new-env/lib/python3.8/site-packages (from matplotlib->stable_baselines3) (3.1.2)\n",
      "Requirement already satisfied: python-dateutil>=2.7 in /Users/CHARLES/Desktop/GITHUB PERSONAL PROJECTS/Portfolio Optimisation/PORTFOLIO-OPTIMISATION-USING-MACHINE-LEARNING-1/new-env/lib/python3.8/site-packages (from matplotlib->stable_baselines3) (2.9.0.post0)\n",
      "Requirement already satisfied: importlib-resources>=3.2.0 in /Users/CHARLES/Desktop/GITHUB PERSONAL PROJECTS/Portfolio Optimisation/PORTFOLIO-OPTIMISATION-USING-MACHINE-LEARNING-1/new-env/lib/python3.8/site-packages (from matplotlib->stable_baselines3) (6.4.0)\n",
      "Requirement already satisfied: pytz>=2020.1 in /Users/CHARLES/Desktop/GITHUB PERSONAL PROJECTS/Portfolio Optimisation/PORTFOLIO-OPTIMISATION-USING-MACHINE-LEARNING-1/new-env/lib/python3.8/site-packages (from pandas->stable_baselines3) (2024.1)\n",
      "Requirement already satisfied: tzdata>=2022.1 in /Users/CHARLES/Desktop/GITHUB PERSONAL PROJECTS/Portfolio Optimisation/PORTFOLIO-OPTIMISATION-USING-MACHINE-LEARNING-1/new-env/lib/python3.8/site-packages (from pandas->stable_baselines3) (2024.1)\n",
      "Requirement already satisfied: zipp>=0.5 in /Users/CHARLES/Desktop/GITHUB PERSONAL PROJECTS/Portfolio Optimisation/PORTFOLIO-OPTIMISATION-USING-MACHINE-LEARNING-1/new-env/lib/python3.8/site-packages (from importlib-metadata>=4.8.0->gymnasium<0.30,>=0.28.1->stable_baselines3) (3.19.2)\n",
      "Requirement already satisfied: six>=1.5 in /Users/CHARLES/Desktop/GITHUB PERSONAL PROJECTS/Portfolio Optimisation/PORTFOLIO-OPTIMISATION-USING-MACHINE-LEARNING-1/new-env/lib/python3.8/site-packages (from python-dateutil>=2.7->matplotlib->stable_baselines3) (1.16.0)\n",
      "Requirement already satisfied: MarkupSafe>=2.0 in /Users/CHARLES/Desktop/GITHUB PERSONAL PROJECTS/Portfolio Optimisation/PORTFOLIO-OPTIMISATION-USING-MACHINE-LEARNING-1/new-env/lib/python3.8/site-packages (from jinja2->torch>=1.13->stable_baselines3) (2.1.5)\n",
      "Requirement already satisfied: mpmath<1.4.0,>=1.1.0 in /Users/CHARLES/Desktop/GITHUB PERSONAL PROJECTS/Portfolio Optimisation/PORTFOLIO-OPTIMISATION-USING-MACHINE-LEARNING-1/new-env/lib/python3.8/site-packages (from sympy->torch>=1.13->stable_baselines3) (1.3.0)\n",
      "Using cached stable_baselines3-2.3.2-py3-none-any.whl (182 kB)\n",
      "Installing collected packages: stable_baselines3\n",
      "Successfully installed stable_baselines3-2.3.2\n",
      "Note: you may need to restart the kernel to use updated packages.\n"
     ]
    }
   ],
   "source": [
    "pip install stable_baselines3"
   ]
  },
  {
   "cell_type": "code",
   "execution_count": 3,
   "id": "4869869f-c2f4-4039-91ab-399d5c569e32",
   "metadata": {},
   "outputs": [
    {
     "name": "stdout",
     "output_type": "stream",
     "text": [
      "Collecting openpyxl\n",
      "  Using cached openpyxl-3.1.5-py2.py3-none-any.whl.metadata (2.5 kB)\n",
      "Collecting et-xmlfile (from openpyxl)\n",
      "  Using cached et_xmlfile-1.1.0-py3-none-any.whl.metadata (1.8 kB)\n",
      "Using cached openpyxl-3.1.5-py2.py3-none-any.whl (250 kB)\n",
      "Using cached et_xmlfile-1.1.0-py3-none-any.whl (4.7 kB)\n",
      "Installing collected packages: et-xmlfile, openpyxl\n",
      "Successfully installed et-xmlfile-1.1.0 openpyxl-3.1.5\n",
      "Note: you may need to restart the kernel to use updated packages.\n"
     ]
    }
   ],
   "source": [
    "pip install openpyxl"
   ]
  },
  {
   "cell_type": "code",
   "execution_count": 4,
   "id": "2f59ec07-41f1-41d6-adaa-b62e31dbd20f",
   "metadata": {},
   "outputs": [
    {
     "name": "stdout",
     "output_type": "stream",
     "text": [
      "Collecting gymnasium\n",
      "  Using cached gymnasium-0.29.1-py3-none-any.whl.metadata (10 kB)\n",
      "Requirement already satisfied: numpy>=1.21.0 in /Users/CHARLES/Desktop/GITHUB PERSONAL PROJECTS/Portfolio Optimisation/PORTFOLIO-OPTIMISATION-USING-MACHINE-LEARNING-1/new-env/lib/python3.8/site-packages (from gymnasium) (1.24.3)\n",
      "Collecting cloudpickle>=1.2.0 (from gymnasium)\n",
      "  Using cached cloudpickle-3.0.0-py3-none-any.whl.metadata (7.0 kB)\n",
      "Requirement already satisfied: typing-extensions>=4.3.0 in /Users/CHARLES/Desktop/GITHUB PERSONAL PROJECTS/Portfolio Optimisation/PORTFOLIO-OPTIMISATION-USING-MACHINE-LEARNING-1/new-env/lib/python3.8/site-packages (from gymnasium) (4.5.0)\n",
      "Collecting farama-notifications>=0.0.1 (from gymnasium)\n",
      "  Using cached Farama_Notifications-0.0.4-py3-none-any.whl.metadata (558 bytes)\n",
      "Requirement already satisfied: importlib-metadata>=4.8.0 in /Users/CHARLES/Desktop/GITHUB PERSONAL PROJECTS/Portfolio Optimisation/PORTFOLIO-OPTIMISATION-USING-MACHINE-LEARNING-1/new-env/lib/python3.8/site-packages (from gymnasium) (8.0.0)\n",
      "Requirement already satisfied: zipp>=0.5 in /Users/CHARLES/Desktop/GITHUB PERSONAL PROJECTS/Portfolio Optimisation/PORTFOLIO-OPTIMISATION-USING-MACHINE-LEARNING-1/new-env/lib/python3.8/site-packages (from importlib-metadata>=4.8.0->gymnasium) (3.19.2)\n",
      "Using cached gymnasium-0.29.1-py3-none-any.whl (953 kB)\n",
      "Using cached cloudpickle-3.0.0-py3-none-any.whl (20 kB)\n",
      "Using cached Farama_Notifications-0.0.4-py3-none-any.whl (2.5 kB)\n",
      "Installing collected packages: farama-notifications, cloudpickle, gymnasium\n",
      "Successfully installed cloudpickle-3.0.0 farama-notifications-0.0.4 gymnasium-0.29.1\n",
      "Note: you may need to restart the kernel to use updated packages.\n"
     ]
    }
   ],
   "source": [
    "pip install gymnasium"
   ]
  },
  {
   "cell_type": "code",
   "execution_count": 11,
   "id": "aaa1db7b-0766-4a4b-8679-6b2444996b35",
   "metadata": {},
   "outputs": [
    {
     "name": "stdout",
     "output_type": "stream",
     "text": [
      "Collecting Adam\n",
      "  Downloading adam-0.0.0.dev0-py2.py3-none-any.whl.metadata (1.0 kB)\n",
      "Downloading adam-0.0.0.dev0-py2.py3-none-any.whl (2.6 kB)\n",
      "Installing collected packages: Adam\n",
      "Successfully installed Adam-0.0.0.dev0\n",
      "Note: you may need to restart the kernel to use updated packages.\n"
     ]
    }
   ],
   "source": [
    "pip install Adam"
   ]
  },
  {
   "cell_type": "code",
   "execution_count": 2,
   "id": "3de29777-22ce-4744-9702-576537be490b",
   "metadata": {},
   "outputs": [
    {
     "name": "stdout",
     "output_type": "stream",
     "text": [
      "Collecting dill\n",
      "  Downloading dill-0.3.8-py3-none-any.whl.metadata (10 kB)\n",
      "Downloading dill-0.3.8-py3-none-any.whl (116 kB)\n",
      "\u001b[2K   \u001b[90m━━━━━━━━━━━━━━━━━━━━━━━━━━━━━━━━━━━━━━━━\u001b[0m \u001b[32m116.3/116.3 kB\u001b[0m \u001b[31m7.5 MB/s\u001b[0m eta \u001b[36m0:00:00\u001b[0m\n",
      "\u001b[?25hInstalling collected packages: dill\n",
      "Successfully installed dill-0.3.8\n",
      "Note: you may need to restart the kernel to use updated packages.\n"
     ]
    }
   ],
   "source": [
    "pip install  dill"
   ]
  },
  {
   "cell_type": "code",
   "execution_count": 1,
   "id": "73b4fa7d-ab7e-44a1-b80f-9f4006fe2486",
   "metadata": {},
   "outputs": [
    {
     "name": "stdout",
     "output_type": "stream",
     "text": [
      "Collecting scikeras\n",
      "  Using cached scikeras-0.12.0-py3-none-any.whl.metadata (4.0 kB)\n",
      "Requirement already satisfied: packaging>=0.21 in /Users/CHARLES/Desktop/GITHUB PERSONAL PROJECTS/Portfolio Optimisation/PORTFOLIO-OPTIMISATION-USING-MACHINE-LEARNING-1/new-env/lib/python3.8/site-packages (from scikeras) (24.1)\n",
      "Requirement already satisfied: scikit-learn>=1.0.0 in /Users/CHARLES/Desktop/GITHUB PERSONAL PROJECTS/Portfolio Optimisation/PORTFOLIO-OPTIMISATION-USING-MACHINE-LEARNING-1/new-env/lib/python3.8/site-packages (from scikeras) (1.3.2)\n",
      "INFO: pip is looking at multiple versions of scikeras to determine which version is compatible with other requirements. This could take a while.\n",
      "  Using cached scikeras-0.11.0-py3-none-any.whl.metadata (4.0 kB)\n",
      "Requirement already satisfied: numpy<2.0,>=1.17.3 in /Users/CHARLES/Desktop/GITHUB PERSONAL PROJECTS/Portfolio Optimisation/PORTFOLIO-OPTIMISATION-USING-MACHINE-LEARNING-1/new-env/lib/python3.8/site-packages (from scikit-learn>=1.0.0->scikeras) (1.24.3)\n",
      "Requirement already satisfied: scipy>=1.5.0 in /Users/CHARLES/Desktop/GITHUB PERSONAL PROJECTS/Portfolio Optimisation/PORTFOLIO-OPTIMISATION-USING-MACHINE-LEARNING-1/new-env/lib/python3.8/site-packages (from scikit-learn>=1.0.0->scikeras) (1.10.1)\n",
      "Requirement already satisfied: joblib>=1.1.1 in /Users/CHARLES/Desktop/GITHUB PERSONAL PROJECTS/Portfolio Optimisation/PORTFOLIO-OPTIMISATION-USING-MACHINE-LEARNING-1/new-env/lib/python3.8/site-packages (from scikit-learn>=1.0.0->scikeras) (1.4.2)\n",
      "Requirement already satisfied: threadpoolctl>=2.0.0 in /Users/CHARLES/Desktop/GITHUB PERSONAL PROJECTS/Portfolio Optimisation/PORTFOLIO-OPTIMISATION-USING-MACHINE-LEARNING-1/new-env/lib/python3.8/site-packages (from scikit-learn>=1.0.0->scikeras) (3.5.0)\n",
      "Using cached scikeras-0.11.0-py3-none-any.whl (27 kB)\n",
      "Installing collected packages: scikeras\n",
      "Successfully installed scikeras-0.11.0\n",
      "Note: you may need to restart the kernel to use updated packages.\n"
     ]
    }
   ],
   "source": [
    "pip install scikeras"
   ]
  },
  {
   "cell_type": "code",
   "execution_count": 2,
   "id": "9d9b5888-eb16-4b0e-a6ae-9dba17fc365a",
   "metadata": {},
   "outputs": [
    {
     "name": "stdout",
     "output_type": "stream",
     "text": [
      "Collecting ipympl\n",
      "  Using cached ipympl-0.9.3-py2.py3-none-any.whl.metadata (1.3 kB)\n",
      "Requirement already satisfied: ipython<9 in /Users/CHARLES/Desktop/GITHUB PERSONAL PROJECTS/Portfolio Optimisation/PORTFOLIO-OPTIMISATION-USING-MACHINE-LEARNING-1/new-env/lib/python3.8/site-packages (from ipympl) (8.12.3)\n",
      "Requirement already satisfied: numpy in /Users/CHARLES/Desktop/GITHUB PERSONAL PROJECTS/Portfolio Optimisation/PORTFOLIO-OPTIMISATION-USING-MACHINE-LEARNING-1/new-env/lib/python3.8/site-packages (from ipympl) (1.24.3)\n",
      "Collecting ipython-genutils (from ipympl)\n",
      "  Using cached ipython_genutils-0.2.0-py2.py3-none-any.whl.metadata (755 bytes)\n",
      "Requirement already satisfied: pillow in /Users/CHARLES/Desktop/GITHUB PERSONAL PROJECTS/Portfolio Optimisation/PORTFOLIO-OPTIMISATION-USING-MACHINE-LEARNING-1/new-env/lib/python3.8/site-packages (from ipympl) (10.4.0)\n",
      "Requirement already satisfied: traitlets<6 in /Users/CHARLES/Desktop/GITHUB PERSONAL PROJECTS/Portfolio Optimisation/PORTFOLIO-OPTIMISATION-USING-MACHINE-LEARNING-1/new-env/lib/python3.8/site-packages (from ipympl) (5.14.3)\n",
      "Collecting ipywidgets<9,>=7.6.0 (from ipympl)\n",
      "  Using cached ipywidgets-8.1.3-py3-none-any.whl.metadata (2.4 kB)\n",
      "Requirement already satisfied: matplotlib<4,>=3.4.0 in /Users/CHARLES/Desktop/GITHUB PERSONAL PROJECTS/Portfolio Optimisation/PORTFOLIO-OPTIMISATION-USING-MACHINE-LEARNING-1/new-env/lib/python3.8/site-packages (from ipympl) (3.7.5)\n",
      "Requirement already satisfied: backcall in /Users/CHARLES/Desktop/GITHUB PERSONAL PROJECTS/Portfolio Optimisation/PORTFOLIO-OPTIMISATION-USING-MACHINE-LEARNING-1/new-env/lib/python3.8/site-packages (from ipython<9->ipympl) (0.2.0)\n",
      "Requirement already satisfied: decorator in /Users/CHARLES/Desktop/GITHUB PERSONAL PROJECTS/Portfolio Optimisation/PORTFOLIO-OPTIMISATION-USING-MACHINE-LEARNING-1/new-env/lib/python3.8/site-packages (from ipython<9->ipympl) (5.1.1)\n",
      "Requirement already satisfied: jedi>=0.16 in /Users/CHARLES/Desktop/GITHUB PERSONAL PROJECTS/Portfolio Optimisation/PORTFOLIO-OPTIMISATION-USING-MACHINE-LEARNING-1/new-env/lib/python3.8/site-packages (from ipython<9->ipympl) (0.19.1)\n",
      "Requirement already satisfied: matplotlib-inline in /Users/CHARLES/Desktop/GITHUB PERSONAL PROJECTS/Portfolio Optimisation/PORTFOLIO-OPTIMISATION-USING-MACHINE-LEARNING-1/new-env/lib/python3.8/site-packages (from ipython<9->ipympl) (0.1.7)\n",
      "Requirement already satisfied: pickleshare in /Users/CHARLES/Desktop/GITHUB PERSONAL PROJECTS/Portfolio Optimisation/PORTFOLIO-OPTIMISATION-USING-MACHINE-LEARNING-1/new-env/lib/python3.8/site-packages (from ipython<9->ipympl) (0.7.5)\n",
      "Requirement already satisfied: prompt-toolkit!=3.0.37,<3.1.0,>=3.0.30 in /Users/CHARLES/Desktop/GITHUB PERSONAL PROJECTS/Portfolio Optimisation/PORTFOLIO-OPTIMISATION-USING-MACHINE-LEARNING-1/new-env/lib/python3.8/site-packages (from ipython<9->ipympl) (3.0.47)\n",
      "Requirement already satisfied: pygments>=2.4.0 in /Users/CHARLES/Desktop/GITHUB PERSONAL PROJECTS/Portfolio Optimisation/PORTFOLIO-OPTIMISATION-USING-MACHINE-LEARNING-1/new-env/lib/python3.8/site-packages (from ipython<9->ipympl) (2.18.0)\n",
      "Requirement already satisfied: stack-data in /Users/CHARLES/Desktop/GITHUB PERSONAL PROJECTS/Portfolio Optimisation/PORTFOLIO-OPTIMISATION-USING-MACHINE-LEARNING-1/new-env/lib/python3.8/site-packages (from ipython<9->ipympl) (0.6.3)\n",
      "Requirement already satisfied: typing-extensions in /Users/CHARLES/Desktop/GITHUB PERSONAL PROJECTS/Portfolio Optimisation/PORTFOLIO-OPTIMISATION-USING-MACHINE-LEARNING-1/new-env/lib/python3.8/site-packages (from ipython<9->ipympl) (4.5.0)\n",
      "Requirement already satisfied: pexpect>4.3 in /Users/CHARLES/Desktop/GITHUB PERSONAL PROJECTS/Portfolio Optimisation/PORTFOLIO-OPTIMISATION-USING-MACHINE-LEARNING-1/new-env/lib/python3.8/site-packages (from ipython<9->ipympl) (4.9.0)\n",
      "Requirement already satisfied: appnope in /Users/CHARLES/Desktop/GITHUB PERSONAL PROJECTS/Portfolio Optimisation/PORTFOLIO-OPTIMISATION-USING-MACHINE-LEARNING-1/new-env/lib/python3.8/site-packages (from ipython<9->ipympl) (0.1.4)\n",
      "Requirement already satisfied: comm>=0.1.3 in /Users/CHARLES/Desktop/GITHUB PERSONAL PROJECTS/Portfolio Optimisation/PORTFOLIO-OPTIMISATION-USING-MACHINE-LEARNING-1/new-env/lib/python3.8/site-packages (from ipywidgets<9,>=7.6.0->ipympl) (0.2.2)\n",
      "Collecting widgetsnbextension~=4.0.11 (from ipywidgets<9,>=7.6.0->ipympl)\n",
      "  Using cached widgetsnbextension-4.0.11-py3-none-any.whl.metadata (1.6 kB)\n",
      "Collecting jupyterlab-widgets~=3.0.11 (from ipywidgets<9,>=7.6.0->ipympl)\n",
      "  Using cached jupyterlab_widgets-3.0.11-py3-none-any.whl.metadata (4.1 kB)\n",
      "Requirement already satisfied: contourpy>=1.0.1 in /Users/CHARLES/Desktop/GITHUB PERSONAL PROJECTS/Portfolio Optimisation/PORTFOLIO-OPTIMISATION-USING-MACHINE-LEARNING-1/new-env/lib/python3.8/site-packages (from matplotlib<4,>=3.4.0->ipympl) (1.1.1)\n",
      "Requirement already satisfied: cycler>=0.10 in /Users/CHARLES/Desktop/GITHUB PERSONAL PROJECTS/Portfolio Optimisation/PORTFOLIO-OPTIMISATION-USING-MACHINE-LEARNING-1/new-env/lib/python3.8/site-packages (from matplotlib<4,>=3.4.0->ipympl) (0.12.1)\n",
      "Requirement already satisfied: fonttools>=4.22.0 in /Users/CHARLES/Desktop/GITHUB PERSONAL PROJECTS/Portfolio Optimisation/PORTFOLIO-OPTIMISATION-USING-MACHINE-LEARNING-1/new-env/lib/python3.8/site-packages (from matplotlib<4,>=3.4.0->ipympl) (4.53.1)\n",
      "Requirement already satisfied: kiwisolver>=1.0.1 in /Users/CHARLES/Desktop/GITHUB PERSONAL PROJECTS/Portfolio Optimisation/PORTFOLIO-OPTIMISATION-USING-MACHINE-LEARNING-1/new-env/lib/python3.8/site-packages (from matplotlib<4,>=3.4.0->ipympl) (1.4.5)\n",
      "Requirement already satisfied: packaging>=20.0 in /Users/CHARLES/Desktop/GITHUB PERSONAL PROJECTS/Portfolio Optimisation/PORTFOLIO-OPTIMISATION-USING-MACHINE-LEARNING-1/new-env/lib/python3.8/site-packages (from matplotlib<4,>=3.4.0->ipympl) (24.1)\n",
      "Requirement already satisfied: pyparsing>=2.3.1 in /Users/CHARLES/Desktop/GITHUB PERSONAL PROJECTS/Portfolio Optimisation/PORTFOLIO-OPTIMISATION-USING-MACHINE-LEARNING-1/new-env/lib/python3.8/site-packages (from matplotlib<4,>=3.4.0->ipympl) (3.1.2)\n",
      "Requirement already satisfied: python-dateutil>=2.7 in /Users/CHARLES/Desktop/GITHUB PERSONAL PROJECTS/Portfolio Optimisation/PORTFOLIO-OPTIMISATION-USING-MACHINE-LEARNING-1/new-env/lib/python3.8/site-packages (from matplotlib<4,>=3.4.0->ipympl) (2.9.0.post0)\n",
      "Requirement already satisfied: importlib-resources>=3.2.0 in /Users/CHARLES/Desktop/GITHUB PERSONAL PROJECTS/Portfolio Optimisation/PORTFOLIO-OPTIMISATION-USING-MACHINE-LEARNING-1/new-env/lib/python3.8/site-packages (from matplotlib<4,>=3.4.0->ipympl) (6.4.0)\n",
      "Requirement already satisfied: zipp>=3.1.0 in /Users/CHARLES/Desktop/GITHUB PERSONAL PROJECTS/Portfolio Optimisation/PORTFOLIO-OPTIMISATION-USING-MACHINE-LEARNING-1/new-env/lib/python3.8/site-packages (from importlib-resources>=3.2.0->matplotlib<4,>=3.4.0->ipympl) (3.19.2)\n",
      "Requirement already satisfied: parso<0.9.0,>=0.8.3 in /Users/CHARLES/Desktop/GITHUB PERSONAL PROJECTS/Portfolio Optimisation/PORTFOLIO-OPTIMISATION-USING-MACHINE-LEARNING-1/new-env/lib/python3.8/site-packages (from jedi>=0.16->ipython<9->ipympl) (0.8.4)\n",
      "Requirement already satisfied: ptyprocess>=0.5 in /Users/CHARLES/Desktop/GITHUB PERSONAL PROJECTS/Portfolio Optimisation/PORTFOLIO-OPTIMISATION-USING-MACHINE-LEARNING-1/new-env/lib/python3.8/site-packages (from pexpect>4.3->ipython<9->ipympl) (0.7.0)\n",
      "Requirement already satisfied: wcwidth in /Users/CHARLES/Desktop/GITHUB PERSONAL PROJECTS/Portfolio Optimisation/PORTFOLIO-OPTIMISATION-USING-MACHINE-LEARNING-1/new-env/lib/python3.8/site-packages (from prompt-toolkit!=3.0.37,<3.1.0,>=3.0.30->ipython<9->ipympl) (0.2.13)\n",
      "Requirement already satisfied: six>=1.5 in /Users/CHARLES/Desktop/GITHUB PERSONAL PROJECTS/Portfolio Optimisation/PORTFOLIO-OPTIMISATION-USING-MACHINE-LEARNING-1/new-env/lib/python3.8/site-packages (from python-dateutil>=2.7->matplotlib<4,>=3.4.0->ipympl) (1.16.0)\n",
      "Requirement already satisfied: executing>=1.2.0 in /Users/CHARLES/Desktop/GITHUB PERSONAL PROJECTS/Portfolio Optimisation/PORTFOLIO-OPTIMISATION-USING-MACHINE-LEARNING-1/new-env/lib/python3.8/site-packages (from stack-data->ipython<9->ipympl) (2.0.1)\n",
      "Requirement already satisfied: asttokens>=2.1.0 in /Users/CHARLES/Desktop/GITHUB PERSONAL PROJECTS/Portfolio Optimisation/PORTFOLIO-OPTIMISATION-USING-MACHINE-LEARNING-1/new-env/lib/python3.8/site-packages (from stack-data->ipython<9->ipympl) (2.4.1)\n",
      "Requirement already satisfied: pure-eval in /Users/CHARLES/Desktop/GITHUB PERSONAL PROJECTS/Portfolio Optimisation/PORTFOLIO-OPTIMISATION-USING-MACHINE-LEARNING-1/new-env/lib/python3.8/site-packages (from stack-data->ipython<9->ipympl) (0.2.2)\n",
      "Using cached ipympl-0.9.3-py2.py3-none-any.whl (511 kB)\n",
      "Using cached ipywidgets-8.1.3-py3-none-any.whl (139 kB)\n",
      "Using cached ipython_genutils-0.2.0-py2.py3-none-any.whl (26 kB)\n",
      "Using cached jupyterlab_widgets-3.0.11-py3-none-any.whl (214 kB)\n",
      "Using cached widgetsnbextension-4.0.11-py3-none-any.whl (2.3 MB)\n",
      "Installing collected packages: ipython-genutils, widgetsnbextension, jupyterlab-widgets, ipywidgets, ipympl\n",
      "Successfully installed ipympl-0.9.3 ipython-genutils-0.2.0 ipywidgets-8.1.3 jupyterlab-widgets-3.0.11 widgetsnbextension-4.0.11\n",
      "Note: you may need to restart the kernel to use updated packages.\n"
     ]
    }
   ],
   "source": [
    "pip install ipympl"
   ]
  },
  {
   "cell_type": "code",
   "execution_count": 3,
   "id": "1f868265-d395-4791-b74c-87bf08db4125",
   "metadata": {},
   "outputs": [
    {
     "name": "stdout",
     "output_type": "stream",
     "text": [
      "Collecting Pandoc\n",
      "  Downloading pandoc-2.3.tar.gz (33 kB)\n",
      "  Preparing metadata (setup.py) ... \u001b[?25ldone\n",
      "\u001b[?25hCollecting plumbum (from Pandoc)\n",
      "  Using cached plumbum-1.8.3-py3-none-any.whl.metadata (10 kB)\n",
      "Collecting ply (from Pandoc)\n",
      "  Downloading ply-3.11-py2.py3-none-any.whl.metadata (844 bytes)\n",
      "Using cached plumbum-1.8.3-py3-none-any.whl (127 kB)\n",
      "Downloading ply-3.11-py2.py3-none-any.whl (49 kB)\n",
      "\u001b[2K   \u001b[90m━━━━━━━━━━━━━━━━━━━━━━━━━━━━━━━━━━━━━━━━\u001b[0m \u001b[32m49.6/49.6 kB\u001b[0m \u001b[31m5.6 MB/s\u001b[0m eta \u001b[36m0:00:00\u001b[0m\n",
      "\u001b[?25hBuilding wheels for collected packages: Pandoc\n",
      "  Building wheel for Pandoc (setup.py) ... \u001b[?25ldone\n",
      "\u001b[?25h  Created wheel for Pandoc: filename=pandoc-2.3-py3-none-any.whl size=33274 sha256=beb67119a58bd8f8d302264ad188bad42e4bb0e5c4b57a776c8a39297cd83e08\n",
      "  Stored in directory: /Users/CHARLES/Library/Caches/pip/wheels/90/3a/a8/3237a93e3a6261bd24edabf3277ca59f64c1710b3d8c7c72a0\n",
      "Successfully built Pandoc\n",
      "Installing collected packages: ply, plumbum, Pandoc\n",
      "Successfully installed Pandoc-2.3 plumbum-1.8.3 ply-3.11\n",
      "Note: you may need to restart the kernel to use updated packages.\n"
     ]
    }
   ],
   "source": [
    "pip install  Pandoc "
   ]
  },
  {
   "cell_type": "code",
   "execution_count": 1,
   "id": "592223f3-1efc-40ef-80c7-7aca2ecdfa33",
   "metadata": {},
   "outputs": [
    {
     "name": "stdout",
     "output_type": "stream",
     "text": [
      "Requirement already satisfied: nbconvert in /Users/CHARLES/.pyenv/versions/3.8.12/envs/portfolio-optimisation-env/lib/python3.8/site-packages (7.16.4)\n",
      "Requirement already satisfied: beautifulsoup4 in /Users/CHARLES/.pyenv/versions/3.8.12/envs/portfolio-optimisation-env/lib/python3.8/site-packages (from nbconvert) (4.12.3)\n",
      "Requirement already satisfied: bleach!=5.0.0 in /Users/CHARLES/.pyenv/versions/3.8.12/envs/portfolio-optimisation-env/lib/python3.8/site-packages (from nbconvert) (6.1.0)\n",
      "Requirement already satisfied: defusedxml in /Users/CHARLES/.pyenv/versions/3.8.12/envs/portfolio-optimisation-env/lib/python3.8/site-packages (from nbconvert) (0.7.1)\n",
      "Requirement already satisfied: importlib-metadata>=3.6 in /Users/CHARLES/.pyenv/versions/3.8.12/envs/portfolio-optimisation-env/lib/python3.8/site-packages (from nbconvert) (8.0.0)\n",
      "Requirement already satisfied: jinja2>=3.0 in /Users/CHARLES/.pyenv/versions/3.8.12/envs/portfolio-optimisation-env/lib/python3.8/site-packages (from nbconvert) (3.1.4)\n",
      "Requirement already satisfied: jupyter-core>=4.7 in /Users/CHARLES/.pyenv/versions/3.8.12/envs/portfolio-optimisation-env/lib/python3.8/site-packages (from nbconvert) (5.7.2)\n",
      "Requirement already satisfied: jupyterlab-pygments in /Users/CHARLES/.pyenv/versions/3.8.12/envs/portfolio-optimisation-env/lib/python3.8/site-packages (from nbconvert) (0.3.0)\n",
      "Requirement already satisfied: markupsafe>=2.0 in /Users/CHARLES/.pyenv/versions/3.8.12/envs/portfolio-optimisation-env/lib/python3.8/site-packages (from nbconvert) (2.1.5)\n",
      "Requirement already satisfied: mistune<4,>=2.0.3 in /Users/CHARLES/.pyenv/versions/3.8.12/envs/portfolio-optimisation-env/lib/python3.8/site-packages (from nbconvert) (3.0.2)\n",
      "Requirement already satisfied: nbclient>=0.5.0 in /Users/CHARLES/.pyenv/versions/3.8.12/envs/portfolio-optimisation-env/lib/python3.8/site-packages (from nbconvert) (0.10.0)\n",
      "Requirement already satisfied: nbformat>=5.7 in /Users/CHARLES/.pyenv/versions/3.8.12/envs/portfolio-optimisation-env/lib/python3.8/site-packages (from nbconvert) (5.10.4)\n",
      "Requirement already satisfied: packaging in /Users/CHARLES/.pyenv/versions/3.8.12/envs/portfolio-optimisation-env/lib/python3.8/site-packages (from nbconvert) (24.1)\n",
      "Requirement already satisfied: pandocfilters>=1.4.1 in /Users/CHARLES/.pyenv/versions/3.8.12/envs/portfolio-optimisation-env/lib/python3.8/site-packages (from nbconvert) (1.5.1)\n",
      "Requirement already satisfied: pygments>=2.4.1 in /Users/CHARLES/.pyenv/versions/3.8.12/envs/portfolio-optimisation-env/lib/python3.8/site-packages (from nbconvert) (2.18.0)\n",
      "Requirement already satisfied: tinycss2 in /Users/CHARLES/.pyenv/versions/3.8.12/envs/portfolio-optimisation-env/lib/python3.8/site-packages (from nbconvert) (1.3.0)\n",
      "Requirement already satisfied: traitlets>=5.1 in /Users/CHARLES/.pyenv/versions/3.8.12/envs/portfolio-optimisation-env/lib/python3.8/site-packages (from nbconvert) (5.14.3)\n",
      "Requirement already satisfied: six>=1.9.0 in /Users/CHARLES/.pyenv/versions/3.8.12/envs/portfolio-optimisation-env/lib/python3.8/site-packages (from bleach!=5.0.0->nbconvert) (1.16.0)\n",
      "Requirement already satisfied: webencodings in /Users/CHARLES/.pyenv/versions/3.8.12/envs/portfolio-optimisation-env/lib/python3.8/site-packages (from bleach!=5.0.0->nbconvert) (0.5.1)\n",
      "Requirement already satisfied: zipp>=0.5 in /Users/CHARLES/.pyenv/versions/3.8.12/envs/portfolio-optimisation-env/lib/python3.8/site-packages (from importlib-metadata>=3.6->nbconvert) (3.19.2)\n",
      "Requirement already satisfied: platformdirs>=2.5 in /Users/CHARLES/.pyenv/versions/3.8.12/envs/portfolio-optimisation-env/lib/python3.8/site-packages (from jupyter-core>=4.7->nbconvert) (4.2.2)\n",
      "Requirement already satisfied: jupyter-client>=6.1.12 in /Users/CHARLES/.pyenv/versions/3.8.12/envs/portfolio-optimisation-env/lib/python3.8/site-packages (from nbclient>=0.5.0->nbconvert) (8.6.2)\n",
      "Requirement already satisfied: fastjsonschema>=2.15 in /Users/CHARLES/.pyenv/versions/3.8.12/envs/portfolio-optimisation-env/lib/python3.8/site-packages (from nbformat>=5.7->nbconvert) (2.20.0)\n",
      "Requirement already satisfied: jsonschema>=2.6 in /Users/CHARLES/.pyenv/versions/3.8.12/envs/portfolio-optimisation-env/lib/python3.8/site-packages (from nbformat>=5.7->nbconvert) (4.22.0)\n",
      "Requirement already satisfied: soupsieve>1.2 in /Users/CHARLES/.pyenv/versions/3.8.12/envs/portfolio-optimisation-env/lib/python3.8/site-packages (from beautifulsoup4->nbconvert) (2.5)\n",
      "Requirement already satisfied: attrs>=22.2.0 in /Users/CHARLES/.pyenv/versions/3.8.12/envs/portfolio-optimisation-env/lib/python3.8/site-packages (from jsonschema>=2.6->nbformat>=5.7->nbconvert) (23.2.0)\n",
      "Requirement already satisfied: importlib-resources>=1.4.0 in /Users/CHARLES/.pyenv/versions/3.8.12/envs/portfolio-optimisation-env/lib/python3.8/site-packages (from jsonschema>=2.6->nbformat>=5.7->nbconvert) (6.4.0)\n",
      "Requirement already satisfied: jsonschema-specifications>=2023.03.6 in /Users/CHARLES/.pyenv/versions/3.8.12/envs/portfolio-optimisation-env/lib/python3.8/site-packages (from jsonschema>=2.6->nbformat>=5.7->nbconvert) (2023.12.1)\n",
      "Requirement already satisfied: pkgutil-resolve-name>=1.3.10 in /Users/CHARLES/.pyenv/versions/3.8.12/envs/portfolio-optimisation-env/lib/python3.8/site-packages (from jsonschema>=2.6->nbformat>=5.7->nbconvert) (1.3.10)\n",
      "Requirement already satisfied: referencing>=0.28.4 in /Users/CHARLES/.pyenv/versions/3.8.12/envs/portfolio-optimisation-env/lib/python3.8/site-packages (from jsonschema>=2.6->nbformat>=5.7->nbconvert) (0.35.1)\n",
      "Requirement already satisfied: rpds-py>=0.7.1 in /Users/CHARLES/.pyenv/versions/3.8.12/envs/portfolio-optimisation-env/lib/python3.8/site-packages (from jsonschema>=2.6->nbformat>=5.7->nbconvert) (0.18.1)\n",
      "Requirement already satisfied: python-dateutil>=2.8.2 in /Users/CHARLES/.pyenv/versions/3.8.12/envs/portfolio-optimisation-env/lib/python3.8/site-packages (from jupyter-client>=6.1.12->nbclient>=0.5.0->nbconvert) (2.9.0.post0)\n",
      "Requirement already satisfied: pyzmq>=23.0 in /Users/CHARLES/.pyenv/versions/3.8.12/envs/portfolio-optimisation-env/lib/python3.8/site-packages (from jupyter-client>=6.1.12->nbclient>=0.5.0->nbconvert) (26.0.3)\n",
      "Requirement already satisfied: tornado>=6.2 in /Users/CHARLES/.pyenv/versions/3.8.12/envs/portfolio-optimisation-env/lib/python3.8/site-packages (from jupyter-client>=6.1.12->nbclient>=0.5.0->nbconvert) (6.4.1)\n",
      "Note: you may need to restart the kernel to use updated packages.\n"
     ]
    }
   ],
   "source": [
    "pip install nbconvert "
   ]
  },
  {
   "cell_type": "code",
   "execution_count": 2,
   "id": "0e7fc4e4-6fa2-44c3-b36a-3d3c7d441f4e",
   "metadata": {},
   "outputs": [
    {
     "name": "stdout",
     "output_type": "stream",
     "text": [
      "Collecting PyQtWebEngine\n",
      "  Downloading PyQtWebEngine-5.15.6-cp37-abi3-macosx_11_0_arm64.whl.metadata (1.9 kB)\n",
      "Collecting PyQt5-sip<13,>=12.11 (from PyQtWebEngine)\n",
      "  Downloading PyQt5_sip-12.13.0.tar.gz (123 kB)\n",
      "\u001b[2K     \u001b[90m━━━━━━━━━━━━━━━━━━━━━━━━━━━━━━━━━━━━━━━\u001b[0m \u001b[32m123.2/123.2 kB\u001b[0m \u001b[31m7.2 MB/s\u001b[0m eta \u001b[36m0:00:00\u001b[0m\n",
      "\u001b[?25h  Installing build dependencies ... \u001b[?25ldone\n",
      "\u001b[?25h  Getting requirements to build wheel ... \u001b[?25ldone\n",
      "\u001b[?25h  Preparing metadata (pyproject.toml) ... \u001b[?25ldone\n",
      "\u001b[?25hCollecting PyQtWebEngine-Qt5>=5.15.0 (from PyQtWebEngine)\n",
      "  Downloading PyQtWebEngine_Qt5-5.15.14-py3-none-macosx_11_0_arm64.whl.metadata (568 bytes)\n",
      "Collecting PyQt5>=5.15.4 (from PyQtWebEngine)\n",
      "  Downloading PyQt5-5.15.10-cp37-abi3-macosx_11_0_arm64.whl.metadata (2.1 kB)\n",
      "Collecting PyQt5-Qt5>=5.15.2 (from PyQt5>=5.15.4->PyQtWebEngine)\n",
      "  Downloading PyQt5_Qt5-5.15.14-py3-none-macosx_11_0_arm64.whl.metadata (536 bytes)\n",
      "Downloading PyQtWebEngine-5.15.6-cp37-abi3-macosx_11_0_arm64.whl (181 kB)\n",
      "\u001b[2K   \u001b[90m━━━━━━━━━━━━━━━━━━━━━━━━━━━━━━━━━━━━━━━━\u001b[0m \u001b[32m181.6/181.6 kB\u001b[0m \u001b[31m12.7 MB/s\u001b[0m eta \u001b[36m0:00:00\u001b[0m\n",
      "\u001b[?25hDownloading PyQt5-5.15.10-cp37-abi3-macosx_11_0_arm64.whl (6.6 MB)\n",
      "\u001b[2K   \u001b[90m━━━━━━━━━━━━━━━━━━━━━━━━━━━━━━━━━━━━━━━━\u001b[0m \u001b[32m6.6/6.6 MB\u001b[0m \u001b[31m37.5 MB/s\u001b[0m eta \u001b[36m0:00:00\u001b[0ma \u001b[36m0:00:01\u001b[0m\n",
      "\u001b[?25hDownloading PyQtWebEngine_Qt5-5.15.14-py3-none-macosx_11_0_arm64.whl (67.1 MB)\n",
      "\u001b[2K   \u001b[90m━━━━━━━━━━━━━━━━━━━━━━━━━━━━━━━━━━━━━━━━\u001b[0m \u001b[32m67.1/67.1 MB\u001b[0m \u001b[31m40.1 MB/s\u001b[0m eta \u001b[36m0:00:00\u001b[0m00:01\u001b[0m00:01\u001b[0m\n",
      "\u001b[?25hDownloading PyQt5_Qt5-5.15.14-py3-none-macosx_11_0_arm64.whl (36.7 MB)\n",
      "\u001b[2K   \u001b[90m━━━━━━━━━━━━━━━━━━━━━━━━━━━━━━━━━━━━━━━━\u001b[0m \u001b[32m36.7/36.7 MB\u001b[0m \u001b[31m39.5 MB/s\u001b[0m eta \u001b[36m0:00:00\u001b[0m00:01\u001b[0m00:01\u001b[0m\n",
      "\u001b[?25hBuilding wheels for collected packages: PyQt5-sip\n",
      "  Building wheel for PyQt5-sip (pyproject.toml) ... \u001b[?25ldone\n",
      "\u001b[?25h  Created wheel for PyQt5-sip: filename=PyQt5_sip-12.13.0-cp38-cp38-macosx_14_0_arm64.whl size=79647 sha256=0ce4909501fb5c79e422a8cd0aabddf4221ad46dec8aa5bd2aefdb24d1157464\n",
      "  Stored in directory: /Users/CHARLES/Library/Caches/pip/wheels/7f/3f/55/593da8d20b5c2810baf2a81c8ae78449b348f09c83111c51a3\n",
      "Successfully built PyQt5-sip\n",
      "Installing collected packages: PyQtWebEngine-Qt5, PyQt5-Qt5, PyQt5-sip, PyQt5, PyQtWebEngine\n",
      "Successfully installed PyQt5-5.15.10 PyQt5-Qt5-5.15.14 PyQt5-sip-12.13.0 PyQtWebEngine-5.15.6 PyQtWebEngine-Qt5-5.15.14\n",
      "Note: you may need to restart the kernel to use updated packages.\n"
     ]
    }
   ],
   "source": [
    "pip install PyQtWebEngine"
   ]
  },
  {
   "cell_type": "code",
   "execution_count": 3,
   "id": "17821ea8-9547-4f60-afdb-a2987abe2c36",
   "metadata": {},
   "outputs": [
    {
     "name": "stdout",
     "output_type": "stream",
     "text": [
      "Requirement already satisfied: nbconvert in /Users/CHARLES/.pyenv/versions/3.8.12/envs/portfolio-optimisation-env/lib/python3.8/site-packages (7.16.4)\n",
      "Requirement already satisfied: beautifulsoup4 in /Users/CHARLES/.pyenv/versions/3.8.12/envs/portfolio-optimisation-env/lib/python3.8/site-packages (from nbconvert) (4.12.3)\n",
      "Requirement already satisfied: bleach!=5.0.0 in /Users/CHARLES/.pyenv/versions/3.8.12/envs/portfolio-optimisation-env/lib/python3.8/site-packages (from nbconvert) (6.1.0)\n",
      "Requirement already satisfied: defusedxml in /Users/CHARLES/.pyenv/versions/3.8.12/envs/portfolio-optimisation-env/lib/python3.8/site-packages (from nbconvert) (0.7.1)\n",
      "Requirement already satisfied: importlib-metadata>=3.6 in /Users/CHARLES/.pyenv/versions/3.8.12/envs/portfolio-optimisation-env/lib/python3.8/site-packages (from nbconvert) (8.0.0)\n",
      "Requirement already satisfied: jinja2>=3.0 in /Users/CHARLES/.pyenv/versions/3.8.12/envs/portfolio-optimisation-env/lib/python3.8/site-packages (from nbconvert) (3.1.4)\n",
      "Requirement already satisfied: jupyter-core>=4.7 in /Users/CHARLES/.pyenv/versions/3.8.12/envs/portfolio-optimisation-env/lib/python3.8/site-packages (from nbconvert) (5.7.2)\n",
      "Requirement already satisfied: jupyterlab-pygments in /Users/CHARLES/.pyenv/versions/3.8.12/envs/portfolio-optimisation-env/lib/python3.8/site-packages (from nbconvert) (0.3.0)\n",
      "Requirement already satisfied: markupsafe>=2.0 in /Users/CHARLES/.pyenv/versions/3.8.12/envs/portfolio-optimisation-env/lib/python3.8/site-packages (from nbconvert) (2.1.5)\n",
      "Requirement already satisfied: mistune<4,>=2.0.3 in /Users/CHARLES/.pyenv/versions/3.8.12/envs/portfolio-optimisation-env/lib/python3.8/site-packages (from nbconvert) (3.0.2)\n",
      "Requirement already satisfied: nbclient>=0.5.0 in /Users/CHARLES/.pyenv/versions/3.8.12/envs/portfolio-optimisation-env/lib/python3.8/site-packages (from nbconvert) (0.10.0)\n",
      "Requirement already satisfied: nbformat>=5.7 in /Users/CHARLES/.pyenv/versions/3.8.12/envs/portfolio-optimisation-env/lib/python3.8/site-packages (from nbconvert) (5.10.4)\n",
      "Requirement already satisfied: packaging in /Users/CHARLES/.pyenv/versions/3.8.12/envs/portfolio-optimisation-env/lib/python3.8/site-packages (from nbconvert) (24.1)\n",
      "Requirement already satisfied: pandocfilters>=1.4.1 in /Users/CHARLES/.pyenv/versions/3.8.12/envs/portfolio-optimisation-env/lib/python3.8/site-packages (from nbconvert) (1.5.1)\n",
      "Requirement already satisfied: pygments>=2.4.1 in /Users/CHARLES/.pyenv/versions/3.8.12/envs/portfolio-optimisation-env/lib/python3.8/site-packages (from nbconvert) (2.18.0)\n",
      "Requirement already satisfied: tinycss2 in /Users/CHARLES/.pyenv/versions/3.8.12/envs/portfolio-optimisation-env/lib/python3.8/site-packages (from nbconvert) (1.3.0)\n",
      "Requirement already satisfied: traitlets>=5.1 in /Users/CHARLES/.pyenv/versions/3.8.12/envs/portfolio-optimisation-env/lib/python3.8/site-packages (from nbconvert) (5.14.3)\n",
      "Requirement already satisfied: six>=1.9.0 in /Users/CHARLES/.pyenv/versions/3.8.12/envs/portfolio-optimisation-env/lib/python3.8/site-packages (from bleach!=5.0.0->nbconvert) (1.16.0)\n",
      "Requirement already satisfied: webencodings in /Users/CHARLES/.pyenv/versions/3.8.12/envs/portfolio-optimisation-env/lib/python3.8/site-packages (from bleach!=5.0.0->nbconvert) (0.5.1)\n",
      "Requirement already satisfied: zipp>=0.5 in /Users/CHARLES/.pyenv/versions/3.8.12/envs/portfolio-optimisation-env/lib/python3.8/site-packages (from importlib-metadata>=3.6->nbconvert) (3.19.2)\n",
      "Requirement already satisfied: platformdirs>=2.5 in /Users/CHARLES/.pyenv/versions/3.8.12/envs/portfolio-optimisation-env/lib/python3.8/site-packages (from jupyter-core>=4.7->nbconvert) (4.2.2)\n",
      "Requirement already satisfied: jupyter-client>=6.1.12 in /Users/CHARLES/.pyenv/versions/3.8.12/envs/portfolio-optimisation-env/lib/python3.8/site-packages (from nbclient>=0.5.0->nbconvert) (8.6.2)\n",
      "Requirement already satisfied: fastjsonschema>=2.15 in /Users/CHARLES/.pyenv/versions/3.8.12/envs/portfolio-optimisation-env/lib/python3.8/site-packages (from nbformat>=5.7->nbconvert) (2.20.0)\n",
      "Requirement already satisfied: jsonschema>=2.6 in /Users/CHARLES/.pyenv/versions/3.8.12/envs/portfolio-optimisation-env/lib/python3.8/site-packages (from nbformat>=5.7->nbconvert) (4.22.0)\n",
      "Requirement already satisfied: soupsieve>1.2 in /Users/CHARLES/.pyenv/versions/3.8.12/envs/portfolio-optimisation-env/lib/python3.8/site-packages (from beautifulsoup4->nbconvert) (2.5)\n",
      "Requirement already satisfied: attrs>=22.2.0 in /Users/CHARLES/.pyenv/versions/3.8.12/envs/portfolio-optimisation-env/lib/python3.8/site-packages (from jsonschema>=2.6->nbformat>=5.7->nbconvert) (23.2.0)\n",
      "Requirement already satisfied: importlib-resources>=1.4.0 in /Users/CHARLES/.pyenv/versions/3.8.12/envs/portfolio-optimisation-env/lib/python3.8/site-packages (from jsonschema>=2.6->nbformat>=5.7->nbconvert) (6.4.0)\n",
      "Requirement already satisfied: jsonschema-specifications>=2023.03.6 in /Users/CHARLES/.pyenv/versions/3.8.12/envs/portfolio-optimisation-env/lib/python3.8/site-packages (from jsonschema>=2.6->nbformat>=5.7->nbconvert) (2023.12.1)\n",
      "Requirement already satisfied: pkgutil-resolve-name>=1.3.10 in /Users/CHARLES/.pyenv/versions/3.8.12/envs/portfolio-optimisation-env/lib/python3.8/site-packages (from jsonschema>=2.6->nbformat>=5.7->nbconvert) (1.3.10)\n",
      "Requirement already satisfied: referencing>=0.28.4 in /Users/CHARLES/.pyenv/versions/3.8.12/envs/portfolio-optimisation-env/lib/python3.8/site-packages (from jsonschema>=2.6->nbformat>=5.7->nbconvert) (0.35.1)\n",
      "Requirement already satisfied: rpds-py>=0.7.1 in /Users/CHARLES/.pyenv/versions/3.8.12/envs/portfolio-optimisation-env/lib/python3.8/site-packages (from jsonschema>=2.6->nbformat>=5.7->nbconvert) (0.18.1)\n",
      "Requirement already satisfied: python-dateutil>=2.8.2 in /Users/CHARLES/.pyenv/versions/3.8.12/envs/portfolio-optimisation-env/lib/python3.8/site-packages (from jupyter-client>=6.1.12->nbclient>=0.5.0->nbconvert) (2.9.0.post0)\n",
      "Requirement already satisfied: pyzmq>=23.0 in /Users/CHARLES/.pyenv/versions/3.8.12/envs/portfolio-optimisation-env/lib/python3.8/site-packages (from jupyter-client>=6.1.12->nbclient>=0.5.0->nbconvert) (26.0.3)\n",
      "Requirement already satisfied: tornado>=6.2 in /Users/CHARLES/.pyenv/versions/3.8.12/envs/portfolio-optimisation-env/lib/python3.8/site-packages (from jupyter-client>=6.1.12->nbclient>=0.5.0->nbconvert) (6.4.1)\n",
      "Note: you may need to restart the kernel to use updated packages.\n"
     ]
    }
   ],
   "source": [
    "pip install nbconvert"
   ]
  },
  {
   "cell_type": "code",
   "execution_count": 9,
   "id": "ac315af1-ff19-43b7-879c-87bd33d03b23",
   "metadata": {},
   "outputs": [
    {
     "name": "stdout",
     "output_type": "stream",
     "text": [
      "Collecting keras_tuner\n",
      "  Using cached keras_tuner-1.4.7-py3-none-any.whl.metadata (5.4 kB)\n",
      "Requirement already satisfied: keras in /Users/CHARLES/Desktop/GITHUB PERSONAL PROJECTS/Portfolio Optimisation/PORTFOLIO-OPTIMISATION-USING-MACHINE-LEARNING-1/new-env/lib/python3.8/site-packages (from keras_tuner) (2.13.1)\n",
      "Requirement already satisfied: packaging in /Users/CHARLES/Desktop/GITHUB PERSONAL PROJECTS/Portfolio Optimisation/PORTFOLIO-OPTIMISATION-USING-MACHINE-LEARNING-1/new-env/lib/python3.8/site-packages (from keras_tuner) (24.1)\n",
      "Requirement already satisfied: requests in /Users/CHARLES/Desktop/GITHUB PERSONAL PROJECTS/Portfolio Optimisation/PORTFOLIO-OPTIMISATION-USING-MACHINE-LEARNING-1/new-env/lib/python3.8/site-packages (from keras_tuner) (2.32.3)\n",
      "Collecting kt-legacy (from keras_tuner)\n",
      "  Using cached kt_legacy-1.0.5-py3-none-any.whl.metadata (221 bytes)\n",
      "Requirement already satisfied: charset-normalizer<4,>=2 in /Users/CHARLES/Desktop/GITHUB PERSONAL PROJECTS/Portfolio Optimisation/PORTFOLIO-OPTIMISATION-USING-MACHINE-LEARNING-1/new-env/lib/python3.8/site-packages (from requests->keras_tuner) (3.3.2)\n",
      "Requirement already satisfied: idna<4,>=2.5 in /Users/CHARLES/Desktop/GITHUB PERSONAL PROJECTS/Portfolio Optimisation/PORTFOLIO-OPTIMISATION-USING-MACHINE-LEARNING-1/new-env/lib/python3.8/site-packages (from requests->keras_tuner) (3.7)\n",
      "Requirement already satisfied: urllib3<3,>=1.21.1 in /Users/CHARLES/Desktop/GITHUB PERSONAL PROJECTS/Portfolio Optimisation/PORTFOLIO-OPTIMISATION-USING-MACHINE-LEARNING-1/new-env/lib/python3.8/site-packages (from requests->keras_tuner) (2.2.2)\n",
      "Requirement already satisfied: certifi>=2017.4.17 in /Users/CHARLES/Desktop/GITHUB PERSONAL PROJECTS/Portfolio Optimisation/PORTFOLIO-OPTIMISATION-USING-MACHINE-LEARNING-1/new-env/lib/python3.8/site-packages (from requests->keras_tuner) (2024.7.4)\n",
      "Using cached keras_tuner-1.4.7-py3-none-any.whl (129 kB)\n",
      "Using cached kt_legacy-1.0.5-py3-none-any.whl (9.6 kB)\n",
      "Installing collected packages: kt-legacy, keras_tuner\n",
      "Successfully installed keras_tuner-1.4.7 kt-legacy-1.0.5\n",
      "Note: you may need to restart the kernel to use updated packages.\n"
     ]
    }
   ],
   "source": [
    "pip install keras_tuner"
   ]
  },
  {
   "cell_type": "code",
   "execution_count": null,
   "id": "e9750638-95c7-414d-9ac9-cfbb0f7d2528",
   "metadata": {},
   "outputs": [],
   "source": []
  }
 ],
 "metadata": {
  "kernelspec": {
   "display_name": "Python (new-env)",
   "language": "python",
   "name": "new-env"
  },
  "language_info": {
   "codemirror_mode": {
    "name": "ipython",
    "version": 3
   },
   "file_extension": ".py",
   "mimetype": "text/x-python",
   "name": "python",
   "nbconvert_exporter": "python",
   "pygments_lexer": "ipython3",
   "version": "3.8.12"
  }
 },
 "nbformat": 4,
 "nbformat_minor": 5
}
