{
 "cells": [
  {
   "cell_type": "code",
   "execution_count": 1,
   "id": "a027f626-d6f7-4250-b483-57e91845fa3a",
   "metadata": {},
   "outputs": [
    {
     "name": "stdout",
     "output_type": "stream",
     "text": [
      "Collecting yfinance\n",
      "  Downloading yfinance-0.2.40-py2.py3-none-any.whl.metadata (11 kB)\n",
      "Requirement already satisfied: pandas>=1.3.0 in /Users/CHARLES/anaconda3/envs/old_python_env/lib/python3.8/site-packages (from yfinance) (2.0.3)\n",
      "Requirement already satisfied: numpy>=1.16.5 in /Users/CHARLES/anaconda3/envs/old_python_env/lib/python3.8/site-packages (from yfinance) (1.24.3)\n",
      "Requirement already satisfied: requests>=2.31 in /Users/CHARLES/anaconda3/envs/old_python_env/lib/python3.8/site-packages (from yfinance) (2.31.0)\n",
      "Collecting multitasking>=0.0.7 (from yfinance)\n",
      "  Downloading multitasking-0.0.11-py3-none-any.whl.metadata (5.5 kB)\n",
      "Collecting lxml>=4.9.1 (from yfinance)\n",
      "  Downloading lxml-5.2.2.tar.gz (3.7 MB)\n",
      "\u001b[2K     \u001b[90m━━━━━━━━━━━━━━━━━━━━━━━━━━━━━━━━━━━━━━━━\u001b[0m \u001b[32m3.7/3.7 MB\u001b[0m \u001b[31m29.0 MB/s\u001b[0m eta \u001b[36m0:00:00\u001b[0ma \u001b[36m0:00:01\u001b[0m\n",
      "\u001b[?25h  Installing build dependencies ... \u001b[?25ldone\n",
      "\u001b[?25h  Getting requirements to build wheel ... \u001b[?25ldone\n",
      "\u001b[?25h  Preparing metadata (pyproject.toml) ... \u001b[?25ldone\n",
      "\u001b[?25hRequirement already satisfied: platformdirs>=2.0.0 in /Users/CHARLES/anaconda3/envs/old_python_env/lib/python3.8/site-packages (from yfinance) (4.2.1)\n",
      "Requirement already satisfied: pytz>=2022.5 in /Users/CHARLES/anaconda3/envs/old_python_env/lib/python3.8/site-packages (from yfinance) (2024.1)\n",
      "Collecting frozendict>=2.3.4 (from yfinance)\n",
      "  Downloading frozendict-2.4.4-cp38-cp38-macosx_11_0_arm64.whl.metadata (23 kB)\n",
      "Collecting peewee>=3.16.2 (from yfinance)\n",
      "  Downloading peewee-3.17.5.tar.gz (3.0 MB)\n",
      "\u001b[2K     \u001b[90m━━━━━━━━━━━━━━━━━━━━━━━━━━━━━━━━━━━━━━━━\u001b[0m \u001b[32m3.0/3.0 MB\u001b[0m \u001b[31m41.2 MB/s\u001b[0m eta \u001b[36m0:00:00\u001b[0ma \u001b[36m0:00:01\u001b[0m\n",
      "\u001b[?25h  Installing build dependencies ... \u001b[?25ldone\n",
      "\u001b[?25h  Getting requirements to build wheel ... \u001b[?25ldone\n",
      "\u001b[?25h  Preparing metadata (pyproject.toml) ... \u001b[?25ldone\n",
      "\u001b[?25hRequirement already satisfied: beautifulsoup4>=4.11.1 in /Users/CHARLES/anaconda3/envs/old_python_env/lib/python3.8/site-packages (from yfinance) (4.12.3)\n",
      "Collecting html5lib>=1.1 (from yfinance)\n",
      "  Downloading html5lib-1.1-py2.py3-none-any.whl.metadata (16 kB)\n",
      "Requirement already satisfied: soupsieve>1.2 in /Users/CHARLES/anaconda3/envs/old_python_env/lib/python3.8/site-packages (from beautifulsoup4>=4.11.1->yfinance) (2.5)\n",
      "Requirement already satisfied: six>=1.9 in /Users/CHARLES/anaconda3/envs/old_python_env/lib/python3.8/site-packages (from html5lib>=1.1->yfinance) (1.16.0)\n",
      "Requirement already satisfied: webencodings in /Users/CHARLES/anaconda3/envs/old_python_env/lib/python3.8/site-packages (from html5lib>=1.1->yfinance) (0.5.1)\n",
      "Requirement already satisfied: python-dateutil>=2.8.2 in /Users/CHARLES/anaconda3/envs/old_python_env/lib/python3.8/site-packages (from pandas>=1.3.0->yfinance) (2.9.0)\n",
      "Requirement already satisfied: tzdata>=2022.1 in /Users/CHARLES/anaconda3/envs/old_python_env/lib/python3.8/site-packages (from pandas>=1.3.0->yfinance) (2024.1)\n",
      "Requirement already satisfied: charset-normalizer<4,>=2 in /Users/CHARLES/anaconda3/envs/old_python_env/lib/python3.8/site-packages (from requests>=2.31->yfinance) (3.3.2)\n",
      "Requirement already satisfied: idna<4,>=2.5 in /Users/CHARLES/anaconda3/envs/old_python_env/lib/python3.8/site-packages (from requests>=2.31->yfinance) (3.7)\n",
      "Requirement already satisfied: urllib3<3,>=1.21.1 in /Users/CHARLES/anaconda3/envs/old_python_env/lib/python3.8/site-packages (from requests>=2.31->yfinance) (2.2.1)\n",
      "Requirement already satisfied: certifi>=2017.4.17 in /Users/CHARLES/anaconda3/envs/old_python_env/lib/python3.8/site-packages (from requests>=2.31->yfinance) (2024.2.2)\n",
      "Downloading yfinance-0.2.40-py2.py3-none-any.whl (73 kB)\n",
      "\u001b[2K   \u001b[90m━━━━━━━━━━━━━━━━━━━━━━━━━━━━━━━━━━━━━━━━\u001b[0m \u001b[32m73.5/73.5 kB\u001b[0m \u001b[31m6.8 MB/s\u001b[0m eta \u001b[36m0:00:00\u001b[0m\n",
      "\u001b[?25hDownloading frozendict-2.4.4-cp38-cp38-macosx_11_0_arm64.whl (37 kB)\n",
      "Downloading html5lib-1.1-py2.py3-none-any.whl (112 kB)\n",
      "\u001b[2K   \u001b[90m━━━━━━━━━━━━━━━━━━━━━━━━━━━━━━━━━━━━━━━━\u001b[0m \u001b[32m112.2/112.2 kB\u001b[0m \u001b[31m11.9 MB/s\u001b[0m eta \u001b[36m0:00:00\u001b[0m\n",
      "\u001b[?25hDownloading multitasking-0.0.11-py3-none-any.whl (8.5 kB)\n",
      "Building wheels for collected packages: lxml, peewee\n",
      "  Building wheel for lxml (pyproject.toml) ... \u001b[?25ldone\n",
      "\u001b[?25h  Created wheel for lxml: filename=lxml-5.2.2-cp38-cp38-macosx_11_0_arm64.whl size=1401311 sha256=3dc5dc7de0ac9757d6cccf2bd16fa47b3141e25b55cab0fe0a8216610f5bbd4e\n",
      "  Stored in directory: /Users/CHARLES/Library/Caches/pip/wheels/bc/69/93/e411f3b71b2d51564822500662c3782f10a2e1b3d925c888c6\n",
      "  Building wheel for peewee (pyproject.toml) ... \u001b[?25ldone\n",
      "\u001b[?25h  Created wheel for peewee: filename=peewee-3.17.5-cp38-cp38-macosx_11_0_arm64.whl size=249793 sha256=e39802c5cd9f488131ce86139cce061fa85cbbd7fa16486437092378d19eebbc\n",
      "  Stored in directory: /Users/CHARLES/Library/Caches/pip/wheels/50/f5/5d/c6bc991ef2e027c2d14113be120f99704e268b48057a90529d\n",
      "Successfully built lxml peewee\n",
      "Installing collected packages: peewee, multitasking, lxml, html5lib, frozendict, yfinance\n",
      "Successfully installed frozendict-2.4.4 html5lib-1.1 lxml-5.2.2 multitasking-0.0.11 peewee-3.17.5 yfinance-0.2.40\n",
      "Collecting mplfinance\n",
      "  Downloading mplfinance-0.12.10b0-py3-none-any.whl.metadata (19 kB)\n",
      "Requirement already satisfied: matplotlib in /Users/CHARLES/anaconda3/envs/old_python_env/lib/python3.8/site-packages (from mplfinance) (3.7.5)\n",
      "Requirement already satisfied: pandas in /Users/CHARLES/anaconda3/envs/old_python_env/lib/python3.8/site-packages (from mplfinance) (2.0.3)\n",
      "Requirement already satisfied: contourpy>=1.0.1 in /Users/CHARLES/anaconda3/envs/old_python_env/lib/python3.8/site-packages (from matplotlib->mplfinance) (1.1.1)\n",
      "Requirement already satisfied: cycler>=0.10 in /Users/CHARLES/anaconda3/envs/old_python_env/lib/python3.8/site-packages (from matplotlib->mplfinance) (0.12.1)\n",
      "Requirement already satisfied: fonttools>=4.22.0 in /Users/CHARLES/anaconda3/envs/old_python_env/lib/python3.8/site-packages (from matplotlib->mplfinance) (4.51.0)\n",
      "Requirement already satisfied: kiwisolver>=1.0.1 in /Users/CHARLES/anaconda3/envs/old_python_env/lib/python3.8/site-packages (from matplotlib->mplfinance) (1.4.5)\n",
      "Requirement already satisfied: numpy<2,>=1.20 in /Users/CHARLES/anaconda3/envs/old_python_env/lib/python3.8/site-packages (from matplotlib->mplfinance) (1.24.3)\n",
      "Requirement already satisfied: packaging>=20.0 in /Users/CHARLES/anaconda3/envs/old_python_env/lib/python3.8/site-packages (from matplotlib->mplfinance) (24.0)\n",
      "Requirement already satisfied: pillow>=6.2.0 in /Users/CHARLES/anaconda3/envs/old_python_env/lib/python3.8/site-packages (from matplotlib->mplfinance) (10.3.0)\n",
      "Requirement already satisfied: pyparsing>=2.3.1 in /Users/CHARLES/anaconda3/envs/old_python_env/lib/python3.8/site-packages (from matplotlib->mplfinance) (3.1.2)\n",
      "Requirement already satisfied: python-dateutil>=2.7 in /Users/CHARLES/anaconda3/envs/old_python_env/lib/python3.8/site-packages (from matplotlib->mplfinance) (2.9.0)\n",
      "Requirement already satisfied: importlib-resources>=3.2.0 in /Users/CHARLES/anaconda3/envs/old_python_env/lib/python3.8/site-packages (from matplotlib->mplfinance) (6.4.0)\n",
      "Requirement already satisfied: pytz>=2020.1 in /Users/CHARLES/anaconda3/envs/old_python_env/lib/python3.8/site-packages (from pandas->mplfinance) (2024.1)\n",
      "Requirement already satisfied: tzdata>=2022.1 in /Users/CHARLES/anaconda3/envs/old_python_env/lib/python3.8/site-packages (from pandas->mplfinance) (2024.1)\n",
      "Requirement already satisfied: zipp>=3.1.0 in /Users/CHARLES/anaconda3/envs/old_python_env/lib/python3.8/site-packages (from importlib-resources>=3.2.0->matplotlib->mplfinance) (3.17.0)\n",
      "Requirement already satisfied: six>=1.5 in /Users/CHARLES/anaconda3/envs/old_python_env/lib/python3.8/site-packages (from python-dateutil>=2.7->matplotlib->mplfinance) (1.16.0)\n",
      "Downloading mplfinance-0.12.10b0-py3-none-any.whl (75 kB)\n",
      "\u001b[2K   \u001b[90m━━━━━━━━━━━━━━━━━━━━━━━━━━━━━━━━━━━━━━━━\u001b[0m \u001b[32m75.0/75.0 kB\u001b[0m \u001b[31m3.8 MB/s\u001b[0m eta \u001b[36m0:00:00\u001b[0m\n",
      "\u001b[?25hInstalling collected packages: mplfinance\n",
      "Successfully installed mplfinance-0.12.10b0\n"
     ]
    }
   ],
   "source": [
    "!pip install yfinance\n",
    "!pip install mplfinance"
   ]
  },
  {
   "cell_type": "code",
   "execution_count": null,
   "id": "255c30dd-ae92-4685-81b9-4a9c3b7ade5f",
   "metadata": {},
   "outputs": [],
   "source": [
    "pip install keras-tuner"
   ]
  },
  {
   "cell_type": "code",
   "execution_count": null,
   "id": "0b54629a-84d5-4411-a748-3389d2bd1085",
   "metadata": {},
   "outputs": [],
   "source": [
    "from sklearn.preprocessing import OneHotEncoder\n",
    "\n",
    "# Initialize the OneHotEncoder with the new parameter name\n",
    "encoder = OneHotEncoder(sparse_output=False)\n",
    "\n",
    "# Fit and transform the 'Ticker' column\n",
    "ticker_encoded = encoder.fit_transform(cleaned_data[['Ticker']])\n",
    "\n",
    "# Create a DataFrame with encoded columns\n",
    "ticker_encoded_df = pd.DataFrame(ticker_encoded, columns=encoder.get_feature_names_out())\n",
    "\n",
    "# Concatenate this DataFrame with the original cleaned_data\n",
    "cleaned_data = pd.concat([cleaned_data.drop('Ticker', axis=1), ticker_encoded_df], axis=1)\n"
   ]
  },
  {
   "cell_type": "code",
   "execution_count": 2,
   "id": "fa279665-5228-4994-9faa-9fb1270566e3",
   "metadata": {},
   "outputs": [
    {
     "name": "stdout",
     "output_type": "stream",
     "text": [
      "Collecting flask\n",
      "  Downloading flask-3.0.3-py3-none-any.whl.metadata (3.2 kB)\n",
      "Requirement already satisfied: Werkzeug>=3.0.0 in /Users/CHARLES/anaconda3/envs/old_python_env/lib/python3.8/site-packages (from flask) (3.0.3)\n",
      "Requirement already satisfied: Jinja2>=3.1.2 in /Users/CHARLES/anaconda3/envs/old_python_env/lib/python3.8/site-packages (from flask) (3.1.4)\n",
      "Collecting itsdangerous>=2.1.2 (from flask)\n",
      "  Downloading itsdangerous-2.2.0-py3-none-any.whl.metadata (1.9 kB)\n",
      "Collecting click>=8.1.3 (from flask)\n",
      "  Downloading click-8.1.7-py3-none-any.whl.metadata (3.0 kB)\n",
      "Collecting blinker>=1.6.2 (from flask)\n",
      "  Downloading blinker-1.8.2-py3-none-any.whl.metadata (1.6 kB)\n",
      "Requirement already satisfied: importlib-metadata>=3.6.0 in /Users/CHARLES/anaconda3/envs/old_python_env/lib/python3.8/site-packages (from flask) (7.1.0)\n",
      "Requirement already satisfied: zipp>=0.5 in /Users/CHARLES/anaconda3/envs/old_python_env/lib/python3.8/site-packages (from importlib-metadata>=3.6.0->flask) (3.17.0)\n",
      "Requirement already satisfied: MarkupSafe>=2.0 in /Users/CHARLES/anaconda3/envs/old_python_env/lib/python3.8/site-packages (from Jinja2>=3.1.2->flask) (2.1.5)\n",
      "Downloading flask-3.0.3-py3-none-any.whl (101 kB)\n",
      "\u001b[2K   \u001b[90m━━━━━━━━━━━━━━━━━━━━━━━━━━━━━━━━━━━━━━━━\u001b[0m \u001b[32m101.7/101.7 kB\u001b[0m \u001b[31m7.1 MB/s\u001b[0m eta \u001b[36m0:00:00\u001b[0m\n",
      "\u001b[?25hDownloading blinker-1.8.2-py3-none-any.whl (9.5 kB)\n",
      "Downloading click-8.1.7-py3-none-any.whl (97 kB)\n",
      "\u001b[2K   \u001b[90m━━━━━━━━━━━━━━━━━━━━━━━━━━━━━━━━━━━━━━━━\u001b[0m \u001b[32m97.9/97.9 kB\u001b[0m \u001b[31m12.6 MB/s\u001b[0m eta \u001b[36m0:00:00\u001b[0m\n",
      "\u001b[?25hDownloading itsdangerous-2.2.0-py3-none-any.whl (16 kB)\n",
      "Installing collected packages: itsdangerous, click, blinker, flask\n",
      "Successfully installed blinker-1.8.2 click-8.1.7 flask-3.0.3 itsdangerous-2.2.0\n",
      "Note: you may need to restart the kernel to use updated packages.\n"
     ]
    }
   ],
   "source": [
    "pip install flask\n"
   ]
  },
  {
   "cell_type": "code",
   "execution_count": 3,
   "id": "80970cbd-aef0-4e07-91ac-1e826c838231",
   "metadata": {},
   "outputs": [
    {
     "name": "stdout",
     "output_type": "stream",
     "text": [
      "Collecting sqlalchemy\n",
      "  Downloading SQLAlchemy-2.0.31-cp38-cp38-macosx_11_0_arm64.whl.metadata (9.6 kB)\n",
      "Collecting typing-extensions>=4.6.0 (from sqlalchemy)\n",
      "  Downloading typing_extensions-4.12.2-py3-none-any.whl.metadata (3.0 kB)\n",
      "Downloading SQLAlchemy-2.0.31-cp38-cp38-macosx_11_0_arm64.whl (2.1 MB)\n",
      "\u001b[2K   \u001b[90m━━━━━━━━━━━━━━━━━━━━━━━━━━━━━━━━━━━━━━━━\u001b[0m \u001b[32m2.1/2.1 MB\u001b[0m \u001b[31m23.3 MB/s\u001b[0m eta \u001b[36m0:00:00\u001b[0ma \u001b[36m0:00:01\u001b[0m\n",
      "\u001b[?25hDownloading typing_extensions-4.12.2-py3-none-any.whl (37 kB)\n",
      "Installing collected packages: typing-extensions, sqlalchemy\n",
      "  Attempting uninstall: typing-extensions\n",
      "    Found existing installation: typing_extensions 4.5.0\n",
      "    Uninstalling typing_extensions-4.5.0:\n",
      "      Successfully uninstalled typing_extensions-4.5.0\n",
      "\u001b[31mERROR: pip's dependency resolver does not currently take into account all the packages that are installed. This behaviour is the source of the following dependency conflicts.\n",
      "tensorflow-macos 2.13.0 requires typing-extensions<4.6.0,>=3.6.6, but you have typing-extensions 4.12.2 which is incompatible.\u001b[0m\u001b[31m\n",
      "\u001b[0mSuccessfully installed sqlalchemy-2.0.31 typing-extensions-4.12.2\n",
      "Note: you may need to restart the kernel to use updated packages.\n"
     ]
    }
   ],
   "source": [
    "pip install sqlalchemy"
   ]
  },
  {
   "cell_type": "code",
   "execution_count": 4,
   "id": "8c9de947-150e-4b07-8070-7d2ba1fdcb70",
   "metadata": {},
   "outputs": [
    {
     "name": "stdout",
     "output_type": "stream",
     "text": [
      "Collecting cvxpy\n",
      "  Downloading cvxpy-1.5.2-cp38-cp38-macosx_10_9_universal2.whl.metadata (8.9 kB)\n",
      "Collecting osqp>=0.6.2 (from cvxpy)\n",
      "  Downloading osqp-0.6.7-cp38-cp38-macosx_11_0_arm64.whl.metadata (1.8 kB)\n",
      "Collecting ecos>=2 (from cvxpy)\n",
      "  Downloading ecos-2.0.14.tar.gz (142 kB)\n",
      "\u001b[2K     \u001b[90m━━━━━━━━━━━━━━━━━━━━━━━━━━━━━━━━━━━━━━━\u001b[0m \u001b[32m142.4/142.4 kB\u001b[0m \u001b[31m6.6 MB/s\u001b[0m eta \u001b[36m0:00:00\u001b[0m\n",
      "\u001b[?25h  Installing build dependencies ... \u001b[?25ldone\n",
      "\u001b[?25h  Getting requirements to build wheel ... \u001b[?25ldone\n",
      "\u001b[?25h  Preparing metadata (pyproject.toml) ... \u001b[?25ldone\n",
      "\u001b[?25hCollecting clarabel>=0.5.0 (from cvxpy)\n",
      "  Downloading clarabel-0.9.0-cp37-abi3-macosx_10_12_x86_64.macosx_11_0_arm64.macosx_10_12_universal2.whl.metadata (4.8 kB)\n",
      "Collecting scs>=3.2.4.post1 (from cvxpy)\n",
      "  Downloading scs-3.2.4.post3-cp38-cp38-macosx_14_0_arm64.whl.metadata (2.1 kB)\n",
      "Requirement already satisfied: numpy>=1.15 in /Users/CHARLES/anaconda3/envs/old_python_env/lib/python3.8/site-packages (from cvxpy) (1.24.3)\n",
      "Requirement already satisfied: scipy>=1.1.0 in /Users/CHARLES/anaconda3/envs/old_python_env/lib/python3.8/site-packages (from cvxpy) (1.10.1)\n",
      "Collecting qdldl (from osqp>=0.6.2->cvxpy)\n",
      "  Downloading qdldl-0.1.7.post4-cp38-cp38-macosx_11_0_arm64.whl.metadata (1.7 kB)\n",
      "Downloading cvxpy-1.5.2-cp38-cp38-macosx_10_9_universal2.whl (1.4 MB)\n",
      "\u001b[2K   \u001b[90m━━━━━━━━━━━━━━━━━━━━━━━━━━━━━━━━━━━━━━━━\u001b[0m \u001b[32m1.4/1.4 MB\u001b[0m \u001b[31m29.1 MB/s\u001b[0m eta \u001b[36m0:00:00\u001b[0m00:01\u001b[0m\n",
      "\u001b[?25hDownloading clarabel-0.9.0-cp37-abi3-macosx_10_12_x86_64.macosx_11_0_arm64.macosx_10_12_universal2.whl (1.7 MB)\n",
      "\u001b[2K   \u001b[90m━━━━━━━━━━━━━━━━━━━━━━━━━━━━━━━━━━━━━━━━\u001b[0m \u001b[32m1.7/1.7 MB\u001b[0m \u001b[31m31.3 MB/s\u001b[0m eta \u001b[36m0:00:00\u001b[0ma \u001b[36m0:00:01\u001b[0m\n",
      "\u001b[?25hDownloading osqp-0.6.7-cp38-cp38-macosx_11_0_arm64.whl (184 kB)\n",
      "\u001b[2K   \u001b[90m━━━━━━━━━━━━━━━━━━━━━━━━━━━━━━━━━━━━━━━━\u001b[0m \u001b[32m184.3/184.3 kB\u001b[0m \u001b[31m12.7 MB/s\u001b[0m eta \u001b[36m0:00:00\u001b[0m\n",
      "\u001b[?25hDownloading scs-3.2.4.post3-cp38-cp38-macosx_14_0_arm64.whl (94 kB)\n",
      "\u001b[2K   \u001b[90m━━━━━━━━━━━━━━━━━━━━━━━━━━━━━━━━━━━━━━━━\u001b[0m \u001b[32m94.9/94.9 kB\u001b[0m \u001b[31m5.1 MB/s\u001b[0m eta \u001b[36m0:00:00\u001b[0m\n",
      "\u001b[?25hDownloading qdldl-0.1.7.post4-cp38-cp38-macosx_11_0_arm64.whl (98 kB)\n",
      "\u001b[2K   \u001b[90m━━━━━━━━━━━━━━━━━━━━━━━━━━━━━━━━━━━━━━━━\u001b[0m \u001b[32m98.3/98.3 kB\u001b[0m \u001b[31m6.5 MB/s\u001b[0m eta \u001b[36m0:00:00\u001b[0m\n",
      "\u001b[?25hBuilding wheels for collected packages: ecos\n",
      "  Building wheel for ecos (pyproject.toml) ... \u001b[?25ldone\n",
      "\u001b[?25h  Created wheel for ecos: filename=ecos-2.0.14-cp38-cp38-macosx_11_0_arm64.whl size=72459 sha256=ba80c2f45ea1db985fefe82f8fafb13d12881f140a80067fcdea1628df08daa6\n",
      "  Stored in directory: /Users/CHARLES/Library/Caches/pip/wheels/2e/ba/d3/4bc09665ea0c1cecdfd87fd07799fa86e16e651f42df9d49d0\n",
      "Successfully built ecos\n",
      "Installing collected packages: scs, qdldl, ecos, clarabel, osqp, cvxpy\n",
      "Successfully installed clarabel-0.9.0 cvxpy-1.5.2 ecos-2.0.14 osqp-0.6.7 qdldl-0.1.7.post4 scs-3.2.4.post3\n",
      "Note: you may need to restart the kernel to use updated packages.\n"
     ]
    }
   ],
   "source": [
    "pip install cvxpy"
   ]
  },
  {
   "cell_type": "code",
   "execution_count": 5,
   "id": "963e4386-a9d2-4821-8166-631aad68a451",
   "metadata": {},
   "outputs": [
    {
     "name": "stdout",
     "output_type": "stream",
     "text": [
      "\u001b[31mERROR: Could not find a version that satisfies the requirement blpapi (from versions: none)\u001b[0m\u001b[31m\n",
      "\u001b[0m\u001b[31mERROR: No matching distribution found for blpapi\u001b[0m\u001b[31m\n",
      "\u001b[0mNote: you may need to restart the kernel to use updated packages.\n"
     ]
    }
   ],
   "source": [
    "pip install blpapi\n"
   ]
  },
  {
   "cell_type": "code",
   "execution_count": 1,
   "id": "9604639a-35f0-411e-8c66-c449a056f0e3",
   "metadata": {},
   "outputs": [
    {
     "name": "stdout",
     "output_type": "stream",
     "text": [
      "Collecting quantstats\n",
      "  Downloading QuantStats-0.0.62-py2.py3-none-any.whl.metadata (8.9 kB)\n",
      "Requirement already satisfied: pandas>=0.24.0 in /Users/CHARLES/anaconda3/envs/old_python_env/lib/python3.8/site-packages (from quantstats) (2.0.3)\n",
      "Requirement already satisfied: numpy>=1.16.5 in /Users/CHARLES/anaconda3/envs/old_python_env/lib/python3.8/site-packages (from quantstats) (1.24.3)\n",
      "Requirement already satisfied: seaborn>=0.9.0 in /Users/CHARLES/anaconda3/envs/old_python_env/lib/python3.8/site-packages (from quantstats) (0.13.2)\n",
      "Requirement already satisfied: matplotlib>=3.0.0 in /Users/CHARLES/anaconda3/envs/old_python_env/lib/python3.8/site-packages (from quantstats) (3.7.5)\n",
      "Requirement already satisfied: scipy>=1.2.0 in /Users/CHARLES/anaconda3/envs/old_python_env/lib/python3.8/site-packages (from quantstats) (1.10.1)\n",
      "Collecting tabulate>=0.8.0 (from quantstats)\n",
      "  Using cached tabulate-0.9.0-py3-none-any.whl.metadata (34 kB)\n",
      "Requirement already satisfied: yfinance>=0.1.70 in /Users/CHARLES/anaconda3/envs/old_python_env/lib/python3.8/site-packages (from quantstats) (0.2.40)\n",
      "Requirement already satisfied: python-dateutil>=2.0 in /Users/CHARLES/anaconda3/envs/old_python_env/lib/python3.8/site-packages (from quantstats) (2.9.0)\n",
      "Requirement already satisfied: contourpy>=1.0.1 in /Users/CHARLES/anaconda3/envs/old_python_env/lib/python3.8/site-packages (from matplotlib>=3.0.0->quantstats) (1.1.1)\n",
      "Requirement already satisfied: cycler>=0.10 in /Users/CHARLES/anaconda3/envs/old_python_env/lib/python3.8/site-packages (from matplotlib>=3.0.0->quantstats) (0.12.1)\n",
      "Requirement already satisfied: fonttools>=4.22.0 in /Users/CHARLES/anaconda3/envs/old_python_env/lib/python3.8/site-packages (from matplotlib>=3.0.0->quantstats) (4.51.0)\n",
      "Requirement already satisfied: kiwisolver>=1.0.1 in /Users/CHARLES/anaconda3/envs/old_python_env/lib/python3.8/site-packages (from matplotlib>=3.0.0->quantstats) (1.4.5)\n",
      "Requirement already satisfied: packaging>=20.0 in /Users/CHARLES/anaconda3/envs/old_python_env/lib/python3.8/site-packages (from matplotlib>=3.0.0->quantstats) (24.0)\n",
      "Requirement already satisfied: pillow>=6.2.0 in /Users/CHARLES/anaconda3/envs/old_python_env/lib/python3.8/site-packages (from matplotlib>=3.0.0->quantstats) (10.3.0)\n",
      "Requirement already satisfied: pyparsing>=2.3.1 in /Users/CHARLES/anaconda3/envs/old_python_env/lib/python3.8/site-packages (from matplotlib>=3.0.0->quantstats) (3.1.2)\n",
      "Requirement already satisfied: importlib-resources>=3.2.0 in /Users/CHARLES/anaconda3/envs/old_python_env/lib/python3.8/site-packages (from matplotlib>=3.0.0->quantstats) (6.4.0)\n",
      "Requirement already satisfied: pytz>=2020.1 in /Users/CHARLES/anaconda3/envs/old_python_env/lib/python3.8/site-packages (from pandas>=0.24.0->quantstats) (2024.1)\n",
      "Requirement already satisfied: tzdata>=2022.1 in /Users/CHARLES/anaconda3/envs/old_python_env/lib/python3.8/site-packages (from pandas>=0.24.0->quantstats) (2024.1)\n",
      "Requirement already satisfied: six>=1.5 in /Users/CHARLES/anaconda3/envs/old_python_env/lib/python3.8/site-packages (from python-dateutil>=2.0->quantstats) (1.16.0)\n",
      "Requirement already satisfied: requests>=2.31 in /Users/CHARLES/anaconda3/envs/old_python_env/lib/python3.8/site-packages (from yfinance>=0.1.70->quantstats) (2.31.0)\n",
      "Requirement already satisfied: multitasking>=0.0.7 in /Users/CHARLES/anaconda3/envs/old_python_env/lib/python3.8/site-packages (from yfinance>=0.1.70->quantstats) (0.0.11)\n",
      "Requirement already satisfied: lxml>=4.9.1 in /Users/CHARLES/anaconda3/envs/old_python_env/lib/python3.8/site-packages (from yfinance>=0.1.70->quantstats) (5.2.2)\n",
      "Requirement already satisfied: platformdirs>=2.0.0 in /Users/CHARLES/anaconda3/envs/old_python_env/lib/python3.8/site-packages (from yfinance>=0.1.70->quantstats) (4.2.1)\n",
      "Requirement already satisfied: frozendict>=2.3.4 in /Users/CHARLES/anaconda3/envs/old_python_env/lib/python3.8/site-packages (from yfinance>=0.1.70->quantstats) (2.4.4)\n",
      "Requirement already satisfied: peewee>=3.16.2 in /Users/CHARLES/anaconda3/envs/old_python_env/lib/python3.8/site-packages (from yfinance>=0.1.70->quantstats) (3.17.5)\n",
      "Requirement already satisfied: beautifulsoup4>=4.11.1 in /Users/CHARLES/anaconda3/envs/old_python_env/lib/python3.8/site-packages (from yfinance>=0.1.70->quantstats) (4.12.3)\n",
      "Requirement already satisfied: html5lib>=1.1 in /Users/CHARLES/anaconda3/envs/old_python_env/lib/python3.8/site-packages (from yfinance>=0.1.70->quantstats) (1.1)\n",
      "Requirement already satisfied: soupsieve>1.2 in /Users/CHARLES/anaconda3/envs/old_python_env/lib/python3.8/site-packages (from beautifulsoup4>=4.11.1->yfinance>=0.1.70->quantstats) (2.5)\n",
      "Requirement already satisfied: webencodings in /Users/CHARLES/anaconda3/envs/old_python_env/lib/python3.8/site-packages (from html5lib>=1.1->yfinance>=0.1.70->quantstats) (0.5.1)\n",
      "Requirement already satisfied: zipp>=3.1.0 in /Users/CHARLES/anaconda3/envs/old_python_env/lib/python3.8/site-packages (from importlib-resources>=3.2.0->matplotlib>=3.0.0->quantstats) (3.17.0)\n",
      "Requirement already satisfied: charset-normalizer<4,>=2 in /Users/CHARLES/anaconda3/envs/old_python_env/lib/python3.8/site-packages (from requests>=2.31->yfinance>=0.1.70->quantstats) (3.3.2)\n",
      "Requirement already satisfied: idna<4,>=2.5 in /Users/CHARLES/anaconda3/envs/old_python_env/lib/python3.8/site-packages (from requests>=2.31->yfinance>=0.1.70->quantstats) (3.7)\n",
      "Requirement already satisfied: urllib3<3,>=1.21.1 in /Users/CHARLES/anaconda3/envs/old_python_env/lib/python3.8/site-packages (from requests>=2.31->yfinance>=0.1.70->quantstats) (2.2.1)\n",
      "Requirement already satisfied: certifi>=2017.4.17 in /Users/CHARLES/anaconda3/envs/old_python_env/lib/python3.8/site-packages (from requests>=2.31->yfinance>=0.1.70->quantstats) (2024.2.2)\n",
      "Downloading QuantStats-0.0.62-py2.py3-none-any.whl (45 kB)\n",
      "\u001b[2K   \u001b[90m━━━━━━━━━━━━━━━━━━━━━━━━━━━━━━━━━━━━━━━━\u001b[0m \u001b[32m45.5/45.5 kB\u001b[0m \u001b[31m1.9 MB/s\u001b[0m eta \u001b[36m0:00:00\u001b[0m\n",
      "\u001b[?25hUsing cached tabulate-0.9.0-py3-none-any.whl (35 kB)\n",
      "Installing collected packages: tabulate, quantstats\n",
      "Successfully installed quantstats-0.0.62 tabulate-0.9.0\n",
      "Note: you may need to restart the kernel to use updated packages.\n"
     ]
    }
   ],
   "source": [
    "pip install quantstats"
   ]
  },
  {
   "cell_type": "code",
   "execution_count": 2,
   "id": "99f083bc-715e-45d5-bafc-48b28b97bac7",
   "metadata": {},
   "outputs": [
    {
     "name": "stdout",
     "output_type": "stream",
     "text": [
      "Collecting ipympl\n",
      "  Downloading ipympl-0.9.3-py2.py3-none-any.whl.metadata (1.3 kB)\n",
      "Requirement already satisfied: ipython<9 in /Users/CHARLES/anaconda3/envs/old_python_env/lib/python3.8/site-packages (from ipympl) (8.12.0)\n",
      "Requirement already satisfied: numpy in /Users/CHARLES/anaconda3/envs/old_python_env/lib/python3.8/site-packages (from ipympl) (1.24.3)\n",
      "Collecting ipython-genutils (from ipympl)\n",
      "  Downloading ipython_genutils-0.2.0-py2.py3-none-any.whl.metadata (755 bytes)\n",
      "Requirement already satisfied: pillow in /Users/CHARLES/anaconda3/envs/old_python_env/lib/python3.8/site-packages (from ipympl) (10.3.0)\n",
      "Requirement already satisfied: traitlets<6 in /Users/CHARLES/anaconda3/envs/old_python_env/lib/python3.8/site-packages (from ipympl) (5.14.3)\n",
      "Collecting ipywidgets<9,>=7.6.0 (from ipympl)\n",
      "  Downloading ipywidgets-8.1.3-py3-none-any.whl.metadata (2.4 kB)\n",
      "Requirement already satisfied: matplotlib<4,>=3.4.0 in /Users/CHARLES/anaconda3/envs/old_python_env/lib/python3.8/site-packages (from ipympl) (3.7.5)\n",
      "Requirement already satisfied: backcall in /Users/CHARLES/anaconda3/envs/old_python_env/lib/python3.8/site-packages (from ipython<9->ipympl) (0.2.0)\n",
      "Requirement already satisfied: decorator in /Users/CHARLES/anaconda3/envs/old_python_env/lib/python3.8/site-packages (from ipython<9->ipympl) (5.1.1)\n",
      "Requirement already satisfied: jedi>=0.16 in /Users/CHARLES/anaconda3/envs/old_python_env/lib/python3.8/site-packages (from ipython<9->ipympl) (0.19.1)\n",
      "Requirement already satisfied: matplotlib-inline in /Users/CHARLES/anaconda3/envs/old_python_env/lib/python3.8/site-packages (from ipython<9->ipympl) (0.1.7)\n",
      "Requirement already satisfied: pickleshare in /Users/CHARLES/anaconda3/envs/old_python_env/lib/python3.8/site-packages (from ipython<9->ipympl) (0.7.5)\n",
      "Requirement already satisfied: prompt-toolkit!=3.0.37,<3.1.0,>=3.0.30 in /Users/CHARLES/anaconda3/envs/old_python_env/lib/python3.8/site-packages (from ipython<9->ipympl) (3.0.42)\n",
      "Requirement already satisfied: pygments>=2.4.0 in /Users/CHARLES/anaconda3/envs/old_python_env/lib/python3.8/site-packages (from ipython<9->ipympl) (2.18.0)\n",
      "Requirement already satisfied: stack-data in /Users/CHARLES/anaconda3/envs/old_python_env/lib/python3.8/site-packages (from ipython<9->ipympl) (0.6.2)\n",
      "Requirement already satisfied: typing-extensions in /Users/CHARLES/anaconda3/envs/old_python_env/lib/python3.8/site-packages (from ipython<9->ipympl) (4.12.2)\n",
      "Requirement already satisfied: pexpect>4.3 in /Users/CHARLES/anaconda3/envs/old_python_env/lib/python3.8/site-packages (from ipython<9->ipympl) (4.9.0)\n",
      "Requirement already satisfied: appnope in /Users/CHARLES/anaconda3/envs/old_python_env/lib/python3.8/site-packages (from ipython<9->ipympl) (0.1.4)\n",
      "Requirement already satisfied: comm>=0.1.3 in /Users/CHARLES/anaconda3/envs/old_python_env/lib/python3.8/site-packages (from ipywidgets<9,>=7.6.0->ipympl) (0.2.2)\n",
      "Collecting widgetsnbextension~=4.0.11 (from ipywidgets<9,>=7.6.0->ipympl)\n",
      "  Downloading widgetsnbextension-4.0.11-py3-none-any.whl.metadata (1.6 kB)\n",
      "Collecting jupyterlab-widgets~=3.0.11 (from ipywidgets<9,>=7.6.0->ipympl)\n",
      "  Downloading jupyterlab_widgets-3.0.11-py3-none-any.whl.metadata (4.1 kB)\n",
      "Requirement already satisfied: contourpy>=1.0.1 in /Users/CHARLES/anaconda3/envs/old_python_env/lib/python3.8/site-packages (from matplotlib<4,>=3.4.0->ipympl) (1.1.1)\n",
      "Requirement already satisfied: cycler>=0.10 in /Users/CHARLES/anaconda3/envs/old_python_env/lib/python3.8/site-packages (from matplotlib<4,>=3.4.0->ipympl) (0.12.1)\n",
      "Requirement already satisfied: fonttools>=4.22.0 in /Users/CHARLES/anaconda3/envs/old_python_env/lib/python3.8/site-packages (from matplotlib<4,>=3.4.0->ipympl) (4.51.0)\n",
      "Requirement already satisfied: kiwisolver>=1.0.1 in /Users/CHARLES/anaconda3/envs/old_python_env/lib/python3.8/site-packages (from matplotlib<4,>=3.4.0->ipympl) (1.4.5)\n",
      "Requirement already satisfied: packaging>=20.0 in /Users/CHARLES/anaconda3/envs/old_python_env/lib/python3.8/site-packages (from matplotlib<4,>=3.4.0->ipympl) (24.0)\n",
      "Requirement already satisfied: pyparsing>=2.3.1 in /Users/CHARLES/anaconda3/envs/old_python_env/lib/python3.8/site-packages (from matplotlib<4,>=3.4.0->ipympl) (3.1.2)\n",
      "Requirement already satisfied: python-dateutil>=2.7 in /Users/CHARLES/anaconda3/envs/old_python_env/lib/python3.8/site-packages (from matplotlib<4,>=3.4.0->ipympl) (2.9.0)\n",
      "Requirement already satisfied: importlib-resources>=3.2.0 in /Users/CHARLES/anaconda3/envs/old_python_env/lib/python3.8/site-packages (from matplotlib<4,>=3.4.0->ipympl) (6.4.0)\n",
      "Requirement already satisfied: zipp>=3.1.0 in /Users/CHARLES/anaconda3/envs/old_python_env/lib/python3.8/site-packages (from importlib-resources>=3.2.0->matplotlib<4,>=3.4.0->ipympl) (3.17.0)\n",
      "Requirement already satisfied: parso<0.9.0,>=0.8.3 in /Users/CHARLES/anaconda3/envs/old_python_env/lib/python3.8/site-packages (from jedi>=0.16->ipython<9->ipympl) (0.8.4)\n",
      "Requirement already satisfied: ptyprocess>=0.5 in /Users/CHARLES/anaconda3/envs/old_python_env/lib/python3.8/site-packages (from pexpect>4.3->ipython<9->ipympl) (0.7.0)\n",
      "Requirement already satisfied: wcwidth in /Users/CHARLES/anaconda3/envs/old_python_env/lib/python3.8/site-packages (from prompt-toolkit!=3.0.37,<3.1.0,>=3.0.30->ipython<9->ipympl) (0.2.13)\n",
      "Requirement already satisfied: six>=1.5 in /Users/CHARLES/anaconda3/envs/old_python_env/lib/python3.8/site-packages (from python-dateutil>=2.7->matplotlib<4,>=3.4.0->ipympl) (1.16.0)\n",
      "Requirement already satisfied: executing>=1.2.0 in /Users/CHARLES/anaconda3/envs/old_python_env/lib/python3.8/site-packages (from stack-data->ipython<9->ipympl) (2.0.1)\n",
      "Requirement already satisfied: asttokens>=2.1.0 in /Users/CHARLES/anaconda3/envs/old_python_env/lib/python3.8/site-packages (from stack-data->ipython<9->ipympl) (2.4.1)\n",
      "Requirement already satisfied: pure-eval in /Users/CHARLES/anaconda3/envs/old_python_env/lib/python3.8/site-packages (from stack-data->ipython<9->ipympl) (0.2.2)\n",
      "Downloading ipympl-0.9.3-py2.py3-none-any.whl (511 kB)\n",
      "\u001b[2K   \u001b[90m━━━━━━━━━━━━━━━━━━━━━━━━━━━━━━━━━━━━━━━━\u001b[0m \u001b[32m511.6/511.6 kB\u001b[0m \u001b[31m3.5 MB/s\u001b[0m eta \u001b[36m0:00:00\u001b[0ma \u001b[36m0:00:01\u001b[0m\n",
      "\u001b[?25hDownloading ipywidgets-8.1.3-py3-none-any.whl (139 kB)\n",
      "\u001b[2K   \u001b[90m━━━━━━━━━━━━━━━━━━━━━━━━━━━━━━━━━━━━━━━━\u001b[0m \u001b[32m139.4/139.4 kB\u001b[0m \u001b[31m4.9 MB/s\u001b[0m eta \u001b[36m0:00:00\u001b[0m\n",
      "\u001b[?25hDownloading ipython_genutils-0.2.0-py2.py3-none-any.whl (26 kB)\n",
      "Downloading jupyterlab_widgets-3.0.11-py3-none-any.whl (214 kB)\n",
      "\u001b[2K   \u001b[90m━━━━━━━━━━━━━━━━━━━━━━━━━━━━━━━━━━━━━━━━\u001b[0m \u001b[32m214.4/214.4 kB\u001b[0m \u001b[31m6.1 MB/s\u001b[0m eta \u001b[36m0:00:00\u001b[0m\n",
      "\u001b[?25hDownloading widgetsnbextension-4.0.11-py3-none-any.whl (2.3 MB)\n",
      "\u001b[2K   \u001b[90m━━━━━━━━━━━━━━━━━━━━━━━━━━━━━━━━━━━━━━━━\u001b[0m \u001b[32m2.3/2.3 MB\u001b[0m \u001b[31m11.5 MB/s\u001b[0m eta \u001b[36m0:00:00\u001b[0ma \u001b[36m0:00:01\u001b[0m\n",
      "\u001b[?25hInstalling collected packages: ipython-genutils, widgetsnbextension, jupyterlab-widgets, ipywidgets, ipympl\n",
      "Successfully installed ipympl-0.9.3 ipython-genutils-0.2.0 ipywidgets-8.1.3 jupyterlab-widgets-3.0.11 widgetsnbextension-4.0.11\n",
      "Note: you may need to restart the kernel to use updated packages.\n"
     ]
    }
   ],
   "source": [
    "pip install ipympl"
   ]
  },
  {
   "cell_type": "code",
   "execution_count": 3,
   "id": "db99e031-f8dc-4fb3-bd48-30b530c72106",
   "metadata": {},
   "outputs": [
    {
     "name": "stdout",
     "output_type": "stream",
     "text": [
      "\u001b[31mERROR: Could not find a version that satisfies the requirement ffill (from versions: none)\u001b[0m\u001b[31m\n",
      "\u001b[0m\u001b[31mERROR: No matching distribution found for ffill\u001b[0m\u001b[31m\n",
      "\u001b[0mNote: you may need to restart the kernel to use updated packages.\n"
     ]
    }
   ],
   "source": [
    "pip install ffill"
   ]
  },
  {
   "cell_type": "code",
   "execution_count": 1,
   "id": "12d6efe3-6bf1-4c20-9dc6-cc8cf74d4c11",
   "metadata": {},
   "outputs": [
    {
     "name": "stdout",
     "output_type": "stream",
     "text": [
      "Collecting openpyxl\n",
      "  Downloading openpyxl-3.1.4-py2.py3-none-any.whl.metadata (2.5 kB)\n",
      "Collecting et-xmlfile (from openpyxl)\n",
      "  Downloading et_xmlfile-1.1.0-py3-none-any.whl.metadata (1.8 kB)\n",
      "Downloading openpyxl-3.1.4-py2.py3-none-any.whl (251 kB)\n",
      "\u001b[2K   \u001b[90m━━━━━━━━━━━━━━━━━━━━━━━━━━━━━━━━━━━━━━━━\u001b[0m \u001b[32m251.4/251.4 kB\u001b[0m \u001b[31m8.2 MB/s\u001b[0m eta \u001b[36m0:00:00\u001b[0m\n",
      "\u001b[?25hDownloading et_xmlfile-1.1.0-py3-none-any.whl (4.7 kB)\n",
      "Installing collected packages: et-xmlfile, openpyxl\n",
      "Successfully installed et-xmlfile-1.1.0 openpyxl-3.1.4\n",
      "Note: you may need to restart the kernel to use updated packages.\n"
     ]
    }
   ],
   "source": [
    "pip install openpyxl"
   ]
  },
  {
   "cell_type": "code",
   "execution_count": 2,
   "id": "ac9978ab-7120-4441-8477-084004965890",
   "metadata": {},
   "outputs": [
    {
     "name": "stdout",
     "output_type": "stream",
     "text": [
      "Collecting xlrd\n",
      "  Downloading xlrd-2.0.1-py2.py3-none-any.whl.metadata (3.4 kB)\n",
      "Downloading xlrd-2.0.1-py2.py3-none-any.whl (96 kB)\n",
      "\u001b[2K   \u001b[90m━━━━━━━━━━━━━━━━━━━━━━━━━━━━━━━━━━━━━━━━\u001b[0m \u001b[32m96.5/96.5 kB\u001b[0m \u001b[31m4.9 MB/s\u001b[0m eta \u001b[36m0:00:00\u001b[0m\n",
      "\u001b[?25hInstalling collected packages: xlrd\n",
      "Successfully installed xlrd-2.0.1\n",
      "Note: you may need to restart the kernel to use updated packages.\n"
     ]
    }
   ],
   "source": [
    "pip install xlrd"
   ]
  },
  {
   "cell_type": "code",
   "execution_count": 1,
   "id": "52f343ab-d919-4cf2-b8d7-3036afe7bd2a",
   "metadata": {},
   "outputs": [
    {
     "name": "stdout",
     "output_type": "stream",
     "text": [
      "\u001b[31mERROR: Could not find a version that satisfies the requirement os (from versions: none)\u001b[0m\u001b[31m\n",
      "\u001b[0m\u001b[31mERROR: No matching distribution found for os\u001b[0m\u001b[31m\n",
      "\u001b[0mNote: you may need to restart the kernel to use updated packages.\n"
     ]
    }
   ],
   "source": [
    "pip install os"
   ]
  },
  {
   "cell_type": "code",
   "execution_count": 1,
   "id": "99ea4a0d-353f-4ef8-b369-bd98b32eecf2",
   "metadata": {},
   "outputs": [
    {
     "name": "stdout",
     "output_type": "stream",
     "text": [
      "Collecting prophet\n",
      "  Using cached prophet-1.1.5-py3-none-macosx_11_0_arm64.whl.metadata (3.5 kB)\n",
      "Collecting cmdstanpy>=1.0.4 (from prophet)\n",
      "  Downloading cmdstanpy-1.2.4-py3-none-any.whl.metadata (4.1 kB)\n",
      "Requirement already satisfied: numpy>=1.15.4 in /Users/CHARLES/anaconda3/envs/old_python_env/lib/python3.8/site-packages (from prophet) (1.24.3)\n",
      "Requirement already satisfied: matplotlib>=2.0.0 in /Users/CHARLES/anaconda3/envs/old_python_env/lib/python3.8/site-packages (from prophet) (3.7.5)\n",
      "Requirement already satisfied: pandas>=1.0.4 in /Users/CHARLES/anaconda3/envs/old_python_env/lib/python3.8/site-packages (from prophet) (2.0.3)\n",
      "Collecting holidays>=0.25 (from prophet)\n",
      "  Downloading holidays-0.51-py3-none-any.whl.metadata (23 kB)\n",
      "Collecting tqdm>=4.36.1 (from prophet)\n",
      "  Using cached tqdm-4.66.4-py3-none-any.whl.metadata (57 kB)\n",
      "Requirement already satisfied: importlib-resources in /Users/CHARLES/anaconda3/envs/old_python_env/lib/python3.8/site-packages (from prophet) (6.4.0)\n",
      "Collecting stanio<2.0.0,>=0.4.0 (from cmdstanpy>=1.0.4->prophet)\n",
      "  Downloading stanio-0.5.0-py3-none-any.whl.metadata (1.3 kB)\n",
      "Requirement already satisfied: python-dateutil in /Users/CHARLES/anaconda3/envs/old_python_env/lib/python3.8/site-packages (from holidays>=0.25->prophet) (2.9.0)\n",
      "Requirement already satisfied: contourpy>=1.0.1 in /Users/CHARLES/anaconda3/envs/old_python_env/lib/python3.8/site-packages (from matplotlib>=2.0.0->prophet) (1.1.1)\n",
      "Requirement already satisfied: cycler>=0.10 in /Users/CHARLES/anaconda3/envs/old_python_env/lib/python3.8/site-packages (from matplotlib>=2.0.0->prophet) (0.12.1)\n",
      "Requirement already satisfied: fonttools>=4.22.0 in /Users/CHARLES/anaconda3/envs/old_python_env/lib/python3.8/site-packages (from matplotlib>=2.0.0->prophet) (4.51.0)\n",
      "Requirement already satisfied: kiwisolver>=1.0.1 in /Users/CHARLES/anaconda3/envs/old_python_env/lib/python3.8/site-packages (from matplotlib>=2.0.0->prophet) (1.4.5)\n",
      "Requirement already satisfied: packaging>=20.0 in /Users/CHARLES/anaconda3/envs/old_python_env/lib/python3.8/site-packages (from matplotlib>=2.0.0->prophet) (24.0)\n",
      "Requirement already satisfied: pillow>=6.2.0 in /Users/CHARLES/anaconda3/envs/old_python_env/lib/python3.8/site-packages (from matplotlib>=2.0.0->prophet) (10.3.0)\n",
      "Requirement already satisfied: pyparsing>=2.3.1 in /Users/CHARLES/anaconda3/envs/old_python_env/lib/python3.8/site-packages (from matplotlib>=2.0.0->prophet) (3.1.2)\n",
      "Requirement already satisfied: zipp>=3.1.0 in /Users/CHARLES/anaconda3/envs/old_python_env/lib/python3.8/site-packages (from importlib-resources->prophet) (3.17.0)\n",
      "Requirement already satisfied: pytz>=2020.1 in /Users/CHARLES/anaconda3/envs/old_python_env/lib/python3.8/site-packages (from pandas>=1.0.4->prophet) (2024.1)\n",
      "Requirement already satisfied: tzdata>=2022.1 in /Users/CHARLES/anaconda3/envs/old_python_env/lib/python3.8/site-packages (from pandas>=1.0.4->prophet) (2024.1)\n",
      "Requirement already satisfied: six>=1.5 in /Users/CHARLES/anaconda3/envs/old_python_env/lib/python3.8/site-packages (from python-dateutil->holidays>=0.25->prophet) (1.16.0)\n",
      "Using cached prophet-1.1.5-py3-none-macosx_11_0_arm64.whl (8.2 MB)\n",
      "Downloading cmdstanpy-1.2.4-py3-none-any.whl (94 kB)\n",
      "\u001b[2K   \u001b[90m━━━━━━━━━━━━━━━━━━━━━━━━━━━━━━━━━━━━━━━━\u001b[0m \u001b[32m94.5/94.5 kB\u001b[0m \u001b[31m5.0 MB/s\u001b[0m eta \u001b[36m0:00:00\u001b[0m\n",
      "\u001b[?25hDownloading holidays-0.51-py3-none-any.whl (1.0 MB)\n",
      "\u001b[2K   \u001b[90m━━━━━━━━━━━━━━━━━━━━━━━━━━━━━━━━━━━━━━━━\u001b[0m \u001b[32m1.0/1.0 MB\u001b[0m \u001b[31m26.7 MB/s\u001b[0m eta \u001b[36m0:00:00\u001b[0m00:01\u001b[0m\n",
      "\u001b[?25hUsing cached tqdm-4.66.4-py3-none-any.whl (78 kB)\n",
      "Downloading stanio-0.5.0-py3-none-any.whl (8.0 kB)\n",
      "Installing collected packages: tqdm, stanio, holidays, cmdstanpy, prophet\n",
      "Successfully installed cmdstanpy-1.2.4 holidays-0.51 prophet-1.1.5 stanio-0.5.0 tqdm-4.66.4\n",
      "Note: you may need to restart the kernel to use updated packages.\n"
     ]
    }
   ],
   "source": [
    "pip install prophet"
   ]
  },
  {
   "cell_type": "code",
   "execution_count": null,
   "id": "21049e6a-96cd-4ad7-b296-99c63fb2a374",
   "metadata": {},
   "outputs": [],
   "source": [
    "pip install --upgrade tensorflow"
   ]
  },
  {
   "cell_type": "code",
   "execution_count": null,
   "id": "674e9244-5cff-4ecb-8039-d89aa400f06e",
   "metadata": {},
   "outputs": [
    {
     "name": "stdout",
     "output_type": "stream",
     "text": [
      "Found existing installation: SQLAlchemy 2.0.31\n",
      "Uninstalling SQLAlchemy-2.0.31:\n",
      "  Would remove:\n",
      "    /Users/CHARLES/anaconda3/envs/old_python_env/lib/python3.8/site-packages/SQLAlchemy-2.0.31.dist-info/*\n",
      "    /Users/CHARLES/anaconda3/envs/old_python_env/lib/python3.8/site-packages/sqlalchemy/*\n",
      "Proceed (Y/n)? "
     ]
    }
   ],
   "source": [
    "pip uninstall sqlalchemy 2.0.31"
   ]
  },
  {
   "cell_type": "code",
   "execution_count": null,
   "id": "2f830631-5bd9-4532-8b62-7e1455d55d7c",
   "metadata": {},
   "outputs": [],
   "source": [
    "pip uninstall SQLAlchemy - y"
   ]
  },
  {
   "cell_type": "code",
   "execution_count": 1,
   "id": "c4b37cd9-9758-4085-96ee-15f4fc9abc2e",
   "metadata": {},
   "outputs": [
    {
     "name": "stdout",
     "output_type": "stream",
     "text": [
      "Requirement already satisfied: typing-extensions in /Users/CHARLES/anaconda3/envs/old_python_env/lib/python3.8/site-packages (4.5.0)\n",
      "Collecting typing-extensions\n",
      "  Using cached typing_extensions-4.12.2-py3-none-any.whl.metadata (3.0 kB)\n",
      "Using cached typing_extensions-4.12.2-py3-none-any.whl (37 kB)\n",
      "Installing collected packages: typing-extensions\n",
      "  Attempting uninstall: typing-extensions\n",
      "    Found existing installation: typing_extensions 4.5.0\n",
      "    Uninstalling typing_extensions-4.5.0:\n",
      "      Successfully uninstalled typing_extensions-4.5.0\n",
      "\u001b[31mERROR: pip's dependency resolver does not currently take into account all the packages that are installed. This behaviour is the source of the following dependency conflicts.\n",
      "tensorflow-macos 2.13.0 requires typing-extensions<4.6.0,>=3.6.6, but you have typing-extensions 4.12.2 which is incompatible.\u001b[0m\u001b[31m\n",
      "\u001b[0mSuccessfully installed typing-extensions-4.12.2\n",
      "Note: you may need to restart the kernel to use updated packages.\n"
     ]
    }
   ],
   "source": [
    "pip install --upgrade typing-extensions"
   ]
  },
  {
   "cell_type": "code",
   "execution_count": 2,
   "id": "81e8f067-d5bd-42e9-8cd4-a8ea8ef90c13",
   "metadata": {},
   "outputs": [
    {
     "name": "stdout",
     "output_type": "stream",
     "text": [
      "tensorflow-macos 2.13.0 has requirement typing-extensions<4.6.0,>=3.6.6, but you have typing-extensions 4.12.2.\n",
      "Note: you may need to restart the kernel to use updated packages.\n"
     ]
    }
   ],
   "source": [
    "pip check\n"
   ]
  },
  {
   "cell_type": "code",
   "execution_count": null,
   "id": "d8d96deb-1fda-4d97-af2e-0e02f829b782",
   "metadata": {},
   "outputs": [],
   "source": [
    "pip install typing-extensions==4.5.0  # or any version <4.6.0 and >=3.6.6\n"
   ]
  },
  {
   "cell_type": "code",
   "execution_count": 2,
   "id": "c4c9f33d-7787-4156-9582-43d8fe5d2279",
   "metadata": {},
   "outputs": [
    {
     "name": "stdout",
     "output_type": "stream",
     "text": [
      "\u001b[31mERROR: Could not find a version that satisfies the requirement KerasRegressor (from versions: none)\u001b[0m\u001b[31m\n",
      "\u001b[0m\u001b[31mERROR: No matching distribution found for KerasRegressor\u001b[0m\u001b[31m\n",
      "\u001b[0mNote: you may need to restart the kernel to use updated packages.\n"
     ]
    }
   ],
   "source": [
    "pip install KerasRegressor"
   ]
  },
  {
   "cell_type": "code",
   "execution_count": null,
   "id": "24212790-585c-4ca6-b552-c4413fabd12e",
   "metadata": {},
   "outputs": [],
   "source": [
    "import plotly.graph_objects as go\n",
    "from plotly.subplots import make_subplots\n",
    "\n",
    "# Define the selected tickers from different regions and sectors\n",
    "selected_tickers = ['AAPL US EQUITY', 'HSI INDEX', 'NKY INDEX ', 'GOOGL', 'VOD LN EQUITY']\n",
    "\n",
    "# Create a subplot for each selected ticker\n",
    "fig = make_subplots(rows=len(selected_tickers), cols=1, shared_xaxes=True,\n",
    "                    vertical_spacing=0.02, subplot_titles=[f'{ticker} Rolling Averages' for ticker in selected_tickers])\n",
    "\n",
    "# Loop through each ticker to add traces\n",
    "for i, ticker in enumerate(selected_tickers, start=1):\n",
    "    # Fetch the data for the ticker\n",
    "    ticker_data = cleaned_data[cleaned_data['Ticker'] == ticker].copy()\n",
    "    \n",
    "    if ticker_data.empty:\n",
    "        print(f\"No data available for {ticker}. Skipping...\")\n",
    "        continue\n",
    "\n",
    "    # Calculate 50-day and 200-day moving averages\n",
    "    ticker_data['50-Day MA'] = ticker_data['Last Price'].rolling(window=50).mean()\n",
    "    ticker_data['200-Day MA'] = ticker_data['Last Price'].rolling(window=200).mean()\n",
    "\n",
    "    # Add traces for Last Price, 50-day MA, and 200-day MA\n",
    "    fig.add_trace(go.Scatter(x=ticker_data['Dates'], y=ticker_data['Last Price'], mode='lines', name=f'{ticker} Last Price', line=dict(color='grey', width=1)), row=i, col=1)\n",
    "    fig.add_trace(go.Scatter(x=ticker_data['Dates'], y=ticker_data['50-Day MA'], mode='lines', name=f'{ticker} 50-Day MA', line=dict(color='blue', width=2)), row=i, col=1)\n",
    "    fig.add_trace(go.Scatter(x=ticker_data['Dates'], y=ticker_data['200-Day MA'], mode='lines', name=f'{ticker} 200-Day MA', line=dict(color='red', width=2)), row=i, col=1)\n",
    "\n",
    "    # Set grid lines and update layout for each subplot\n",
    "    fig.update_yaxes(showgrid=True, gridcolor='lightgray', row=i, col=1)\n",
    "\n",
    "# Update overall layout\n",
    "fig.update_layout(\n",
    "    height=1800,  # Adjusted height for clarity\n",
    "    width=1200,\n",
    "    title_text=\"Trend Analysis with 50-Day and 200-Day Moving Averages for Selected Tickers\",\n",
    "    showlegend=True,\n",
    "    plot_bgcolor='white',\n",
    "    paper_bgcolor='white'\n",
    ")\n",
    "\n",
    "# Show the plot\n",
    "fig.show()\n"
   ]
  },
  {
   "cell_type": "code",
   "execution_count": null,
   "id": "1d3486a1-7347-4991-a393-89ee44b10e50",
   "metadata": {},
   "outputs": [],
   "source": [
    "import pandas as pd\n",
    "\n",
    "# Function to calculate RSI\n",
    "def calculate_rsi(data, window=14):\n",
    "    delta = data.diff()\n",
    "    gain = (delta.where(delta > 0, 0)).rolling(window=window).mean()\n",
    "    loss = (-delta.where(delta < 0, 0)).rolling(window=window).mean()\n",
    "    rs = gain / loss\n",
    "    rsi = 100 - (100 / (1 + rs))\n",
    "    return rsi\n",
    "\n",
    "# Ensure the DataFrame is sorted by Dates for each Ticker\n",
    "cleaned_data = cleaned_data.sort_values(by=['Ticker', 'Dates'])\n",
    "\n",
    "# Apply RSI calculation\n",
    "cleaned_data['RSI'] = cleaned_data.groupby('Ticker')['Last Price'].apply(calculate_rsi).reset_index(level=0, drop=True)\n",
    "\n",
    "# Display the first few rows of the updated DataFrame\n",
    "print(cleaned_data[['Dates', 'Last Price', 'Volume', 'Ticker', 'RSI']].head(20))\n"
   ]
  },
  {
   "cell_type": "code",
   "execution_count": null,
   "id": "1cafb680-03b1-4602-8480-80551f84e9ec",
   "metadata": {},
   "outputs": [],
   "source": [
    "import pandas as pd\n",
    "\n",
    "# Define the MACD calculation function\n",
    "def calculate_macd(data, short_window=12, long_window=26, signal_window=9):\n",
    "    short_ema = data['Last Price'].ewm(span=short_window, adjust=False).mean()\n",
    "    long_ema = data['Last Price'].ewm(span=long_window, adjust=False).mean()\n",
    "    macd = short_ema - long_ema\n",
    "    signal = macd.ewm(span=signal_window, adjust=False).mean()\n",
    "    macd_hist = macd - signal\n",
    "    return macd, signal, macd_hist\n",
    "\n",
    "# Initialize lists to store the MACD values\n",
    "macd_list = []\n",
    "signal_list = []\n",
    "hist_list = []\n",
    "\n",
    "# Calculate MACD for each ticker\n",
    "for ticker in cleaned_data['Ticker'].unique():\n",
    "    ticker_data = cleaned_data[cleaned_data['Ticker'] == ticker]\n",
    "    macd, signal, hist = calculate_macd(ticker_data)\n",
    "    macd_list.extend(macd)\n",
    "    signal_list.extend(signal)\n",
    "    hist_list.extend(hist)\n",
    "\n",
    "# Add the MACD values to the cleaned_data DataFrame\n",
    "cleaned_data['MACD'] = macd_list\n",
    "cleaned_data['MACD_Signal'] = signal_list\n",
    "cleaned_data['MACD_Hist'] = hist_list\n",
    "\n",
    "# Display the first few rows of the updated DataFrame\n",
    "print(cleaned_data[['Dates', 'Last Price', 'Volume', 'Ticker', 'MACD', 'MACD_Signal', 'MACD_Hist']].head(20))\n"
   ]
  },
  {
   "cell_type": "code",
   "execution_count": null,
   "id": "d5bbb414-a80d-40ac-acf5-87b63c990cb7",
   "metadata": {},
   "outputs": [],
   "source": [
    "import plotly.graph_objects as go\n",
    "from plotly.subplots import make_subplots\n",
    "\n",
    "# Define the selected tickers for plotting\n",
    "selected_tickers = ['AAPL US EQUITY', 'HSI INDEX', 'NKY INDEX ', 'GOOGL', 'VOD LN EQUITY']\n",
    "\n",
    "# Define colors for the tickers\n",
    "colors = ['blue', 'green', 'purple', 'orange', 'cyan']\n",
    "\n",
    "# Create a subplot for each ticker with two rows: one for RSI and one for MACD\n",
    "fig = make_subplots(rows=len(selected_tickers) * 2, cols=1, shared_xaxes=True, \n",
    "                    vertical_spacing=0.05, subplot_titles=[f'{ticker} RSI' for ticker in selected_tickers] + \n",
    "                                                      [f'{ticker} MACD' for ticker in selected_tickers])\n",
    "\n",
    "for i, ticker in enumerate(selected_tickers):\n",
    "    ticker_data = cleaned_data[cleaned_data['Ticker'] == ticker]\n",
    "    \n",
    "    # Plot RSI\n",
    "    fig.add_trace(go.Scatter(x=ticker_data['Dates'], y=ticker_data['RSI'], mode='lines', name=f'{ticker} RSI',\n",
    "                             line=dict(color=colors[i])), row=i*2+1, col=1)\n",
    "    fig.add_trace(go.Scatter(x=ticker_data['Dates'], y=[70]*len(ticker_data), mode='lines', name='Overbought (70)',\n",
    "                             line=dict(color='red', dash='dash')), row=i*2+1, col=1)\n",
    "    fig.add_trace(go.Scatter(x=ticker_data['Dates'], y=[30]*len(ticker_data), mode='lines', name='Oversold (30)',\n",
    "                             line=dict(color='black', dash='dash')), row=i*2+1, col=1)\n",
    "\n",
    "    # Plot MACD\n",
    "    fig.add_trace(go.Scatter(x=ticker_data['Dates'], y=ticker_data['MACD'], mode='lines', name=f'{ticker} MACD',\n",
    "                             line=dict(color=colors[i])), row=i*2+2, col=1)\n",
    "    fig.add_trace(go.Scatter(x=ticker_data['Dates'], y=ticker_data['MACD_Signal'], mode='lines', name=f'{ticker} MACD Signal',\n",
    "                             line=dict(color='red')), row=i*2+2, col=1)\n",
    "    fig.add_trace(go.Bar(x=ticker_data['Dates'], y=ticker_data['MACD_Hist'], name=f'{ticker} MACD Histogram',\n",
    "                         marker=dict(color='green')), row=i*2+2, col=1)\n",
    "\n",
    "# Update layout\n",
    "for axis in fig.layout:\n",
    "    if 'xaxis' in axis:\n",
    "        fig.update_layout({axis: dict(showgrid=True, gridcolor='black')})\n",
    "    if 'yaxis' in axis:\n",
    "        fig.update_layout({axis: dict(showgrid=True, gridcolor='black')})\n",
    "\n",
    "fig.update_layout(\n",
    "    title='RSI and MACD for Selected Tickers',\n",
    "    height=1800, width=1300,\n",
    "    plot_bgcolor='white',\n",
    "    paper_bgcolor='white',\n",
    "    showlegend=True,\n",
    "    legend=dict(x=1, y=1)\n",
    ")\n",
    "\n",
    "# Show the plot\n",
    "fig.show()\n"
   ]
  },
  {
   "cell_type": "code",
   "execution_count": null,
   "id": "eeaee1f6-baf5-4eb4-980a-d12dbd35b1e2",
   "metadata": {},
   "outputs": [],
   "source": [
    "# Example for LSTM model preparation\n",
    "time_steps = 60  # Define the sequence length\n",
    "\n",
    "def create_sequences(data, time_steps):\n",
    "    X, y = [], []\n",
    "    for i in range(len(data) - time_steps):\n",
    "        X.append(data.iloc[i:(i + time_steps)].values)\n",
    "        y.append(data.iloc[i + time_steps])\n",
    "    return np.array(X), np.array(y)\n",
    "\n",
    "X_train_seq, y_train_seq = create_sequences(X_train, time_steps)\n",
    "X_test_seq, y_test_seq = create_sequences(X_test, time_steps)\n"
   ]
  },
  {
   "cell_type": "code",
   "execution_count": null,
   "id": "922d9580-7136-47ee-a092-1b9ab83be90c",
   "metadata": {},
   "outputs": [],
   "source": [
    "from sklearn.preprocessing import StandardScaler\n",
    "\n",
    "# Assuming 'cleaned_data' is your DataFrame and contains features like 'Last Price' and 'Volume'\n",
    "features = ['Last Price', 'Volume']\n",
    "scaler = StandardScaler()\n",
    "\n",
    "# Fit the scaler on the training data and transform both training and test data\n",
    "cleaned_data[features] = scaler.fit_transform(cleaned_data[features])\n",
    "\n",
    "# Display the scaled features\n",
    "print(cleaned_data.head())\n"
   ]
  },
  {
   "cell_type": "code",
   "execution_count": null,
   "id": "cbd3d486-7b13-4c79-8a87-2ddc548fd086",
   "metadata": {},
   "outputs": [],
   "source": [
    "# Define a split point for the last part of the data to be used as the test set\n",
    "split_ratio = 0.8\n",
    "split_index = int(len(cleaned_data) * split_ratio)\n",
    "\n",
    "# Split the data\n",
    "train_data = cleaned_data.iloc[:split_index]\n",
    "test_data = cleaned_data.iloc[split_index:]\n",
    "\n",
    "# Print the shapes to verify the split\n",
    "print(f\"Train data shape: {train_data.shape}\")\n",
    "print(f\"Test data shape: {test_data.shape}\")\n"
   ]
  },
  {
   "cell_type": "code",
   "execution_count": null,
   "id": "29b98e95-1977-452e-af17-ae9504f23440",
   "metadata": {},
   "outputs": [],
   "source": [
    "pip install keras-tuner"
   ]
  },
  {
   "cell_type": "code",
   "execution_count": null,
   "id": "b572661a-8eb1-4b9f-b388-018eb8181b72",
   "metadata": {},
   "outputs": [],
   "source": []
  }
 ],
 "metadata": {
  "kernelspec": {
   "display_name": "Python 3 (ipykernel)",
   "language": "python",
   "name": "python3"
  },
  "language_info": {
   "codemirror_mode": {
    "name": "ipython",
    "version": 3
   },
   "file_extension": ".py",
   "mimetype": "text/x-python",
   "name": "python",
   "nbconvert_exporter": "python",
   "pygments_lexer": "ipython3",
   "version": "3.8.19"
  }
 },
 "nbformat": 4,
 "nbformat_minor": 5
}
