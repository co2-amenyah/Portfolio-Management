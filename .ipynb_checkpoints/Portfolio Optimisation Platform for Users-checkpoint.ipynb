{
 "cells": [
  {
   "cell_type": "markdown",
   "id": "dd0efedc-aa38-412d-8470-26cd9ad686f8",
   "metadata": {},
   "source": [
    "# <center>**STRUCTURING AND IMPORTING THE NECESSARY LIBRARIES FOR UI AND BACKEND**</center>"
   ]
  },
  {
   "cell_type": "code",
   "execution_count": 1,
   "id": "23df295a-c77e-4536-b2f2-ee9815912eba",
   "metadata": {},
   "outputs": [],
   "source": [
    "# Import necessary libraries\n",
    "import pandas as pd                      # Data manipulation and analysis\n",
    "import numpy as np                       # Numerical operations\n",
    "import yfinance as yf                    # Downloading historical market data\n",
    "import matplotlib.pyplot as plt          # Static and interactive visualizations\n",
    "import seaborn as sns                    # Statistical data visualization\n",
    "import plotly.express as px              # Interactive plots and dashboards\n",
    "import statsmodels.api as sm             # Statistical modeling and hypothesis testing\n",
    "import tensorflow as tf                  # Building and training neural networks\n",
    "from sklearn.model_selection import train_test_split  # Splitting data\n",
    "import cvxopt                           # For quadratic programming\n",
    "import scipy                            # For optimization tasks\n",
    "import ipywidgets as widgets             # For creating interactive UI elements in Jupyter\n"
   ]
  },
  {
   "cell_type": "markdown",
   "id": "ad328d0f-9262-4c16-b9b4-ea7c2112c7b8",
   "metadata": {},
   "source": [
    "#### <u>**USER PROFILE MANAGEMENT**</u>"
   ]
  },
  {
   "cell_type": "code",
   "execution_count": 2,
   "id": "04520438-5c49-4023-935e-f2019ec59c41",
   "metadata": {},
   "outputs": [
    {
     "name": "stderr",
     "output_type": "stream",
     "text": [
      "2024-07-02 03:09:26.772 \n",
      "  \u001b[33m\u001b[1mWarning:\u001b[0m to view this Streamlit app on a browser, run it with the following\n",
      "  command:\n",
      "\n",
      "    streamlit run /Users/CHARLES/anaconda3/envs/old_python_env/lib/python3.8/site-packages/ipykernel_launcher.py [ARGUMENTS]\n",
      "2024-07-02 03:09:26.772 Session state does not function when running a script without `streamlit run`\n"
     ]
    }
   ],
   "source": [
    "# app.py\n",
    "\n",
    "import streamlit as st\n",
    "\n",
    "class UserProfile:\n",
    "    def __init__(self, name, age, investment_objectives, risk_tolerance, benchmark, investment_horizon, current_allocation, preferred_classes, expected_returns, budget):\n",
    "        self.name = name\n",
    "        self.age = age\n",
    "        self.investment_objectives = investment_objectives\n",
    "        self.risk_tolerance = risk_tolerance\n",
    "        self.benchmark = benchmark\n",
    "        self.investment_horizon = investment_horizon\n",
    "        self.current_allocation = current_allocation\n",
    "        self.preferred_classes = preferred_classes\n",
    "        self.expected_returns = expected_returns\n",
    "        self.budget = budget\n",
    "\n",
    "    def display_profile(self):\n",
    "        st.write(f\"Name: {self.name}\")\n",
    "        st.write(f\"Age: {self.age}\")\n",
    "        st.write(f\"Investment Objectives: {self.investment_objectives}\")\n",
    "        st.write(f\"Risk Tolerance: {self.risk_tolerance}\")\n",
    "        st.write(f\"Benchmark: {self.benchmark}\")\n",
    "        st.write(f\"Investment Horizon: {self.investment_horizon}\")\n",
    "        st.write(f\"Current Allocation: {self.current_allocation}\")\n",
    "        st.write(f\"Preferred Asset Classes: {self.preferred_classes}\")\n",
    "        st.write(f\"Expected Returns: {self.expected_returns}\")\n",
    "        st.write(f\"Budget: {self.budget}\")\n",
    "\n",
    "# Streamlit UI for user profile input\n",
    "def user_profile_ui():\n",
    "    st.title(\"User Profile Management\")\n",
    "\n",
    "    name = st.text_input(\"Name\")\n",
    "    age = st.number_input(\"Age\", min_value=0)\n",
    "    investment_objectives = st.text_input(\"Investment Objectives\")\n",
    "    risk_tolerance = st.selectbox(\"Risk Tolerance\", [\"Low\", \"Moderate\", \"High\"])\n",
    "    benchmark = st.text_input(\"Benchmark\")\n",
    "    investment_horizon = st.number_input(\"Investment Horizon (years)\", min_value=0)\n",
    "    current_allocation = st.text_area(\"Current Allocation (e.g., {'Equities': 60, 'Bonds': 30, 'Cash': 10})\")\n",
    "    preferred_classes = st.text_area(\"Preferred Asset Classes (e.g., ['Equities', 'Bonds'])\")\n",
    "    expected_returns = st.number_input(\"Expected Returns\", min_value=0.0, max_value=1.0)\n",
    "    budget = st.number_input(\"Budget\", min_value=0.0)\n",
    "\n",
    "    if st.button(\"Submit\"):\n",
    "        # Convert string inputs to proper data types\n",
    "        current_allocation = eval(current_allocation)\n",
    "        preferred_classes = eval(preferred_classes)\n",
    "\n",
    "        user = UserProfile(\n",
    "            name=name,\n",
    "            age=age,\n",
    "            investment_objectives=investment_objectives,\n",
    "            risk_tolerance=risk_tolerance,\n",
    "            benchmark=benchmark,\n",
    "            investment_horizon=investment_horizon,\n",
    "            current_allocation=current_allocation,\n",
    "            preferred_classes=preferred_classes,\n",
    "            expected_returns=expected_returns,\n",
    "            budget=budget\n",
    "        )\n",
    "        user.display_profile()\n",
    "        return user\n",
    "    return None\n",
    "\n",
    "# Main function to run the app\n",
    "if __name__ == \"__main__\":\n",
    "    user = user_profile_ui()\n"
   ]
  },
  {
   "cell_type": "code",
   "execution_count": null,
   "id": "dd532526-f777-4a52-a972-88815f27f31e",
   "metadata": {},
   "outputs": [],
   "source": []
  }
 ],
 "metadata": {
  "kernelspec": {
   "display_name": "Python 3 (ipykernel)",
   "language": "python",
   "name": "python3"
  },
  "language_info": {
   "codemirror_mode": {
    "name": "ipython",
    "version": 3
   },
   "file_extension": ".py",
   "mimetype": "text/x-python",
   "name": "python",
   "nbconvert_exporter": "python",
   "pygments_lexer": "ipython3",
   "version": "3.8.19"
  }
 },
 "nbformat": 4,
 "nbformat_minor": 5
}
